{
 "cells": [
  {
   "cell_type": "markdown",
   "metadata": {},
   "source": [
    "Dane o ofertach pobrane ze strony: https://www.otomoto.pl/?category=motocykle-i-quady\n",
    "Komenda do pobrania danych - poniżej w komentarzu (aby nie uruchamiać jej).\n",
    "Dane z dnia 2019-04-19 już są pobrane do pliku ./scrapy_motory/motory.json"
   ]
  },
  {
   "cell_type": "code",
   "execution_count": 717,
   "metadata": {},
   "outputs": [],
   "source": [
    "%matplotlib inline"
   ]
  },
  {
   "cell_type": "code",
   "execution_count": 718,
   "metadata": {},
   "outputs": [],
   "source": [
    "# data pobrania danych - posłuży nam potem do przeliczalnia na PLN po kursie średnim sz tego dnia\n",
    "data_pobrania_danych='2019-02-01'"
   ]
  },
  {
   "cell_type": "code",
   "execution_count": 719,
   "metadata": {},
   "outputs": [],
   "source": [
    "#%%cmd\n",
    "#cd scrapy_motory\n",
    "#scrapy crawl motory -o motory.json"
   ]
  },
  {
   "cell_type": "markdown",
   "metadata": {},
   "source": [
    "Wczytujemy dane z pliku JSON"
   ]
  },
  {
   "cell_type": "code",
   "execution_count": 720,
   "metadata": {},
   "outputs": [
    {
     "data": {
      "text/plain": [
       "{'Oferta od': 'Osoby prywatnej',\n",
       " 'Kategoria': 'Motocykle',\n",
       " 'Marka pojazdu': 'Kymco',\n",
       " 'Model pojazdu': 'Inny',\n",
       " 'Rok produkcji': '2017',\n",
       " 'Przebieg': '5 400 km',\n",
       " 'Pojemność skokowa': '125 cm3',\n",
       " 'Moc': '15 KM',\n",
       " 'Rodzaj napędu': 'Pas napędowy',\n",
       " 'Typ Silnika': 'Czterosuwowy',\n",
       " 'Rodzaj paliwa': 'Benzyna',\n",
       " 'Skrzynia biegów': 'Automatyczna',\n",
       " 'Typ': 'Skuter',\n",
       " 'Kolor': 'Szary',\n",
       " 'Metalik': 'Tak',\n",
       " 'VAT marża': 'Tak',\n",
       " 'Kraj pochodzenia': 'Francja',\n",
       " 'Pierwszy właściciel': 'Tak',\n",
       " 'Bezwypadkowy': 'Tak',\n",
       " 'Stan': 'Używane',\n",
       " 'Lokalizacja': 'Rąbień, gm. Aleksandrów Łódzki, zgierski, Łódzkie',\n",
       " 'Link': 'https://www.otomoto.pl/oferta/kymco-kymco-125-xtown-2017-r-nowy-model-ID6BPzqv.html',\n",
       " 'Cena': '11500',\n",
       " 'Waluta': 'PLN'}"
      ]
     },
     "execution_count": 720,
     "metadata": {},
     "output_type": "execute_result"
    }
   ],
   "source": [
    "import pandas as pd\n",
    "pd.set_option('display.max_rows', 500)\n",
    "pd.set_option('display.max_columns', 60)\n",
    "import json\n",
    "import seaborn as sns\n",
    "import numpy as np\n",
    "\n",
    "with open('./scrapy_motory/motory.json') as plik_json:\n",
    "    data = json.load(plik_json)\n",
    "data[2]"
   ]
  },
  {
   "cell_type": "code",
   "execution_count": 721,
   "metadata": {},
   "outputs": [],
   "source": [
    "dane = pd.DataFrame.from_dict(data)"
   ]
  },
  {
   "cell_type": "markdown",
   "metadata": {},
   "source": [
    "Wyświetlmy sobie nazwy kolumn i statystyki o danych"
   ]
  },
  {
   "cell_type": "code",
   "execution_count": 722,
   "metadata": {},
   "outputs": [
    {
     "data": {
      "text/plain": [
       "Index(['Bezwypadkowy', 'Cena', 'Faktura VAT', 'Kategoria', 'Kolor',\n",
       "       'Kraj pochodzenia', 'Leasing', 'Liczba pozostałych rat', 'Link',\n",
       "       'Lokalizacja', 'Marka pojazdu', 'Matowy', 'Metalik', 'Miesięczna rata',\n",
       "       'Moc', 'Model pojazdu', 'Możliwość finansowania',\n",
       "       'Numer rejestracyjny pojazdu', 'Oferta od', 'Opłata początkowa',\n",
       "       'Perłowy', 'Pierwsza rejestracja', 'Pierwszy właściciel',\n",
       "       'Pojemność skokowa', 'Przebieg', 'Rodzaj napędu', 'Rodzaj paliwa',\n",
       "       'Rok produkcji', 'Serwisowany w ASO', 'Skrzynia biegów', 'Stan',\n",
       "       'Tuning', 'Typ', 'Typ Silnika', 'Uszkodzony', 'VAT marża', 'VIN',\n",
       "       'Waluta', 'Wartość wykupu', 'Zarejestrowany jako zabytek',\n",
       "       'Zarejestrowany w Polsce'],\n",
       "      dtype='object')"
      ]
     },
     "execution_count": 722,
     "metadata": {},
     "output_type": "execute_result"
    }
   ],
   "source": [
    "dane.columns"
   ]
  },
  {
   "cell_type": "code",
   "execution_count": 723,
   "metadata": {},
   "outputs": [
    {
     "data": {
      "text/plain": [
       "Bezwypadkowy                   object\n",
       "Cena                           object\n",
       "Faktura VAT                    object\n",
       "Kategoria                      object\n",
       "Kolor                          object\n",
       "Kraj pochodzenia               object\n",
       "Leasing                        object\n",
       "Liczba pozostałych rat         object\n",
       "Link                           object\n",
       "Lokalizacja                    object\n",
       "Marka pojazdu                  object\n",
       "Matowy                         object\n",
       "Metalik                        object\n",
       "Miesięczna rata                object\n",
       "Moc                            object\n",
       "Model pojazdu                  object\n",
       "Możliwość finansowania         object\n",
       "Numer rejestracyjny pojazdu    object\n",
       "Oferta od                      object\n",
       "Opłata początkowa              object\n",
       "Perłowy                        object\n",
       "Pierwsza rejestracja           object\n",
       "Pierwszy właściciel            object\n",
       "Pojemność skokowa              object\n",
       "Przebieg                       object\n",
       "Rodzaj napędu                  object\n",
       "Rodzaj paliwa                  object\n",
       "Rok produkcji                  object\n",
       "Serwisowany w ASO              object\n",
       "Skrzynia biegów                object\n",
       "Stan                           object\n",
       "Tuning                         object\n",
       "Typ                            object\n",
       "Typ Silnika                    object\n",
       "Uszkodzony                     object\n",
       "VAT marża                      object\n",
       "VIN                            object\n",
       "Waluta                         object\n",
       "Wartość wykupu                 object\n",
       "Zarejestrowany jako zabytek    object\n",
       "Zarejestrowany w Polsce        object\n",
       "dtype: object"
      ]
     },
     "execution_count": 723,
     "metadata": {},
     "output_type": "execute_result"
    }
   ],
   "source": [
    "dane.dtypes"
   ]
  },
  {
   "cell_type": "code",
   "execution_count": 724,
   "metadata": {
    "scrolled": true
   },
   "outputs": [
    {
     "name": "stdout",
     "output_type": "stream",
     "text": [
      "<class 'pandas.core.frame.DataFrame'>\n",
      "RangeIndex: 17574 entries, 0 to 17573\n",
      "Data columns (total 41 columns):\n",
      "Bezwypadkowy                   11086 non-null object\n",
      "Cena                           17574 non-null object\n",
      "Faktura VAT                    5947 non-null object\n",
      "Kategoria                      17574 non-null object\n",
      "Kolor                          17573 non-null object\n",
      "Kraj pochodzenia               8781 non-null object\n",
      "Leasing                        1775 non-null object\n",
      "Liczba pozostałych rat         95 non-null object\n",
      "Link                           17574 non-null object\n",
      "Lokalizacja                    17574 non-null object\n",
      "Marka pojazdu                  17574 non-null object\n",
      "Matowy                         1450 non-null object\n",
      "Metalik                        5977 non-null object\n",
      "Miesięczna rata                95 non-null object\n",
      "Moc                            11788 non-null object\n",
      "Model pojazdu                  17485 non-null object\n",
      "Możliwość finansowania         5389 non-null object\n",
      "Numer rejestracyjny pojazdu    658 non-null object\n",
      "Oferta od                      17574 non-null object\n",
      "Opłata początkowa              93 non-null object\n",
      "Perłowy                        1804 non-null object\n",
      "Pierwsza rejestracja           2859 non-null object\n",
      "Pierwszy właściciel            3445 non-null object\n",
      "Pojemność skokowa              15852 non-null object\n",
      "Przebieg                       17573 non-null object\n",
      "Rodzaj napędu                  13851 non-null object\n",
      "Rodzaj paliwa                  17574 non-null object\n",
      "Rok produkcji                  17574 non-null object\n",
      "Serwisowany w ASO              2811 non-null object\n",
      "Skrzynia biegów                12950 non-null object\n",
      "Stan                           17574 non-null object\n",
      "Tuning                         665 non-null object\n",
      "Typ                            17574 non-null object\n",
      "Typ Silnika                    13339 non-null object\n",
      "Uszkodzony                     390 non-null object\n",
      "VAT marża                      3798 non-null object\n",
      "VIN                            1926 non-null object\n",
      "Waluta                         17574 non-null object\n",
      "Wartość wykupu                 94 non-null object\n",
      "Zarejestrowany jako zabytek    18 non-null object\n",
      "Zarejestrowany w Polsce        5308 non-null object\n",
      "dtypes: object(41)\n",
      "memory usage: 5.5+ MB\n"
     ]
    }
   ],
   "source": [
    "dane.info()"
   ]
  },
  {
   "cell_type": "code",
   "execution_count": 725,
   "metadata": {},
   "outputs": [
    {
     "data": {
      "text/html": [
       "<div>\n",
       "<style scoped>\n",
       "    .dataframe tbody tr th:only-of-type {\n",
       "        vertical-align: middle;\n",
       "    }\n",
       "\n",
       "    .dataframe tbody tr th {\n",
       "        vertical-align: top;\n",
       "    }\n",
       "\n",
       "    .dataframe thead th {\n",
       "        text-align: right;\n",
       "    }\n",
       "</style>\n",
       "<table border=\"1\" class=\"dataframe\">\n",
       "  <thead>\n",
       "    <tr style=\"text-align: right;\">\n",
       "      <th></th>\n",
       "      <th>Bezwypadkowy</th>\n",
       "      <th>Cena</th>\n",
       "      <th>Faktura VAT</th>\n",
       "      <th>Kategoria</th>\n",
       "      <th>Kolor</th>\n",
       "      <th>Kraj pochodzenia</th>\n",
       "      <th>Leasing</th>\n",
       "      <th>Liczba pozostałych rat</th>\n",
       "      <th>Link</th>\n",
       "      <th>Lokalizacja</th>\n",
       "      <th>Marka pojazdu</th>\n",
       "      <th>Matowy</th>\n",
       "      <th>Metalik</th>\n",
       "      <th>Miesięczna rata</th>\n",
       "      <th>Moc</th>\n",
       "      <th>Model pojazdu</th>\n",
       "      <th>Możliwość finansowania</th>\n",
       "      <th>Numer rejestracyjny pojazdu</th>\n",
       "      <th>Oferta od</th>\n",
       "      <th>Opłata początkowa</th>\n",
       "      <th>Perłowy</th>\n",
       "      <th>Pierwsza rejestracja</th>\n",
       "      <th>Pierwszy właściciel</th>\n",
       "      <th>Pojemność skokowa</th>\n",
       "      <th>Przebieg</th>\n",
       "      <th>Rodzaj napędu</th>\n",
       "      <th>Rodzaj paliwa</th>\n",
       "      <th>Rok produkcji</th>\n",
       "      <th>Serwisowany w ASO</th>\n",
       "      <th>Skrzynia biegów</th>\n",
       "      <th>Stan</th>\n",
       "      <th>Tuning</th>\n",
       "      <th>Typ</th>\n",
       "      <th>Typ Silnika</th>\n",
       "      <th>Uszkodzony</th>\n",
       "      <th>VAT marża</th>\n",
       "      <th>VIN</th>\n",
       "      <th>Waluta</th>\n",
       "      <th>Wartość wykupu</th>\n",
       "      <th>Zarejestrowany jako zabytek</th>\n",
       "      <th>Zarejestrowany w Polsce</th>\n",
       "    </tr>\n",
       "  </thead>\n",
       "  <tbody>\n",
       "    <tr>\n",
       "      <th>count</th>\n",
       "      <td>11086</td>\n",
       "      <td>17574</td>\n",
       "      <td>5947</td>\n",
       "      <td>17574</td>\n",
       "      <td>17573</td>\n",
       "      <td>8781</td>\n",
       "      <td>1775</td>\n",
       "      <td>95</td>\n",
       "      <td>17574</td>\n",
       "      <td>17574</td>\n",
       "      <td>17574</td>\n",
       "      <td>1450</td>\n",
       "      <td>5977</td>\n",
       "      <td>95</td>\n",
       "      <td>11788</td>\n",
       "      <td>17485</td>\n",
       "      <td>5389</td>\n",
       "      <td>658</td>\n",
       "      <td>17574</td>\n",
       "      <td>93</td>\n",
       "      <td>1804</td>\n",
       "      <td>2859</td>\n",
       "      <td>3445</td>\n",
       "      <td>15852</td>\n",
       "      <td>17573</td>\n",
       "      <td>13851</td>\n",
       "      <td>17574</td>\n",
       "      <td>17574</td>\n",
       "      <td>2811</td>\n",
       "      <td>12950</td>\n",
       "      <td>17574</td>\n",
       "      <td>665</td>\n",
       "      <td>17574</td>\n",
       "      <td>13339</td>\n",
       "      <td>390</td>\n",
       "      <td>3798</td>\n",
       "      <td>1926</td>\n",
       "      <td>17574</td>\n",
       "      <td>94</td>\n",
       "      <td>18</td>\n",
       "      <td>5308</td>\n",
       "    </tr>\n",
       "    <tr>\n",
       "      <th>unique</th>\n",
       "      <td>1</td>\n",
       "      <td>2072</td>\n",
       "      <td>1</td>\n",
       "      <td>1</td>\n",
       "      <td>14</td>\n",
       "      <td>25</td>\n",
       "      <td>1</td>\n",
       "      <td>14</td>\n",
       "      <td>17574</td>\n",
       "      <td>2648</td>\n",
       "      <td>124</td>\n",
       "      <td>1</td>\n",
       "      <td>1</td>\n",
       "      <td>88</td>\n",
       "      <td>246</td>\n",
       "      <td>696</td>\n",
       "      <td>1</td>\n",
       "      <td>652</td>\n",
       "      <td>2</td>\n",
       "      <td>86</td>\n",
       "      <td>1</td>\n",
       "      <td>2061</td>\n",
       "      <td>1</td>\n",
       "      <td>539</td>\n",
       "      <td>4640</td>\n",
       "      <td>3</td>\n",
       "      <td>3</td>\n",
       "      <td>79</td>\n",
       "      <td>1</td>\n",
       "      <td>4</td>\n",
       "      <td>2</td>\n",
       "      <td>1</td>\n",
       "      <td>10</td>\n",
       "      <td>3</td>\n",
       "      <td>1</td>\n",
       "      <td>1</td>\n",
       "      <td>1918</td>\n",
       "      <td>2</td>\n",
       "      <td>84</td>\n",
       "      <td>1</td>\n",
       "      <td>1</td>\n",
       "    </tr>\n",
       "    <tr>\n",
       "      <th>top</th>\n",
       "      <td>Tak</td>\n",
       "      <td>19900</td>\n",
       "      <td>Tak</td>\n",
       "      <td>Motocykle</td>\n",
       "      <td>Czarny</td>\n",
       "      <td>Polska</td>\n",
       "      <td>Tak</td>\n",
       "      <td>36</td>\n",
       "      <td>https://www.otomoto.pl/oferta/yamaha-yz-250-2t...</td>\n",
       "      <td>ul. Wyzwolenia 408 B - 43-265 Mizerów, pszczyń...</td>\n",
       "      <td>Honda</td>\n",
       "      <td>Tak</td>\n",
       "      <td>Tak</td>\n",
       "      <td>823 PLN</td>\n",
       "      <td>15 KM</td>\n",
       "      <td>Inny</td>\n",
       "      <td>Tak</td>\n",
       "      <td>PGN66P5</td>\n",
       "      <td>Firmy</td>\n",
       "      <td>1 PLN</td>\n",
       "      <td>Tak</td>\n",
       "      <td>1 styczeń 2007</td>\n",
       "      <td>Tak</td>\n",
       "      <td>125 cm3</td>\n",
       "      <td>1 km</td>\n",
       "      <td>Łańcuch</td>\n",
       "      <td>Benzyna</td>\n",
       "      <td>2018</td>\n",
       "      <td>Tak</td>\n",
       "      <td>Manualna</td>\n",
       "      <td>Używane</td>\n",
       "      <td>Tak</td>\n",
       "      <td>Turystyczny</td>\n",
       "      <td>Czterosuwowy</td>\n",
       "      <td>Tak</td>\n",
       "      <td>Tak</td>\n",
       "      <td>00000000000000000</td>\n",
       "      <td>PLN</td>\n",
       "      <td>1 PLN</td>\n",
       "      <td>Tak</td>\n",
       "      <td>Tak</td>\n",
       "    </tr>\n",
       "    <tr>\n",
       "      <th>freq</th>\n",
       "      <td>11086</td>\n",
       "      <td>177</td>\n",
       "      <td>5947</td>\n",
       "      <td>17574</td>\n",
       "      <td>5044</td>\n",
       "      <td>3061</td>\n",
       "      <td>1775</td>\n",
       "      <td>41</td>\n",
       "      <td>1</td>\n",
       "      <td>333</td>\n",
       "      <td>2935</td>\n",
       "      <td>1450</td>\n",
       "      <td>5977</td>\n",
       "      <td>2</td>\n",
       "      <td>765</td>\n",
       "      <td>2096</td>\n",
       "      <td>5389</td>\n",
       "      <td>2</td>\n",
       "      <td>10649</td>\n",
       "      <td>3</td>\n",
       "      <td>1804</td>\n",
       "      <td>15</td>\n",
       "      <td>3445</td>\n",
       "      <td>2367</td>\n",
       "      <td>4794</td>\n",
       "      <td>7773</td>\n",
       "      <td>17407</td>\n",
       "      <td>2672</td>\n",
       "      <td>2811</td>\n",
       "      <td>9535</td>\n",
       "      <td>13465</td>\n",
       "      <td>665</td>\n",
       "      <td>3679</td>\n",
       "      <td>12528</td>\n",
       "      <td>390</td>\n",
       "      <td>3798</td>\n",
       "      <td>2</td>\n",
       "      <td>17459</td>\n",
       "      <td>3</td>\n",
       "      <td>18</td>\n",
       "      <td>5308</td>\n",
       "    </tr>\n",
       "  </tbody>\n",
       "</table>\n",
       "</div>"
      ],
      "text/plain": [
       "       Bezwypadkowy   Cena Faktura VAT  Kategoria   Kolor Kraj pochodzenia  \\\n",
       "count         11086  17574        5947      17574   17573             8781   \n",
       "unique            1   2072           1          1      14               25   \n",
       "top             Tak  19900         Tak  Motocykle  Czarny           Polska   \n",
       "freq          11086    177        5947      17574    5044             3061   \n",
       "\n",
       "       Leasing Liczba pozostałych rat  \\\n",
       "count     1775                     95   \n",
       "unique       1                     14   \n",
       "top        Tak                     36   \n",
       "freq      1775                     41   \n",
       "\n",
       "                                                     Link  \\\n",
       "count                                               17574   \n",
       "unique                                              17574   \n",
       "top     https://www.otomoto.pl/oferta/yamaha-yz-250-2t...   \n",
       "freq                                                    1   \n",
       "\n",
       "                                              Lokalizacja Marka pojazdu  \\\n",
       "count                                               17574         17574   \n",
       "unique                                               2648           124   \n",
       "top     ul. Wyzwolenia 408 B - 43-265 Mizerów, pszczyń...         Honda   \n",
       "freq                                                  333          2935   \n",
       "\n",
       "       Matowy Metalik Miesięczna rata    Moc Model pojazdu  \\\n",
       "count    1450    5977              95  11788         17485   \n",
       "unique      1       1              88    246           696   \n",
       "top       Tak     Tak         823 PLN  15 KM          Inny   \n",
       "freq     1450    5977               2    765          2096   \n",
       "\n",
       "       Możliwość finansowania Numer rejestracyjny pojazdu Oferta od  \\\n",
       "count                    5389                         658     17574   \n",
       "unique                      1                         652         2   \n",
       "top                       Tak                     PGN66P5     Firmy   \n",
       "freq                     5389                           2     10649   \n",
       "\n",
       "       Opłata początkowa Perłowy Pierwsza rejestracja Pierwszy właściciel  \\\n",
       "count                 93    1804                 2859                3445   \n",
       "unique                86       1                 2061                   1   \n",
       "top                1 PLN     Tak       1 styczeń 2007                 Tak   \n",
       "freq                   3    1804                   15                3445   \n",
       "\n",
       "       Pojemność skokowa Przebieg Rodzaj napędu Rodzaj paliwa Rok produkcji  \\\n",
       "count              15852    17573         13851         17574         17574   \n",
       "unique               539     4640             3             3            79   \n",
       "top              125 cm3     1 km       Łańcuch       Benzyna          2018   \n",
       "freq                2367     4794          7773         17407          2672   \n",
       "\n",
       "       Serwisowany w ASO Skrzynia biegów     Stan Tuning          Typ  \\\n",
       "count               2811           12950    17574    665        17574   \n",
       "unique                 1               4        2      1           10   \n",
       "top                  Tak        Manualna  Używane    Tak  Turystyczny   \n",
       "freq                2811            9535    13465    665         3679   \n",
       "\n",
       "         Typ Silnika Uszkodzony VAT marża                VIN Waluta  \\\n",
       "count          13339        390      3798               1926  17574   \n",
       "unique             3          1         1               1918      2   \n",
       "top     Czterosuwowy        Tak       Tak  00000000000000000    PLN   \n",
       "freq           12528        390      3798                  2  17459   \n",
       "\n",
       "       Wartość wykupu Zarejestrowany jako zabytek Zarejestrowany w Polsce  \n",
       "count              94                          18                    5308  \n",
       "unique             84                           1                       1  \n",
       "top             1 PLN                         Tak                     Tak  \n",
       "freq                3                          18                    5308  "
      ]
     },
     "execution_count": 725,
     "metadata": {},
     "output_type": "execute_result"
    }
   ],
   "source": [
    "dane.describe()"
   ]
  },
  {
   "cell_type": "markdown",
   "metadata": {},
   "source": [
    "# Kolumny do usunięcia po wstępnej analizie :\n",
    "|pole|dlaczego do skasowania|\n",
    "------------ | -------------|\n",
    "|**Kategoria**| wszystkie mają tę samą wartość: Motocykle|\n",
    "| **Link**|link do oferty (pomocniczy), każda oferta ma unikalny link|\n",
    "| **Numer rejestracyjny pojazdu**|każdy motor ma unikalny numer|\n",
    "|**VIN**| każdy motor ma unikalny numer|\n",
    "|**Bezwypadkowy**|60% ma wartość TAK, pozostale=brak danych (nie ma wartości NIE)- czyli w praktyce nie wiadomo czy zataił czy miał wypadek|\n",
    "|**Pierwsza rejestracja**|W większości brak danych, jeśli jest, to zazwyczaj jest najdalej rok produkcji + 1| \n",
    "\n",
    "\n",
    "### Pozostałe kolumny związane z finansowaniem - nie mają znaczenia w naszej analizie:\n",
    "Faktura VAT,Leasing,Liczba pozostałych rat,Miesięczna rata,Możliwość finansowania,Opłata początkowa,VAT marża,'Wartość wykupu<br>\n",
    "**Kasujemy te kolumny**"
   ]
  },
  {
   "cell_type": "code",
   "execution_count": 726,
   "metadata": {},
   "outputs": [],
   "source": [
    "skasuj_kolumny=[\n",
    "    'Lokalizacja','Kategoria','Link','Numer rejestracyjny pojazdu','VIN','Bezwypadkowy','Pierwsza rejestracja',\n",
    "    'Faktura VAT','Leasing','Liczba pozostałych rat','Miesięczna rata','Możliwość finansowania',\n",
    "    'Opłata początkowa','VAT marża','Wartość wykupu'\n",
    "]\n",
    "dane.drop(columns=skasuj_kolumny, inplace=True)"
   ]
  },
  {
   "cell_type": "code",
   "execution_count": 727,
   "metadata": {},
   "outputs": [
    {
     "data": {
      "text/html": [
       "<div>\n",
       "<style scoped>\n",
       "    .dataframe tbody tr th:only-of-type {\n",
       "        vertical-align: middle;\n",
       "    }\n",
       "\n",
       "    .dataframe tbody tr th {\n",
       "        vertical-align: top;\n",
       "    }\n",
       "\n",
       "    .dataframe thead th {\n",
       "        text-align: right;\n",
       "    }\n",
       "</style>\n",
       "<table border=\"1\" class=\"dataframe\">\n",
       "  <thead>\n",
       "    <tr style=\"text-align: right;\">\n",
       "      <th></th>\n",
       "      <th>Cena</th>\n",
       "      <th>Kolor</th>\n",
       "      <th>Kraj pochodzenia</th>\n",
       "      <th>Marka pojazdu</th>\n",
       "      <th>Matowy</th>\n",
       "      <th>Metalik</th>\n",
       "      <th>Moc</th>\n",
       "      <th>Model pojazdu</th>\n",
       "      <th>Oferta od</th>\n",
       "      <th>Perłowy</th>\n",
       "      <th>Pierwszy właściciel</th>\n",
       "      <th>Pojemność skokowa</th>\n",
       "      <th>Przebieg</th>\n",
       "      <th>Rodzaj napędu</th>\n",
       "      <th>Rodzaj paliwa</th>\n",
       "      <th>Rok produkcji</th>\n",
       "      <th>Serwisowany w ASO</th>\n",
       "      <th>Skrzynia biegów</th>\n",
       "      <th>Stan</th>\n",
       "      <th>Tuning</th>\n",
       "      <th>Typ</th>\n",
       "      <th>Typ Silnika</th>\n",
       "      <th>Uszkodzony</th>\n",
       "      <th>Waluta</th>\n",
       "      <th>Zarejestrowany jako zabytek</th>\n",
       "      <th>Zarejestrowany w Polsce</th>\n",
       "    </tr>\n",
       "  </thead>\n",
       "  <tbody>\n",
       "    <tr>\n",
       "      <th>0</th>\n",
       "      <td>6800</td>\n",
       "      <td>Niebieski</td>\n",
       "      <td>Niemcy</td>\n",
       "      <td>Suzuki</td>\n",
       "      <td>NaN</td>\n",
       "      <td>Tak</td>\n",
       "      <td>37 KM</td>\n",
       "      <td>XF</td>\n",
       "      <td>Firmy</td>\n",
       "      <td>NaN</td>\n",
       "      <td>NaN</td>\n",
       "      <td>680 cm3</td>\n",
       "      <td>60 000 km</td>\n",
       "      <td>Łańcuch</td>\n",
       "      <td>Benzyna</td>\n",
       "      <td>2000</td>\n",
       "      <td>NaN</td>\n",
       "      <td>Manualna</td>\n",
       "      <td>Używane</td>\n",
       "      <td>NaN</td>\n",
       "      <td>Enduro</td>\n",
       "      <td>Czterosuwowy</td>\n",
       "      <td>NaN</td>\n",
       "      <td>PLN</td>\n",
       "      <td>NaN</td>\n",
       "      <td>NaN</td>\n",
       "    </tr>\n",
       "    <tr>\n",
       "      <th>1</th>\n",
       "      <td>19500</td>\n",
       "      <td>Niebieski</td>\n",
       "      <td>Niemcy</td>\n",
       "      <td>Suzuki</td>\n",
       "      <td>NaN</td>\n",
       "      <td>Tak</td>\n",
       "      <td>98 KM</td>\n",
       "      <td>GSX</td>\n",
       "      <td>Osoby prywatnej</td>\n",
       "      <td>NaN</td>\n",
       "      <td>NaN</td>\n",
       "      <td>1 255 cm3</td>\n",
       "      <td>30 900 km</td>\n",
       "      <td>Łańcuch</td>\n",
       "      <td>Benzyna</td>\n",
       "      <td>2010</td>\n",
       "      <td>Tak</td>\n",
       "      <td>Manualna</td>\n",
       "      <td>Używane</td>\n",
       "      <td>NaN</td>\n",
       "      <td>Turystyczny</td>\n",
       "      <td>Czterosuwowy</td>\n",
       "      <td>NaN</td>\n",
       "      <td>PLN</td>\n",
       "      <td>NaN</td>\n",
       "      <td>NaN</td>\n",
       "    </tr>\n",
       "    <tr>\n",
       "      <th>2</th>\n",
       "      <td>11500</td>\n",
       "      <td>Szary</td>\n",
       "      <td>Francja</td>\n",
       "      <td>Kymco</td>\n",
       "      <td>NaN</td>\n",
       "      <td>Tak</td>\n",
       "      <td>15 KM</td>\n",
       "      <td>Inny</td>\n",
       "      <td>Osoby prywatnej</td>\n",
       "      <td>NaN</td>\n",
       "      <td>Tak</td>\n",
       "      <td>125 cm3</td>\n",
       "      <td>5 400 km</td>\n",
       "      <td>Pas napędowy</td>\n",
       "      <td>Benzyna</td>\n",
       "      <td>2017</td>\n",
       "      <td>NaN</td>\n",
       "      <td>Automatyczna</td>\n",
       "      <td>Używane</td>\n",
       "      <td>NaN</td>\n",
       "      <td>Skuter</td>\n",
       "      <td>Czterosuwowy</td>\n",
       "      <td>NaN</td>\n",
       "      <td>PLN</td>\n",
       "      <td>NaN</td>\n",
       "      <td>NaN</td>\n",
       "    </tr>\n",
       "    <tr>\n",
       "      <th>3</th>\n",
       "      <td>49000</td>\n",
       "      <td>Inny kolor</td>\n",
       "      <td>NaN</td>\n",
       "      <td>Harley-Davidson</td>\n",
       "      <td>NaN</td>\n",
       "      <td>Tak</td>\n",
       "      <td>NaN</td>\n",
       "      <td>Sportster</td>\n",
       "      <td>Firmy</td>\n",
       "      <td>NaN</td>\n",
       "      <td>NaN</td>\n",
       "      <td>1 202 cm3</td>\n",
       "      <td>1 km</td>\n",
       "      <td>Pas napędowy</td>\n",
       "      <td>Benzyna</td>\n",
       "      <td>2019</td>\n",
       "      <td>NaN</td>\n",
       "      <td>NaN</td>\n",
       "      <td>Nowe</td>\n",
       "      <td>NaN</td>\n",
       "      <td>Cruiser</td>\n",
       "      <td>Czterosuwowy</td>\n",
       "      <td>NaN</td>\n",
       "      <td>PLN</td>\n",
       "      <td>NaN</td>\n",
       "      <td>NaN</td>\n",
       "    </tr>\n",
       "    <tr>\n",
       "      <th>4</th>\n",
       "      <td>6900</td>\n",
       "      <td>Czarny</td>\n",
       "      <td>Niemcy</td>\n",
       "      <td>Honda</td>\n",
       "      <td>NaN</td>\n",
       "      <td>NaN</td>\n",
       "      <td>14 KM</td>\n",
       "      <td>CBR</td>\n",
       "      <td>Firmy</td>\n",
       "      <td>NaN</td>\n",
       "      <td>NaN</td>\n",
       "      <td>125 cm3</td>\n",
       "      <td>26 000 km</td>\n",
       "      <td>Łańcuch</td>\n",
       "      <td>Benzyna</td>\n",
       "      <td>2007</td>\n",
       "      <td>NaN</td>\n",
       "      <td>Manualna</td>\n",
       "      <td>Używane</td>\n",
       "      <td>NaN</td>\n",
       "      <td>Sportowy</td>\n",
       "      <td>NaN</td>\n",
       "      <td>NaN</td>\n",
       "      <td>PLN</td>\n",
       "      <td>NaN</td>\n",
       "      <td>Tak</td>\n",
       "    </tr>\n",
       "  </tbody>\n",
       "</table>\n",
       "</div>"
      ],
      "text/plain": [
       "    Cena       Kolor Kraj pochodzenia    Marka pojazdu Matowy Metalik    Moc  \\\n",
       "0   6800   Niebieski           Niemcy           Suzuki    NaN     Tak  37 KM   \n",
       "1  19500   Niebieski           Niemcy           Suzuki    NaN     Tak  98 KM   \n",
       "2  11500       Szary          Francja            Kymco    NaN     Tak  15 KM   \n",
       "3  49000  Inny kolor              NaN  Harley-Davidson    NaN     Tak    NaN   \n",
       "4   6900      Czarny           Niemcy            Honda    NaN     NaN  14 KM   \n",
       "\n",
       "  Model pojazdu        Oferta od Perłowy Pierwszy właściciel  \\\n",
       "0            XF            Firmy     NaN                 NaN   \n",
       "1           GSX  Osoby prywatnej     NaN                 NaN   \n",
       "2          Inny  Osoby prywatnej     NaN                 Tak   \n",
       "3     Sportster            Firmy     NaN                 NaN   \n",
       "4           CBR            Firmy     NaN                 NaN   \n",
       "\n",
       "  Pojemność skokowa   Przebieg Rodzaj napędu Rodzaj paliwa Rok produkcji  \\\n",
       "0           680 cm3  60 000 km       Łańcuch       Benzyna          2000   \n",
       "1         1 255 cm3  30 900 km       Łańcuch       Benzyna          2010   \n",
       "2           125 cm3   5 400 km  Pas napędowy       Benzyna          2017   \n",
       "3         1 202 cm3       1 km  Pas napędowy       Benzyna          2019   \n",
       "4           125 cm3  26 000 km       Łańcuch       Benzyna          2007   \n",
       "\n",
       "  Serwisowany w ASO Skrzynia biegów     Stan Tuning          Typ  \\\n",
       "0               NaN        Manualna  Używane    NaN       Enduro   \n",
       "1               Tak        Manualna  Używane    NaN  Turystyczny   \n",
       "2               NaN    Automatyczna  Używane    NaN       Skuter   \n",
       "3               NaN             NaN     Nowe    NaN      Cruiser   \n",
       "4               NaN        Manualna  Używane    NaN     Sportowy   \n",
       "\n",
       "    Typ Silnika Uszkodzony Waluta Zarejestrowany jako zabytek  \\\n",
       "0  Czterosuwowy        NaN    PLN                         NaN   \n",
       "1  Czterosuwowy        NaN    PLN                         NaN   \n",
       "2  Czterosuwowy        NaN    PLN                         NaN   \n",
       "3  Czterosuwowy        NaN    PLN                         NaN   \n",
       "4           NaN        NaN    PLN                         NaN   \n",
       "\n",
       "  Zarejestrowany w Polsce  \n",
       "0                     NaN  \n",
       "1                     NaN  \n",
       "2                     NaN  \n",
       "3                     NaN  \n",
       "4                     Tak  "
      ]
     },
     "execution_count": 727,
     "metadata": {},
     "output_type": "execute_result"
    }
   ],
   "source": [
    "dane.head()"
   ]
  },
  {
   "cell_type": "code",
   "execution_count": 728,
   "metadata": {},
   "outputs": [
    {
     "name": "stdout",
     "output_type": "stream",
     "text": [
      "0\n",
      "object\n"
     ]
    }
   ],
   "source": [
    "print(dane.Cena.isnull().sum())\n",
    "print(dane.Cena.dtype)"
   ]
  },
  {
   "cell_type": "code",
   "execution_count": 729,
   "metadata": {},
   "outputs": [],
   "source": [
    "# Separatorem dziesiętnym w polu Cena jest przecinek - ustawimy locale aby odpowiednio to obsłużył\n",
    "import locale\n",
    "locale.setlocale(locale.LC_ALL,'pl_PL')\n",
    "\n",
    "dane['Cena'] = pd.to_numeric(dane['Cena'], errors='coerce')\n",
    "# Kasujemy wiersze które nie mają ceny\n",
    "dane.drop(dane[dane['Cena'].isnull()].index,axis=0,inplace=True)"
   ]
  },
  {
   "cell_type": "markdown",
   "metadata": {},
   "source": [
    "# Analizujemy pole Waluta - są pojazdy w innych walutach, więc przeliczamy je na PLN po kursie średnim NBP z daty ściągnięcia danych ze strony \n",
    "Uwaga - jeśli będzie błąd pobrania danych z NB to proszę zmienić parametr `data_pobrania_danych` <br>\n",
    "na +/1-2 dni bo być może w tej dacie nie ma tabeli kursów NBP"
   ]
  },
  {
   "cell_type": "code",
   "execution_count": 730,
   "metadata": {},
   "outputs": [
    {
     "data": {
      "text/plain": [
       "Waluta\n",
       "EUR      115\n",
       "PLN    17447\n",
       "dtype: int64"
      ]
     },
     "execution_count": 730,
     "metadata": {},
     "output_type": "execute_result"
    }
   ],
   "source": [
    "dane.groupby('Waluta').size()"
   ]
  },
  {
   "cell_type": "code",
   "execution_count": 731,
   "metadata": {},
   "outputs": [
    {
     "data": {
      "text/plain": [
       "4.2706"
      ]
     },
     "execution_count": 731,
     "metadata": {},
     "output_type": "execute_result"
    }
   ],
   "source": [
    "import requests\n",
    "import json\n",
    "\n",
    "def pobierz_kurs_sredni_nbp(data,waluta):\n",
    "    \"\"\"Pobiera kurs średni NBP dla podanej daty (format daty: yyyy-mm-dd) oraz kodu waluty (np. EUR)\"\"\"\n",
    "    NBP_URL = f'http://api.nbp.pl/api/exchangerates/rates/A/{waluta}/{data}/'\n",
    "    response = requests.get(NBP_URL)\n",
    "    if(response.ok):\n",
    "        api_data = json.loads(response.content)\n",
    "        return api_data['rates'][0]['mid']\n",
    "    else:\n",
    "        response.raise_for_status()\n",
    "\n",
    "# test pobrania kursu\n",
    "pobierz_kurs_sredni_nbp(data_pobrania_danych,'EUR')"
   ]
  },
  {
   "cell_type": "code",
   "execution_count": 732,
   "metadata": {},
   "outputs": [],
   "source": [
    "# Cena - zamiana przecinka dziesiętnego na kropkę, a potem na INT\n",
    "# dane['Cena'] = dane['Cena'].str.replace(',','.')\n",
    "# dane['Cena'] = dane['Cena'].astype(float).astype(int)"
   ]
  },
  {
   "cell_type": "code",
   "execution_count": 733,
   "metadata": {},
   "outputs": [
    {
     "data": {
      "text/html": [
       "<div>\n",
       "<style scoped>\n",
       "    .dataframe tbody tr th:only-of-type {\n",
       "        vertical-align: middle;\n",
       "    }\n",
       "\n",
       "    .dataframe tbody tr th {\n",
       "        vertical-align: top;\n",
       "    }\n",
       "\n",
       "    .dataframe thead th {\n",
       "        text-align: right;\n",
       "    }\n",
       "</style>\n",
       "<table border=\"1\" class=\"dataframe\">\n",
       "  <thead>\n",
       "    <tr style=\"text-align: right;\">\n",
       "      <th></th>\n",
       "      <th>Cena</th>\n",
       "      <th>Kolor</th>\n",
       "      <th>Kraj pochodzenia</th>\n",
       "      <th>Marka pojazdu</th>\n",
       "      <th>Matowy</th>\n",
       "      <th>Metalik</th>\n",
       "      <th>Moc</th>\n",
       "      <th>Model pojazdu</th>\n",
       "      <th>Oferta od</th>\n",
       "      <th>Perłowy</th>\n",
       "      <th>Pierwszy właściciel</th>\n",
       "      <th>Pojemność skokowa</th>\n",
       "      <th>Przebieg</th>\n",
       "      <th>Rodzaj napędu</th>\n",
       "      <th>Rodzaj paliwa</th>\n",
       "      <th>Rok produkcji</th>\n",
       "      <th>Serwisowany w ASO</th>\n",
       "      <th>Skrzynia biegów</th>\n",
       "      <th>Stan</th>\n",
       "      <th>Tuning</th>\n",
       "      <th>Typ</th>\n",
       "      <th>Typ Silnika</th>\n",
       "      <th>Uszkodzony</th>\n",
       "      <th>Waluta</th>\n",
       "      <th>Zarejestrowany jako zabytek</th>\n",
       "      <th>Zarejestrowany w Polsce</th>\n",
       "    </tr>\n",
       "  </thead>\n",
       "  <tbody>\n",
       "    <tr>\n",
       "      <th>1777</th>\n",
       "      <td>7900.0</td>\n",
       "      <td>Niebieski</td>\n",
       "      <td>NaN</td>\n",
       "      <td>Yamaha</td>\n",
       "      <td>NaN</td>\n",
       "      <td>NaN</td>\n",
       "      <td>NaN</td>\n",
       "      <td>PW</td>\n",
       "      <td>Firmy</td>\n",
       "      <td>NaN</td>\n",
       "      <td>NaN</td>\n",
       "      <td>49 cm3</td>\n",
       "      <td>1 km</td>\n",
       "      <td>NaN</td>\n",
       "      <td>Benzyna</td>\n",
       "      <td>2019</td>\n",
       "      <td>NaN</td>\n",
       "      <td>NaN</td>\n",
       "      <td>Używane</td>\n",
       "      <td>NaN</td>\n",
       "      <td>Motorower</td>\n",
       "      <td>Dwusuwowy</td>\n",
       "      <td>NaN</td>\n",
       "      <td>PLN</td>\n",
       "      <td>NaN</td>\n",
       "      <td>NaN</td>\n",
       "    </tr>\n",
       "  </tbody>\n",
       "</table>\n",
       "</div>"
      ],
      "text/plain": [
       "        Cena      Kolor Kraj pochodzenia Marka pojazdu Matowy Metalik  Moc  \\\n",
       "1777  7900.0  Niebieski              NaN        Yamaha    NaN     NaN  NaN   \n",
       "\n",
       "     Model pojazdu Oferta od Perłowy Pierwszy właściciel Pojemność skokowa  \\\n",
       "1777            PW     Firmy     NaN                 NaN            49 cm3   \n",
       "\n",
       "     Przebieg Rodzaj napędu Rodzaj paliwa Rok produkcji Serwisowany w ASO  \\\n",
       "1777     1 km           NaN       Benzyna          2019               NaN   \n",
       "\n",
       "     Skrzynia biegów     Stan Tuning        Typ Typ Silnika Uszkodzony Waluta  \\\n",
       "1777             NaN  Używane    NaN  Motorower   Dwusuwowy        NaN    PLN   \n",
       "\n",
       "     Zarejestrowany jako zabytek Zarejestrowany w Polsce  \n",
       "1777                         NaN                     NaN  "
      ]
     },
     "execution_count": 733,
     "metadata": {},
     "output_type": "execute_result"
    }
   ],
   "source": [
    "dane.sample()"
   ]
  },
  {
   "cell_type": "markdown",
   "metadata": {},
   "source": [
    "#### Sprawdzamy jakie mamy waluty w zbiorze danych"
   ]
  },
  {
   "cell_type": "code",
   "execution_count": 734,
   "metadata": {},
   "outputs": [
    {
     "data": {
      "text/html": [
       "<div>\n",
       "<style scoped>\n",
       "    .dataframe tbody tr th:only-of-type {\n",
       "        vertical-align: middle;\n",
       "    }\n",
       "\n",
       "    .dataframe tbody tr th {\n",
       "        vertical-align: top;\n",
       "    }\n",
       "\n",
       "    .dataframe thead th {\n",
       "        text-align: right;\n",
       "    }\n",
       "</style>\n",
       "<table border=\"1\" class=\"dataframe\">\n",
       "  <thead>\n",
       "    <tr style=\"text-align: right;\">\n",
       "      <th></th>\n",
       "      <th>Cena</th>\n",
       "      <th>Kolor</th>\n",
       "      <th>Kraj pochodzenia</th>\n",
       "      <th>Marka pojazdu</th>\n",
       "      <th>Matowy</th>\n",
       "      <th>Metalik</th>\n",
       "      <th>Moc</th>\n",
       "      <th>Model pojazdu</th>\n",
       "      <th>Oferta od</th>\n",
       "      <th>Perłowy</th>\n",
       "      <th>Pierwszy właściciel</th>\n",
       "      <th>Pojemność skokowa</th>\n",
       "      <th>Przebieg</th>\n",
       "      <th>Rodzaj napędu</th>\n",
       "      <th>Rodzaj paliwa</th>\n",
       "      <th>Rok produkcji</th>\n",
       "      <th>Serwisowany w ASO</th>\n",
       "      <th>Skrzynia biegów</th>\n",
       "      <th>Stan</th>\n",
       "      <th>Tuning</th>\n",
       "      <th>Typ</th>\n",
       "      <th>Typ Silnika</th>\n",
       "      <th>Uszkodzony</th>\n",
       "      <th>Zarejestrowany jako zabytek</th>\n",
       "      <th>Zarejestrowany w Polsce</th>\n",
       "    </tr>\n",
       "    <tr>\n",
       "      <th>Waluta</th>\n",
       "      <th></th>\n",
       "      <th></th>\n",
       "      <th></th>\n",
       "      <th></th>\n",
       "      <th></th>\n",
       "      <th></th>\n",
       "      <th></th>\n",
       "      <th></th>\n",
       "      <th></th>\n",
       "      <th></th>\n",
       "      <th></th>\n",
       "      <th></th>\n",
       "      <th></th>\n",
       "      <th></th>\n",
       "      <th></th>\n",
       "      <th></th>\n",
       "      <th></th>\n",
       "      <th></th>\n",
       "      <th></th>\n",
       "      <th></th>\n",
       "      <th></th>\n",
       "      <th></th>\n",
       "      <th></th>\n",
       "      <th></th>\n",
       "      <th></th>\n",
       "    </tr>\n",
       "  </thead>\n",
       "  <tbody>\n",
       "    <tr>\n",
       "      <th>EUR</th>\n",
       "      <td>115</td>\n",
       "      <td>115</td>\n",
       "      <td>69</td>\n",
       "      <td>115</td>\n",
       "      <td>1</td>\n",
       "      <td>0</td>\n",
       "      <td>24</td>\n",
       "      <td>115</td>\n",
       "      <td>115</td>\n",
       "      <td>0</td>\n",
       "      <td>0</td>\n",
       "      <td>109</td>\n",
       "      <td>115</td>\n",
       "      <td>36</td>\n",
       "      <td>115</td>\n",
       "      <td>115</td>\n",
       "      <td>1</td>\n",
       "      <td>37</td>\n",
       "      <td>115</td>\n",
       "      <td>0</td>\n",
       "      <td>115</td>\n",
       "      <td>41</td>\n",
       "      <td>0</td>\n",
       "      <td>0</td>\n",
       "      <td>0</td>\n",
       "    </tr>\n",
       "    <tr>\n",
       "      <th>PLN</th>\n",
       "      <td>17447</td>\n",
       "      <td>17446</td>\n",
       "      <td>8707</td>\n",
       "      <td>17447</td>\n",
       "      <td>1449</td>\n",
       "      <td>5976</td>\n",
       "      <td>11752</td>\n",
       "      <td>17358</td>\n",
       "      <td>17447</td>\n",
       "      <td>1803</td>\n",
       "      <td>3444</td>\n",
       "      <td>15731</td>\n",
       "      <td>17446</td>\n",
       "      <td>13807</td>\n",
       "      <td>17447</td>\n",
       "      <td>17447</td>\n",
       "      <td>2808</td>\n",
       "      <td>12901</td>\n",
       "      <td>17447</td>\n",
       "      <td>665</td>\n",
       "      <td>17447</td>\n",
       "      <td>13286</td>\n",
       "      <td>390</td>\n",
       "      <td>18</td>\n",
       "      <td>5304</td>\n",
       "    </tr>\n",
       "  </tbody>\n",
       "</table>\n",
       "</div>"
      ],
      "text/plain": [
       "         Cena  Kolor  Kraj pochodzenia  Marka pojazdu  Matowy  Metalik    Moc  \\\n",
       "Waluta                                                                          \n",
       "EUR       115    115                69            115       1        0     24   \n",
       "PLN     17447  17446              8707          17447    1449     5976  11752   \n",
       "\n",
       "        Model pojazdu  Oferta od  Perłowy  Pierwszy właściciel  \\\n",
       "Waluta                                                           \n",
       "EUR               115        115        0                    0   \n",
       "PLN             17358      17447     1803                 3444   \n",
       "\n",
       "        Pojemność skokowa  Przebieg  Rodzaj napędu  Rodzaj paliwa  \\\n",
       "Waluta                                                              \n",
       "EUR                   109       115             36            115   \n",
       "PLN                 15731     17446          13807          17447   \n",
       "\n",
       "        Rok produkcji  Serwisowany w ASO  Skrzynia biegów   Stan  Tuning  \\\n",
       "Waluta                                                                     \n",
       "EUR               115                  1               37    115       0   \n",
       "PLN             17447               2808            12901  17447     665   \n",
       "\n",
       "          Typ  Typ Silnika  Uszkodzony  Zarejestrowany jako zabytek  \\\n",
       "Waluta                                                                \n",
       "EUR       115           41           0                            0   \n",
       "PLN     17447        13286         390                           18   \n",
       "\n",
       "        Zarejestrowany w Polsce  \n",
       "Waluta                           \n",
       "EUR                           0  \n",
       "PLN                        5304  "
      ]
     },
     "execution_count": 734,
     "metadata": {},
     "output_type": "execute_result"
    }
   ],
   "source": [
    "dane.groupby('Waluta').count()"
   ]
  },
  {
   "cell_type": "code",
   "execution_count": 735,
   "metadata": {},
   "outputs": [
    {
     "name": "stdout",
     "output_type": "stream",
     "text": [
      "EUR 4.2706\n"
     ]
    }
   ],
   "source": [
    "# dla każdej waluty innej niż PLN przeliczamy na PLN\n",
    "for waluta in dane['Waluta'].unique():\n",
    "    if waluta=='PLN':\n",
    "        continue\n",
    "    kurs = pobierz_kurs_sredni_nbp(data_pobrania_danych,waluta)\n",
    "    print(waluta,kurs)\n",
    "    dane.loc[ dane['Waluta']==waluta ,'Cena'] *= kurs\n",
    "    dane.loc[ dane['Waluta']==waluta ,'Waluta'] = 'PLN'"
   ]
  },
  {
   "cell_type": "markdown",
   "metadata": {},
   "source": [
    "#### Sprawdzamy po przeliczeniu ceny po kursach walut jakie zostały nam waluty, i pole Waluta kasujemy - bo są tylko PLN"
   ]
  },
  {
   "cell_type": "code",
   "execution_count": 736,
   "metadata": {
    "scrolled": true
   },
   "outputs": [
    {
     "name": "stdout",
     "output_type": "stream",
     "text": [
      "['PLN']\n"
     ]
    }
   ],
   "source": [
    "print(dane.Waluta.unique())\n",
    "dane.drop(columns='Waluta', inplace=True)"
   ]
  },
  {
   "cell_type": "markdown",
   "metadata": {},
   "source": [
    "# Pojazdy uszkodzone i zabytkowe - kasujemy\n",
    "#### Kasujemy pojazdy uszkodzone (390 pozycji), a potem kolumnę \"Uszkodzony\"\n",
    "ceny pojazdów uszkodzonych mogą się znacznie różnić zależnie od rodzaju uszkodzenia (np. ten sam model z lekkim otarciem lakieru vs. rozwalonym silnikiem - ceny będą diametralnie różnie), więc są niereprezentatywne i będą źle wpływać na model\n",
    "#### Kasujemy pojazdy zabytkowe (18 pozycji) oraz kolumnę\"Zarejestrowany jako zabytek\"\n",
    "wycena pojazdów zabytkowych może być przez rzeczoznawcę wykonana, nie przez komputer <br>\n",
    "jest ich bardzo mało w zbiorze danych, zależnie od stanu zabytku jego cena może być bardzo różna"
   ]
  },
  {
   "cell_type": "code",
   "execution_count": 737,
   "metadata": {},
   "outputs": [
    {
     "name": "stdout",
     "output_type": "stream",
     "text": [
      "Kasujemy pojazdy uszkodzone = 390 szt.\n",
      "Kasujemy pojazdy zabytkowe = 18 szt.\n"
     ]
    }
   ],
   "source": [
    "print(f'Kasujemy pojazdy uszkodzone = {len(dane[dane.Uszkodzony==\"Tak\"])} szt.')\n",
    "print(f'Kasujemy pojazdy zabytkowe = {len(dane[dane[\"Zarejestrowany jako zabytek\"]==\"Tak\"])} szt.')\n",
    "\n",
    "dane.drop(dane[dane.Uszkodzony=='Tak'].index, axis=0, inplace=True )\n",
    "dane.drop(dane[dane['Zarejestrowany jako zabytek']==\"Tak\"].index, axis=0, inplace=True )\n",
    "dane.drop(columns=['Uszkodzony','Zarejestrowany jako zabytek'],inplace=True)"
   ]
  },
  {
   "cell_type": "code",
   "execution_count": null,
   "metadata": {},
   "outputs": [],
   "source": []
  },
  {
   "cell_type": "markdown",
   "metadata": {},
   "source": [
    "### Kolumny: 'Matowy','Metalik','Perłowy','Pierwszy właściciel','Serwisowany w ASO','Tuning'"
   ]
  },
  {
   "cell_type": "code",
   "execution_count": 738,
   "metadata": {},
   "outputs": [
    {
     "name": "stdout",
     "output_type": "stream",
     "text": [
      "Matowy [nan 'Tak']\n",
      "Metalik ['Tak' nan]\n",
      "Perłowy [nan 'Tak']\n",
      "Pierwszy właściciel [nan 'Tak']\n",
      "Serwisowany w ASO [nan 'Tak']\n",
      "Tuning [nan 'Tak']\n"
     ]
    }
   ],
   "source": [
    "kolumny=['Matowy','Metalik','Perłowy','Pierwszy właściciel','Serwisowany w ASO','Tuning']\n",
    "for kolumna in kolumny:\n",
    "    print(kolumna, dane[kolumna].unique())"
   ]
  },
  {
   "cell_type": "markdown",
   "metadata": {},
   "source": [
    "mają tyko wartość TAK lub puste - zamieniamy wartości na: Tak-1, puste=0"
   ]
  },
  {
   "cell_type": "code",
   "execution_count": 739,
   "metadata": {},
   "outputs": [
    {
     "name": "stdout",
     "output_type": "stream",
     "text": [
      "Matowy [0 1] int64\n",
      "Metalik [1 0] int64\n",
      "Perłowy [0 1] int64\n",
      "Pierwszy właściciel [0 1] int64\n",
      "Serwisowany w ASO [0 1] int64\n",
      "Tuning [0 1] int64\n"
     ]
    }
   ],
   "source": [
    "for kolumna in kolumny:\n",
    "    dane[kolumna].fillna(0,inplace=True)\n",
    "    dane.loc[dane[kolumna]!=0, kolumna]=1\n",
    "    print(kolumna, dane[kolumna].unique(), dane[kolumna].dtype)"
   ]
  },
  {
   "cell_type": "markdown",
   "metadata": {},
   "source": [
    "## Czyścimy pole \"Pojemność skokowa\" - kasujemy spacje i przyrostek \"cm3\""
   ]
  },
  {
   "cell_type": "code",
   "execution_count": 740,
   "metadata": {},
   "outputs": [
    {
     "data": {
      "text/plain": [
       "0      680 cm3\n",
       "1    1 255 cm3\n",
       "2      125 cm3\n",
       "3    1 202 cm3\n",
       "4      125 cm3\n",
       "Name: Pojemność skokowa, dtype: object"
      ]
     },
     "execution_count": 740,
     "metadata": {},
     "output_type": "execute_result"
    }
   ],
   "source": [
    "dane['Pojemność skokowa'].head()"
   ]
  },
  {
   "cell_type": "code",
   "execution_count": 741,
   "metadata": {},
   "outputs": [
    {
     "data": {
      "text/plain": [
       "1708"
      ]
     },
     "execution_count": 741,
     "metadata": {},
     "output_type": "execute_result"
    }
   ],
   "source": [
    "dane['Pojemność skokowa'] = dane['Pojemność skokowa'].str.replace('cm3','')\n",
    "dane['Pojemność skokowa'] = dane['Pojemność skokowa'].str.replace(' ','')\n",
    "dane['Pojemność skokowa'].astype(float)\n",
    "\n",
    "dane['Pojemność skokowa'].isna().sum()"
   ]
  },
  {
   "cell_type": "markdown",
   "metadata": {},
   "source": [
    "#### Sprawdzimy sobie wartości odstające w polu 'Pojemność skokowa'\n",
    "powinny się mieścić gdzieś do powiedzmy do max. 3000cm3 (silnik większy to już prawdiwy smok)"
   ]
  },
  {
   "cell_type": "code",
   "execution_count": 742,
   "metadata": {},
   "outputs": [
    {
     "data": {
      "text/plain": [
       "<matplotlib.axes._subplots.AxesSubplot at 0x25837ed1080>"
      ]
     },
     "execution_count": 742,
     "metadata": {},
     "output_type": "execute_result"
    },
    {
     "data": {
      "image/png": "[encoded data removed]",
      "text/plain": [
       "<Figure size 432x288 with 1 Axes>"
      ]
     },
     "metadata": {
      "needs_background": "light"
     },
     "output_type": "display_data"
    }
   ],
   "source": [
    "dane['Pojemność skokowa'] = dane['Pojemność skokowa'].astype(float)\n",
    "\n",
    "pojemnosc = dane['Pojemność skokowa']\n",
    "pojemnosc=pojemnosc.ffill().bfill()\n",
    "\n",
    "sns.boxplot(x=pojemnosc)"
   ]
  },
  {
   "cell_type": "markdown",
   "metadata": {},
   "source": [
    "#### zerujemy pozycje o nienormalnej pojemności skokowej (powyżej 3 litrów - takich silnikw w motorach nie ma)"
   ]
  },
  {
   "cell_type": "code",
   "execution_count": 743,
   "metadata": {},
   "outputs": [
    {
     "data": {
      "text/plain": [
       "0"
      ]
     },
     "execution_count": 743,
     "metadata": {},
     "output_type": "execute_result"
    }
   ],
   "source": [
    "dane.loc[dane['Pojemność skokowa'] > 3000, 'Pojemność skokowa'] = np.nan\n",
    "dane[dane['Pojemność skokowa'] > 3000]['Pojemność skokowa'].count()"
   ]
  },
  {
   "cell_type": "markdown",
   "metadata": {},
   "source": [
    "#### pozostałe puste ustawiamy na średnią"
   ]
  },
  {
   "cell_type": "code",
   "execution_count": 744,
   "metadata": {},
   "outputs": [],
   "source": [
    "dane.loc[dane['Pojemność skokowa'].isnull(),'Pojemność skokowa'] = np.trunc(dane['Pojemność skokowa'].mean())"
   ]
  },
  {
   "cell_type": "markdown",
   "metadata": {},
   "source": [
    "#### Po tej operacji pojemności skokowe wyglądają w miarę realistycznie"
   ]
  },
  {
   "cell_type": "code",
   "execution_count": 745,
   "metadata": {},
   "outputs": [
    {
     "data": {
      "text/plain": [
       "<matplotlib.axes._subplots.AxesSubplot at 0x25837e87940>"
      ]
     },
     "execution_count": 745,
     "metadata": {},
     "output_type": "execute_result"
    },
    {
     "data": {
      "image/png": "[encoded data removed]",
      "text/plain": [
       "<Figure size 432x288 with 1 Axes>"
      ]
     },
     "metadata": {
      "needs_background": "light"
     },
     "output_type": "display_data"
    }
   ],
   "source": [
    "sns.boxplot(x=dane['Pojemność skokowa'])"
   ]
  },
  {
   "cell_type": "markdown",
   "metadata": {},
   "source": [
    "## Czyścimy pole \"Przebieg\" - kasujemy spacje i przyrostek \"km\""
   ]
  },
  {
   "cell_type": "code",
   "execution_count": 746,
   "metadata": {},
   "outputs": [],
   "source": [
    "dane['Przebieg'] = dane['Przebieg'].str.replace('km','')\n",
    "dane['Przebieg'] = dane['Przebieg'].str.replace(' ','')\n",
    "dane['Przebieg']=dane['Przebieg'].astype(float)"
   ]
  },
  {
   "cell_type": "code",
   "execution_count": 747,
   "metadata": {},
   "outputs": [
    {
     "data": {
      "text/plain": [
       "1"
      ]
     },
     "execution_count": 747,
     "metadata": {},
     "output_type": "execute_result"
    }
   ],
   "source": [
    "dane['Przebieg'].isna().sum()"
   ]
  },
  {
   "cell_type": "markdown",
   "metadata": {},
   "source": [
    "#### Jeden rekord nie ma podanego przebiegu - kasujemy ten rekord"
   ]
  },
  {
   "cell_type": "code",
   "execution_count": 748,
   "metadata": {},
   "outputs": [],
   "source": [
    "dane.drop(dane[dane['Przebieg'].isnull()].index,axis=0,inplace=True)"
   ]
  },
  {
   "cell_type": "code",
   "execution_count": null,
   "metadata": {},
   "outputs": [],
   "source": []
  },
  {
   "cell_type": "code",
   "execution_count": 749,
   "metadata": {},
   "outputs": [
    {
     "data": {
      "text/plain": [
       "0    37 KM\n",
       "1    98 KM\n",
       "2    15 KM\n",
       "3      NaN\n",
       "4    14 KM\n",
       "Name: Moc, dtype: object"
      ]
     },
     "execution_count": 749,
     "metadata": {},
     "output_type": "execute_result"
    }
   ],
   "source": [
    "dane['Moc'].head()"
   ]
  },
  {
   "cell_type": "code",
   "execution_count": 750,
   "metadata": {},
   "outputs": [],
   "source": [
    "dane['Moc'] = dane['Moc'].str.replace('KM','')\n",
    "dane['Moc'] = dane['Moc'].str.replace(' ','')\n",
    "dane['Moc']=dane['Moc'].astype(float)"
   ]
  },
  {
   "cell_type": "code",
   "execution_count": 751,
   "metadata": {},
   "outputs": [
    {
     "data": {
      "text/plain": [
       "<matplotlib.axes._subplots.AxesSubplot at 0x25837babb38>"
      ]
     },
     "execution_count": 751,
     "metadata": {},
     "output_type": "execute_result"
    },
    {
     "data": {
      "image/png": "[encoded data removed]",
      "text/plain": [
       "<Figure size 432x288 with 1 Axes>"
      ]
     },
     "metadata": {
      "needs_background": "light"
     },
     "output_type": "display_data"
    }
   ],
   "source": [
    "sns.boxplot(x=dane['Moc'])"
   ]
  },
  {
   "cell_type": "code",
   "execution_count": 752,
   "metadata": {},
   "outputs": [
    {
     "data": {
      "text/plain": [
       "<matplotlib.axes._subplots.AxesSubplot at 0x25837b21b00>"
      ]
     },
     "execution_count": 752,
     "metadata": {},
     "output_type": "execute_result"
    },
    {
     "data": {
      "image/png": "[encoded data removed]",
      "text/plain": [
       "<Figure size 432x288 with 1 Axes>"
      ]
     },
     "metadata": {
      "needs_background": "light"
     },
     "output_type": "display_data"
    }
   ],
   "source": [
    "# moce powyżej 1000~2000KM są dla motorów nieprawdopodobne\n",
    "# sprawdźmy jeszcze zakres < 4000\n",
    "sns.boxplot(x=dane.loc[dane['Moc']<4000,'Moc'])"
   ]
  },
  {
   "cell_type": "markdown",
   "metadata": {},
   "source": [
    "### Decyzja - należy skasować moce > 2000 KM i przypisać im średnią"
   ]
  },
  {
   "cell_type": "code",
   "execution_count": 753,
   "metadata": {},
   "outputs": [
    {
     "data": {
      "text/plain": [
       "<matplotlib.axes._subplots.AxesSubplot at 0x25837982eb8>"
      ]
     },
     "execution_count": 753,
     "metadata": {},
     "output_type": "execute_result"
    },
    {
     "data": {
      "image/png": "[encoded data removed]",
      "text/plain": [
       "<Figure size 432x288 with 1 Axes>"
      ]
     },
     "metadata": {
      "needs_background": "light"
     },
     "output_type": "display_data"
    }
   ],
   "source": [
    "dane.loc[dane['Moc'] > 2000, 'Moc'] = np.nan\n",
    "dane.loc[dane['Moc'].isnull(),'Moc'] = np.trunc(dane['Moc'].mean())\n",
    "sns.boxplot(x=dane['Moc'])"
   ]
  },
  {
   "cell_type": "code",
   "execution_count": null,
   "metadata": {},
   "outputs": [],
   "source": []
  },
  {
   "cell_type": "markdown",
   "metadata": {},
   "source": [
    "# Pole 'Kolor'"
   ]
  },
  {
   "cell_type": "code",
   "execution_count": 754,
   "metadata": {},
   "outputs": [
    {
     "name": "stdout",
     "output_type": "stream",
     "text": [
      "Czarny        4878\n",
      "Inny kolor    2384\n",
      "Niebieski     1882\n",
      "Czerwony      1865\n",
      "Biały         1816\n",
      "Srebrny       1109\n",
      "Szary         1023\n",
      "Zielony        748\n",
      "Bordowy        604\n",
      "Żółty          356\n",
      "Brązowy        194\n",
      "Złoty          141\n",
      "Fioletowy       78\n",
      "Beżowy          75\n",
      "Name: Kolor, dtype: int64\n"
     ]
    },
    {
     "data": {
      "image/png": "[encoded data removed]",
      "text/plain": [
       "<Figure size 432x288 with 1 Axes>"
      ]
     },
     "metadata": {
      "needs_background": "light"
     },
     "output_type": "display_data"
    }
   ],
   "source": [
    "dane.Kolor = dane.Kolor.astype(str)\n",
    "dane.Kolor.value_counts().plot('bar')\n",
    "print(dane.Kolor.value_counts())"
   ]
  },
  {
   "cell_type": "markdown",
   "metadata": {},
   "source": [
    "#### Zróbmy słownik dopuszczalnych kolorów dla których mamy > 100 ofert. \n",
    "Pozostałe kolory oraz NAN zamienimy na \"Inny kolor\""
   ]
  },
  {
   "cell_type": "code",
   "execution_count": 755,
   "metadata": {},
   "outputs": [],
   "source": [
    "tmp = dane.Kolor.value_counts()\n",
    "dopuszczalne_kolory = tmp[tmp>100].index"
   ]
  },
  {
   "cell_type": "code",
   "execution_count": 756,
   "metadata": {},
   "outputs": [
    {
     "data": {
      "text/plain": [
       "Index(['Czarny', 'Inny kolor', 'Niebieski', 'Czerwony', 'Biały', 'Srebrny',\n",
       "       'Szary', 'Zielony', 'Bordowy', 'Żółty', 'Brązowy', 'Złoty'],\n",
       "      dtype='object')"
      ]
     },
     "execution_count": 756,
     "metadata": {},
     "output_type": "execute_result"
    }
   ],
   "source": [
    "dopuszczalne_kolory"
   ]
  },
  {
   "cell_type": "code",
   "execution_count": 757,
   "metadata": {},
   "outputs": [],
   "source": [
    "# zamiana kolorów\n",
    "dane.loc[~dane['Kolor'].isin(dopuszczalne_kolory),'Kolor'] = 'Inny kolor'"
   ]
  },
  {
   "cell_type": "code",
   "execution_count": 758,
   "metadata": {},
   "outputs": [
    {
     "data": {
      "text/plain": [
       "array(['Niebieski', 'Szary', 'Inny kolor', 'Czarny', 'Biały', 'Zielony',\n",
       "       'Bordowy', 'Srebrny', 'Czerwony', 'Żółty', 'Złoty', 'Brązowy'],\n",
       "      dtype=object)"
      ]
     },
     "execution_count": 758,
     "metadata": {},
     "output_type": "execute_result"
    }
   ],
   "source": [
    "dane['Kolor'].unique()"
   ]
  },
  {
   "cell_type": "markdown",
   "metadata": {},
   "source": [
    "## Pole 'Kraj pochodzenia' - kasujemy, bo jest 8633 wartosci NaN'"
   ]
  },
  {
   "cell_type": "code",
   "execution_count": 759,
   "metadata": {},
   "outputs": [
    {
     "data": {
      "text/plain": [
       "NaN                  8632\n",
       "Polska               3046\n",
       "Niemcy               1581\n",
       "Stany Zjednoczone    1156\n",
       "Francja               680\n",
       "Włochy                568\n",
       "Szwajcaria            366\n",
       "Inny                  230\n",
       "Belgia                193\n",
       "Holandia              188\n",
       "Wielka Brytania       177\n",
       "Kanada                166\n",
       "Austria                71\n",
       "Szwecja                54\n",
       "Hiszpania              14\n",
       "Dania                   7\n",
       "Irlandia                5\n",
       "Czechy                  3\n",
       "Finlandia               3\n",
       "Ukraina                 3\n",
       "Rosja                   3\n",
       "Norwegia                2\n",
       "Luksemburg              2\n",
       "Liechtenstein           1\n",
       "Bułgaria                1\n",
       "Słowenia                1\n",
       "Name: Kraj pochodzenia, dtype: int64"
      ]
     },
     "execution_count": 759,
     "metadata": {},
     "output_type": "execute_result"
    }
   ],
   "source": [
    "dane['Kraj pochodzenia'].value_counts(dropna=False)"
   ]
  },
  {
   "cell_type": "code",
   "execution_count": 760,
   "metadata": {},
   "outputs": [],
   "source": [
    "dane.drop(columns='Kraj pochodzenia', inplace=True)"
   ]
  },
  {
   "cell_type": "markdown",
   "metadata": {},
   "source": [
    "## Pole ''Skrzynia biegów' - kasujemy, bo jest 4511 wartosci NaN'"
   ]
  },
  {
   "cell_type": "code",
   "execution_count": 761,
   "metadata": {},
   "outputs": [
    {
     "data": {
      "text/plain": [
       "Manualna           9274\n",
       "NaN                4510\n",
       "Automatyczna       2370\n",
       "Bezstopniowa        765\n",
       "Półautomatyczna     234\n",
       "Name: Skrzynia biegów, dtype: int64"
      ]
     },
     "execution_count": 761,
     "metadata": {},
     "output_type": "execute_result"
    }
   ],
   "source": [
    "dane['Skrzynia biegów'].value_counts(dropna=False)"
   ]
  },
  {
   "cell_type": "code",
   "execution_count": 762,
   "metadata": {},
   "outputs": [],
   "source": [
    "dane.drop(columns='Skrzynia biegów', inplace=True)"
   ]
  },
  {
   "cell_type": "markdown",
   "metadata": {},
   "source": [
    "## Pole 'Zarejestrowany w Polsce' - kasujemy, bo 75% wartosci NaN'"
   ]
  },
  {
   "cell_type": "code",
   "execution_count": 763,
   "metadata": {},
   "outputs": [
    {
     "data": {
      "text/plain": [
       "NaN    11902\n",
       "Tak     5251\n",
       "Name: Zarejestrowany w Polsce, dtype: int64"
      ]
     },
     "execution_count": 763,
     "metadata": {},
     "output_type": "execute_result"
    }
   ],
   "source": [
    "dane['Zarejestrowany w Polsce'].value_counts(dropna=False)"
   ]
  },
  {
   "cell_type": "code",
   "execution_count": 764,
   "metadata": {},
   "outputs": [],
   "source": [
    "dane.drop(columns='Zarejestrowany w Polsce', inplace=True)"
   ]
  },
  {
   "cell_type": "markdown",
   "metadata": {},
   "source": [
    "## Pole 'Rodzaj paliwa' - kasujemy, praktycznie 99,9% to \"Benzyna\""
   ]
  },
  {
   "cell_type": "code",
   "execution_count": 765,
   "metadata": {},
   "outputs": [
    {
     "data": {
      "text/plain": [
       "Benzyna        16988\n",
       "Elektryczny      144\n",
       "Diesel            21\n",
       "Name: Rodzaj paliwa, dtype: int64"
      ]
     },
     "execution_count": 765,
     "metadata": {},
     "output_type": "execute_result"
    }
   ],
   "source": [
    "dane['Rodzaj paliwa'].value_counts(dropna=False)"
   ]
  },
  {
   "cell_type": "code",
   "execution_count": 766,
   "metadata": {},
   "outputs": [],
   "source": [
    "dane.drop(columns='Rodzaj paliwa', inplace=True)"
   ]
  },
  {
   "cell_type": "markdown",
   "metadata": {},
   "source": [
    "## Pole 'Stan' - ma 2 kategorie, , zamieniamy na cyfry 0-Nowe/1-Używane"
   ]
  },
  {
   "cell_type": "code",
   "execution_count": 767,
   "metadata": {},
   "outputs": [
    {
     "data": {
      "text/plain": [
       "Używane    13052\n",
       "Nowe        4101\n",
       "Name: Stan, dtype: int64"
      ]
     },
     "execution_count": 767,
     "metadata": {},
     "output_type": "execute_result"
    }
   ],
   "source": [
    "dane['Stan'].value_counts(dropna=False)"
   ]
  },
  {
   "cell_type": "code",
   "execution_count": 769,
   "metadata": {},
   "outputs": [
    {
     "data": {
      "text/plain": [
       "1    13052\n",
       "0     4101\n",
       "Name: Stan, dtype: int64"
      ]
     },
     "execution_count": 769,
     "metadata": {},
     "output_type": "execute_result"
    }
   ],
   "source": [
    "dane['Stan'].replace({'Nowe':'0','Używane':'1'},inplace=True)\n",
    "dane['Stan']=dane['Stan'].astype(int)\n",
    "dane['Stan'].value_counts(dropna=False)"
   ]
  },
  {
   "cell_type": "markdown",
   "metadata": {},
   "source": [
    "## Pole 'Oferta od' - ma 2 kategorie, zamieniamy na cyfry 0/1 wg słownika"
   ]
  },
  {
   "cell_type": "code",
   "execution_count": null,
   "metadata": {},
   "outputs": [],
   "source": [
    "dane['Oferta od'].value_counts(dropna=False)"
   ]
  },
  {
   "cell_type": "code",
   "execution_count": null,
   "metadata": {},
   "outputs": [],
   "source": [
    "slownik_dla_oferta_od = {symbol: numer for numer, symbol in enumerate(dane['Oferta od'].unique())}\n",
    "slownik_dla_oferta_od"
   ]
  },
  {
   "cell_type": "code",
   "execution_count": null,
   "metadata": {},
   "outputs": [],
   "source": [
    "dane.replace({'Oferta od': slownik_dla_oferta_od},inplace=True)"
   ]
  },
  {
   "cell_type": "code",
   "execution_count": null,
   "metadata": {},
   "outputs": [],
   "source": []
  },
  {
   "cell_type": "code",
   "execution_count": null,
   "metadata": {},
   "outputs": [],
   "source": []
  },
  {
   "cell_type": "code",
   "execution_count": null,
   "metadata": {},
   "outputs": [],
   "source": [
    "dane.head()"
   ]
  },
  {
   "cell_type": "code",
   "execution_count": null,
   "metadata": {},
   "outputs": [],
   "source": []
  },
  {
   "cell_type": "code",
   "execution_count": null,
   "metadata": {},
   "outputs": [],
   "source": []
  },
  {
   "cell_type": "code",
   "execution_count": null,
   "metadata": {},
   "outputs": [],
   "source": []
  },
  {
   "cell_type": "code",
   "execution_count": null,
   "metadata": {},
   "outputs": [],
   "source": []
  },
  {
   "cell_type": "code",
   "execution_count": null,
   "metadata": {},
   "outputs": [],
   "source": []
  },
  {
   "cell_type": "markdown",
   "metadata": {},
   "source": [
    "Marka pojazdu\n",
    "Model pojazdu\n",
    "\n",
    "\n",
    "Rodzaj napędu\n",
    "Rok produkcji\n",
    "Typ\n",
    "Typ Silnika\n",
    "\n",
    "\n",
    "Pojemność skokowa (skalowanie)\n",
    "Przebieg (skalowanie)\n",
    "Moc (skalowanie)"
   ]
  },
  {
   "cell_type": "code",
   "execution_count": null,
   "metadata": {},
   "outputs": [],
   "source": []
  },
  {
   "cell_type": "code",
   "execution_count": null,
   "metadata": {},
   "outputs": [],
   "source": []
  },
  {
   "cell_type": "code",
   "execution_count": 772,
   "metadata": {},
   "outputs": [
    {
     "data": {
      "text/plain": [
       "Turystyczny    3608\n",
       "Chopper        2348\n",
       "Skuter         2287\n",
       "Naked          2137\n",
       "Sportowy       2036\n",
       "Quad           1612\n",
       "Cruiser        1124\n",
       "Enduro         1089\n",
       "Krosowy         620\n",
       "Motorower       292\n",
       "Name: Typ, dtype: int64"
      ]
     },
     "execution_count": 772,
     "metadata": {},
     "output_type": "execute_result"
    }
   ],
   "source": [
    "dane['Typ'].value_counts(dropna=False)"
   ]
  },
  {
   "cell_type": "code",
   "execution_count": null,
   "metadata": {},
   "outputs": [],
   "source": []
  }
 ],
 "metadata": {
  "kernelspec": {
   "display_name": "Python 3",
   "language": "python",
   "name": "python3"
  },
  "language_info": {
   "codemirror_mode": {
    "name": "ipython",
    "version": 3
   },
   "file_extension": ".py",
   "mimetype": "text/x-python",
   "name": "python",
   "nbconvert_exporter": "python",
   "pygments_lexer": "ipython3",
   "version": "3.7.3"
  }
 },
 "nbformat": 4,
 "nbformat_minor": 2
}
