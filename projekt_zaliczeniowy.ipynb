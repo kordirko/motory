{
 "cells": [
  {
   "cell_type": "code",
   "execution_count": null,
   "metadata": {},
   "outputs": [],
   "source": []
  },
  {
   "cell_type": "code",
   "execution_count": null,
   "metadata": {},
   "outputs": [],
   "source": []
  },
  {
   "cell_type": "markdown",
   "metadata": {},
   "source": [
    "Dane o ofertach pobrane ze strony: https://www.otomoto.pl/?category=motocykle-i-quady\n",
    "Komenda do pobrania danych - poniżej w komentarzu (aby nie uruchamiać jej).\n",
    "Dane z dnia 2019-04-19 już są pobrane do pliku ./scrapy_motory/motory.json"
   ]
  },
  {
   "cell_type": "code",
   "execution_count": 328,
   "metadata": {},
   "outputs": [],
   "source": [
    "%matplotlib inline"
   ]
  },
  {
   "cell_type": "code",
   "execution_count": null,
   "metadata": {},
   "outputs": [],
   "source": []
  },
  {
   "cell_type": "code",
   "execution_count": 329,
   "metadata": {},
   "outputs": [],
   "source": [
    "#%%cmd\n",
    "#cd scrapy_motory\n",
    "#scrapy crawl motory -o motory.json"
   ]
  },
  {
   "cell_type": "code",
   "execution_count": 330,
   "metadata": {},
   "outputs": [],
   "source": [
    "# data pobrania danych - posłuży nam potem do przeliczalnia na PLN po kursie średnim sz tego dnia\n",
    "data_pobrania_danych='2019-02-01'\n",
    "rok_pobrania_danych=int(data_pobrania_danych[:4])\n",
    "PLIK_DANYCH_JSON = './scrapy_motory/motory.json'"
   ]
  },
  {
   "cell_type": "markdown",
   "metadata": {},
   "source": [
    "Wczytujemy dane z pliku JSON"
   ]
  },
  {
   "cell_type": "code",
   "execution_count": 331,
   "metadata": {},
   "outputs": [],
   "source": [
    "import pandas as pd\n",
    "pd.set_option('display.max_rows', 500)\n",
    "pd.set_option('display.max_columns', 60)\n",
    "import json\n",
    "import seaborn as sns\n",
    "import numpy as np\n",
    "\n",
    "def wczytaj_plik_danych(nazwa_pliku):\n",
    "    with open(nazwa_pliku) as plik_json:\n",
    "        data = json.load(plik_json)\n",
    "        df = pd.DataFrame.from_dict(data)\n",
    "        return df"
   ]
  },
  {
   "cell_type": "code",
   "execution_count": 332,
   "metadata": {},
   "outputs": [],
   "source": [
    "dane = wczytaj_plik_danych(PLIK_DANYCH_JSON)"
   ]
  },
  {
   "cell_type": "markdown",
   "metadata": {},
   "source": [
    "#### Wyświetlmy sobie nazwy kolumn i statystyki o danych"
   ]
  },
  {
   "cell_type": "code",
   "execution_count": 333,
   "metadata": {},
   "outputs": [
    {
     "data": {
      "text/plain": [
       "Index(['Bezwypadkowy', 'Cena', 'Faktura VAT', 'Kategoria', 'Kolor',\n",
       "       'Kraj pochodzenia', 'Leasing', 'Liczba pozostałych rat', 'Link',\n",
       "       'Lokalizacja', 'Marka pojazdu', 'Matowy', 'Metalik', 'Miesięczna rata',\n",
       "       'Moc', 'Model pojazdu', 'Możliwość finansowania',\n",
       "       'Numer rejestracyjny pojazdu', 'Oferta od', 'Opłata początkowa',\n",
       "       'Perłowy', 'Pierwsza rejestracja', 'Pierwszy właściciel',\n",
       "       'Pojemność skokowa', 'Przebieg', 'Rodzaj napędu', 'Rodzaj paliwa',\n",
       "       'Rok produkcji', 'Serwisowany w ASO', 'Skrzynia biegów', 'Stan',\n",
       "       'Tuning', 'Typ', 'Typ Silnika', 'Uszkodzony', 'VAT marża', 'VIN',\n",
       "       'Waluta', 'Wartość wykupu', 'Zarejestrowany jako zabytek',\n",
       "       'Zarejestrowany w Polsce'],\n",
       "      dtype='object')"
      ]
     },
     "execution_count": 333,
     "metadata": {},
     "output_type": "execute_result"
    }
   ],
   "source": [
    "dane.columns"
   ]
  },
  {
   "cell_type": "code",
   "execution_count": 334,
   "metadata": {},
   "outputs": [
    {
     "data": {
      "text/plain": [
       "Bezwypadkowy                   object\n",
       "Cena                           object\n",
       "Faktura VAT                    object\n",
       "Kategoria                      object\n",
       "Kolor                          object\n",
       "Kraj pochodzenia               object\n",
       "Leasing                        object\n",
       "Liczba pozostałych rat         object\n",
       "Link                           object\n",
       "Lokalizacja                    object\n",
       "Marka pojazdu                  object\n",
       "Matowy                         object\n",
       "Metalik                        object\n",
       "Miesięczna rata                object\n",
       "Moc                            object\n",
       "Model pojazdu                  object\n",
       "Możliwość finansowania         object\n",
       "Numer rejestracyjny pojazdu    object\n",
       "Oferta od                      object\n",
       "Opłata początkowa              object\n",
       "Perłowy                        object\n",
       "Pierwsza rejestracja           object\n",
       "Pierwszy właściciel            object\n",
       "Pojemność skokowa              object\n",
       "Przebieg                       object\n",
       "Rodzaj napędu                  object\n",
       "Rodzaj paliwa                  object\n",
       "Rok produkcji                  object\n",
       "Serwisowany w ASO              object\n",
       "Skrzynia biegów                object\n",
       "Stan                           object\n",
       "Tuning                         object\n",
       "Typ                            object\n",
       "Typ Silnika                    object\n",
       "Uszkodzony                     object\n",
       "VAT marża                      object\n",
       "VIN                            object\n",
       "Waluta                         object\n",
       "Wartość wykupu                 object\n",
       "Zarejestrowany jako zabytek    object\n",
       "Zarejestrowany w Polsce        object\n",
       "dtype: object"
      ]
     },
     "execution_count": 334,
     "metadata": {},
     "output_type": "execute_result"
    }
   ],
   "source": [
    "dane.dtypes"
   ]
  },
  {
   "cell_type": "code",
   "execution_count": 335,
   "metadata": {
    "scrolled": true
   },
   "outputs": [
    {
     "name": "stdout",
     "output_type": "stream",
     "text": [
      "<class 'pandas.core.frame.DataFrame'>\n",
      "RangeIndex: 17574 entries, 0 to 17573\n",
      "Data columns (total 41 columns):\n",
      "Bezwypadkowy                   11086 non-null object\n",
      "Cena                           17574 non-null object\n",
      "Faktura VAT                    5947 non-null object\n",
      "Kategoria                      17574 non-null object\n",
      "Kolor                          17573 non-null object\n",
      "Kraj pochodzenia               8781 non-null object\n",
      "Leasing                        1775 non-null object\n",
      "Liczba pozostałych rat         95 non-null object\n",
      "Link                           17574 non-null object\n",
      "Lokalizacja                    17574 non-null object\n",
      "Marka pojazdu                  17574 non-null object\n",
      "Matowy                         1450 non-null object\n",
      "Metalik                        5977 non-null object\n",
      "Miesięczna rata                95 non-null object\n",
      "Moc                            11788 non-null object\n",
      "Model pojazdu                  17485 non-null object\n",
      "Możliwość finansowania         5389 non-null object\n",
      "Numer rejestracyjny pojazdu    658 non-null object\n",
      "Oferta od                      17574 non-null object\n",
      "Opłata początkowa              93 non-null object\n",
      "Perłowy                        1804 non-null object\n",
      "Pierwsza rejestracja           2859 non-null object\n",
      "Pierwszy właściciel            3445 non-null object\n",
      "Pojemność skokowa              15852 non-null object\n",
      "Przebieg                       17573 non-null object\n",
      "Rodzaj napędu                  13851 non-null object\n",
      "Rodzaj paliwa                  17574 non-null object\n",
      "Rok produkcji                  17574 non-null object\n",
      "Serwisowany w ASO              2811 non-null object\n",
      "Skrzynia biegów                12950 non-null object\n",
      "Stan                           17574 non-null object\n",
      "Tuning                         665 non-null object\n",
      "Typ                            17574 non-null object\n",
      "Typ Silnika                    13339 non-null object\n",
      "Uszkodzony                     390 non-null object\n",
      "VAT marża                      3798 non-null object\n",
      "VIN                            1926 non-null object\n",
      "Waluta                         17574 non-null object\n",
      "Wartość wykupu                 94 non-null object\n",
      "Zarejestrowany jako zabytek    18 non-null object\n",
      "Zarejestrowany w Polsce        5308 non-null object\n",
      "dtypes: object(41)\n",
      "memory usage: 5.5+ MB\n"
     ]
    }
   ],
   "source": [
    "dane.info()"
   ]
  },
  {
   "cell_type": "code",
   "execution_count": 336,
   "metadata": {},
   "outputs": [
    {
     "data": {
      "text/html": [
       "<div>\n",
       "<style scoped>\n",
       "    .dataframe tbody tr th:only-of-type {\n",
       "        vertical-align: middle;\n",
       "    }\n",
       "\n",
       "    .dataframe tbody tr th {\n",
       "        vertical-align: top;\n",
       "    }\n",
       "\n",
       "    .dataframe thead th {\n",
       "        text-align: right;\n",
       "    }\n",
       "</style>\n",
       "<table border=\"1\" class=\"dataframe\">\n",
       "  <thead>\n",
       "    <tr style=\"text-align: right;\">\n",
       "      <th></th>\n",
       "      <th>Bezwypadkowy</th>\n",
       "      <th>Cena</th>\n",
       "      <th>Faktura VAT</th>\n",
       "      <th>Kategoria</th>\n",
       "      <th>Kolor</th>\n",
       "      <th>Kraj pochodzenia</th>\n",
       "      <th>Leasing</th>\n",
       "      <th>Liczba pozostałych rat</th>\n",
       "      <th>Link</th>\n",
       "      <th>Lokalizacja</th>\n",
       "      <th>Marka pojazdu</th>\n",
       "      <th>Matowy</th>\n",
       "      <th>Metalik</th>\n",
       "      <th>Miesięczna rata</th>\n",
       "      <th>Moc</th>\n",
       "      <th>Model pojazdu</th>\n",
       "      <th>Możliwość finansowania</th>\n",
       "      <th>Numer rejestracyjny pojazdu</th>\n",
       "      <th>Oferta od</th>\n",
       "      <th>Opłata początkowa</th>\n",
       "      <th>Perłowy</th>\n",
       "      <th>Pierwsza rejestracja</th>\n",
       "      <th>Pierwszy właściciel</th>\n",
       "      <th>Pojemność skokowa</th>\n",
       "      <th>Przebieg</th>\n",
       "      <th>Rodzaj napędu</th>\n",
       "      <th>Rodzaj paliwa</th>\n",
       "      <th>Rok produkcji</th>\n",
       "      <th>Serwisowany w ASO</th>\n",
       "      <th>Skrzynia biegów</th>\n",
       "      <th>Stan</th>\n",
       "      <th>Tuning</th>\n",
       "      <th>Typ</th>\n",
       "      <th>Typ Silnika</th>\n",
       "      <th>Uszkodzony</th>\n",
       "      <th>VAT marża</th>\n",
       "      <th>VIN</th>\n",
       "      <th>Waluta</th>\n",
       "      <th>Wartość wykupu</th>\n",
       "      <th>Zarejestrowany jako zabytek</th>\n",
       "      <th>Zarejestrowany w Polsce</th>\n",
       "    </tr>\n",
       "  </thead>\n",
       "  <tbody>\n",
       "    <tr>\n",
       "      <th>count</th>\n",
       "      <td>11086</td>\n",
       "      <td>17574</td>\n",
       "      <td>5947</td>\n",
       "      <td>17574</td>\n",
       "      <td>17573</td>\n",
       "      <td>8781</td>\n",
       "      <td>1775</td>\n",
       "      <td>95</td>\n",
       "      <td>17574</td>\n",
       "      <td>17574</td>\n",
       "      <td>17574</td>\n",
       "      <td>1450</td>\n",
       "      <td>5977</td>\n",
       "      <td>95</td>\n",
       "      <td>11788</td>\n",
       "      <td>17485</td>\n",
       "      <td>5389</td>\n",
       "      <td>658</td>\n",
       "      <td>17574</td>\n",
       "      <td>93</td>\n",
       "      <td>1804</td>\n",
       "      <td>2859</td>\n",
       "      <td>3445</td>\n",
       "      <td>15852</td>\n",
       "      <td>17573</td>\n",
       "      <td>13851</td>\n",
       "      <td>17574</td>\n",
       "      <td>17574</td>\n",
       "      <td>2811</td>\n",
       "      <td>12950</td>\n",
       "      <td>17574</td>\n",
       "      <td>665</td>\n",
       "      <td>17574</td>\n",
       "      <td>13339</td>\n",
       "      <td>390</td>\n",
       "      <td>3798</td>\n",
       "      <td>1926</td>\n",
       "      <td>17574</td>\n",
       "      <td>94</td>\n",
       "      <td>18</td>\n",
       "      <td>5308</td>\n",
       "    </tr>\n",
       "    <tr>\n",
       "      <th>unique</th>\n",
       "      <td>1</td>\n",
       "      <td>2072</td>\n",
       "      <td>1</td>\n",
       "      <td>1</td>\n",
       "      <td>14</td>\n",
       "      <td>25</td>\n",
       "      <td>1</td>\n",
       "      <td>14</td>\n",
       "      <td>17574</td>\n",
       "      <td>2648</td>\n",
       "      <td>124</td>\n",
       "      <td>1</td>\n",
       "      <td>1</td>\n",
       "      <td>88</td>\n",
       "      <td>246</td>\n",
       "      <td>696</td>\n",
       "      <td>1</td>\n",
       "      <td>652</td>\n",
       "      <td>2</td>\n",
       "      <td>86</td>\n",
       "      <td>1</td>\n",
       "      <td>2061</td>\n",
       "      <td>1</td>\n",
       "      <td>539</td>\n",
       "      <td>4640</td>\n",
       "      <td>3</td>\n",
       "      <td>3</td>\n",
       "      <td>79</td>\n",
       "      <td>1</td>\n",
       "      <td>4</td>\n",
       "      <td>2</td>\n",
       "      <td>1</td>\n",
       "      <td>10</td>\n",
       "      <td>3</td>\n",
       "      <td>1</td>\n",
       "      <td>1</td>\n",
       "      <td>1918</td>\n",
       "      <td>2</td>\n",
       "      <td>84</td>\n",
       "      <td>1</td>\n",
       "      <td>1</td>\n",
       "    </tr>\n",
       "    <tr>\n",
       "      <th>top</th>\n",
       "      <td>Tak</td>\n",
       "      <td>19900</td>\n",
       "      <td>Tak</td>\n",
       "      <td>Motocykle</td>\n",
       "      <td>Czarny</td>\n",
       "      <td>Polska</td>\n",
       "      <td>Tak</td>\n",
       "      <td>36</td>\n",
       "      <td>https://www.otomoto.pl/oferta/barton-quad-atv-...</td>\n",
       "      <td>ul. Wyzwolenia 408 B - 43-265 Mizerów, pszczyń...</td>\n",
       "      <td>Honda</td>\n",
       "      <td>Tak</td>\n",
       "      <td>Tak</td>\n",
       "      <td>823 PLN</td>\n",
       "      <td>15 KM</td>\n",
       "      <td>Inny</td>\n",
       "      <td>Tak</td>\n",
       "      <td>GWE 5JF7</td>\n",
       "      <td>Firmy</td>\n",
       "      <td>1 PLN</td>\n",
       "      <td>Tak</td>\n",
       "      <td>1 styczeń 2007</td>\n",
       "      <td>Tak</td>\n",
       "      <td>125 cm3</td>\n",
       "      <td>1 km</td>\n",
       "      <td>Łańcuch</td>\n",
       "      <td>Benzyna</td>\n",
       "      <td>2018</td>\n",
       "      <td>Tak</td>\n",
       "      <td>Manualna</td>\n",
       "      <td>Używane</td>\n",
       "      <td>Tak</td>\n",
       "      <td>Turystyczny</td>\n",
       "      <td>Czterosuwowy</td>\n",
       "      <td>Tak</td>\n",
       "      <td>Tak</td>\n",
       "      <td>5J11YBJD47W000374</td>\n",
       "      <td>PLN</td>\n",
       "      <td>1 PLN</td>\n",
       "      <td>Tak</td>\n",
       "      <td>Tak</td>\n",
       "    </tr>\n",
       "    <tr>\n",
       "      <th>freq</th>\n",
       "      <td>11086</td>\n",
       "      <td>177</td>\n",
       "      <td>5947</td>\n",
       "      <td>17574</td>\n",
       "      <td>5044</td>\n",
       "      <td>3061</td>\n",
       "      <td>1775</td>\n",
       "      <td>41</td>\n",
       "      <td>1</td>\n",
       "      <td>333</td>\n",
       "      <td>2935</td>\n",
       "      <td>1450</td>\n",
       "      <td>5977</td>\n",
       "      <td>2</td>\n",
       "      <td>765</td>\n",
       "      <td>2096</td>\n",
       "      <td>5389</td>\n",
       "      <td>2</td>\n",
       "      <td>10649</td>\n",
       "      <td>3</td>\n",
       "      <td>1804</td>\n",
       "      <td>15</td>\n",
       "      <td>3445</td>\n",
       "      <td>2367</td>\n",
       "      <td>4794</td>\n",
       "      <td>7773</td>\n",
       "      <td>17407</td>\n",
       "      <td>2672</td>\n",
       "      <td>2811</td>\n",
       "      <td>9535</td>\n",
       "      <td>13465</td>\n",
       "      <td>665</td>\n",
       "      <td>3679</td>\n",
       "      <td>12528</td>\n",
       "      <td>390</td>\n",
       "      <td>3798</td>\n",
       "      <td>2</td>\n",
       "      <td>17459</td>\n",
       "      <td>3</td>\n",
       "      <td>18</td>\n",
       "      <td>5308</td>\n",
       "    </tr>\n",
       "  </tbody>\n",
       "</table>\n",
       "</div>"
      ],
      "text/plain": [
       "       Bezwypadkowy   Cena Faktura VAT  Kategoria   Kolor Kraj pochodzenia  \\\n",
       "count         11086  17574        5947      17574   17573             8781   \n",
       "unique            1   2072           1          1      14               25   \n",
       "top             Tak  19900         Tak  Motocykle  Czarny           Polska   \n",
       "freq          11086    177        5947      17574    5044             3061   \n",
       "\n",
       "       Leasing Liczba pozostałych rat  \\\n",
       "count     1775                     95   \n",
       "unique       1                     14   \n",
       "top        Tak                     36   \n",
       "freq      1775                     41   \n",
       "\n",
       "                                                     Link  \\\n",
       "count                                               17574   \n",
       "unique                                              17574   \n",
       "top     https://www.otomoto.pl/oferta/barton-quad-atv-...   \n",
       "freq                                                    1   \n",
       "\n",
       "                                              Lokalizacja Marka pojazdu  \\\n",
       "count                                               17574         17574   \n",
       "unique                                               2648           124   \n",
       "top     ul. Wyzwolenia 408 B - 43-265 Mizerów, pszczyń...         Honda   \n",
       "freq                                                  333          2935   \n",
       "\n",
       "       Matowy Metalik Miesięczna rata    Moc Model pojazdu  \\\n",
       "count    1450    5977              95  11788         17485   \n",
       "unique      1       1              88    246           696   \n",
       "top       Tak     Tak         823 PLN  15 KM          Inny   \n",
       "freq     1450    5977               2    765          2096   \n",
       "\n",
       "       Możliwość finansowania Numer rejestracyjny pojazdu Oferta od  \\\n",
       "count                    5389                         658     17574   \n",
       "unique                      1                         652         2   \n",
       "top                       Tak                    GWE 5JF7     Firmy   \n",
       "freq                     5389                           2     10649   \n",
       "\n",
       "       Opłata początkowa Perłowy Pierwsza rejestracja Pierwszy właściciel  \\\n",
       "count                 93    1804                 2859                3445   \n",
       "unique                86       1                 2061                   1   \n",
       "top                1 PLN     Tak       1 styczeń 2007                 Tak   \n",
       "freq                   3    1804                   15                3445   \n",
       "\n",
       "       Pojemność skokowa Przebieg Rodzaj napędu Rodzaj paliwa Rok produkcji  \\\n",
       "count              15852    17573         13851         17574         17574   \n",
       "unique               539     4640             3             3            79   \n",
       "top              125 cm3     1 km       Łańcuch       Benzyna          2018   \n",
       "freq                2367     4794          7773         17407          2672   \n",
       "\n",
       "       Serwisowany w ASO Skrzynia biegów     Stan Tuning          Typ  \\\n",
       "count               2811           12950    17574    665        17574   \n",
       "unique                 1               4        2      1           10   \n",
       "top                  Tak        Manualna  Używane    Tak  Turystyczny   \n",
       "freq                2811            9535    13465    665         3679   \n",
       "\n",
       "         Typ Silnika Uszkodzony VAT marża                VIN Waluta  \\\n",
       "count          13339        390      3798               1926  17574   \n",
       "unique             3          1         1               1918      2   \n",
       "top     Czterosuwowy        Tak       Tak  5J11YBJD47W000374    PLN   \n",
       "freq           12528        390      3798                  2  17459   \n",
       "\n",
       "       Wartość wykupu Zarejestrowany jako zabytek Zarejestrowany w Polsce  \n",
       "count              94                          18                    5308  \n",
       "unique             84                           1                       1  \n",
       "top             1 PLN                         Tak                     Tak  \n",
       "freq                3                          18                    5308  "
      ]
     },
     "execution_count": 336,
     "metadata": {},
     "output_type": "execute_result"
    }
   ],
   "source": [
    "dane.describe()"
   ]
  },
  {
   "cell_type": "markdown",
   "metadata": {},
   "source": [
    "# Kolumny do usunięcia po wstępnej analizie :\n",
    "|pole|dlaczego do skasowania|\n",
    "------------ | -------------|\n",
    "|**Kategoria**| wszystkie mają tę samą wartość: Motocykle|\n",
    "| **Link**|link do oferty (pomocniczy), każda oferta ma unikalny link|\n",
    "| **Numer rejestracyjny pojazdu**|każdy motor ma unikalny numer|\n",
    "|**VIN**| każdy motor ma unikalny numer|\n",
    "|**Bezwypadkowy**|60% ma wartość TAK, pozostale=brak danych (nie ma wartości NIE)- czyli w praktyce nie wiadomo czy zataił czy miał wypadek|\n",
    "|**Pierwsza rejestracja**|W większości brak danych, jeśli jest, to zazwyczaj jest najdalej rok produkcji + 1| \n",
    "\n",
    "\n",
    "### Pozostałe kolumny związane z finansowaniem - nie mają znaczenia w naszej analizie:\n",
    "Faktura VAT,Leasing,Liczba pozostałych rat,Miesięczna rata,Możliwość finansowania,Opłata początkowa,VAT marża,'Wartość wykupu<br>\n",
    "**Kasujemy te kolumny**"
   ]
  },
  {
   "cell_type": "code",
   "execution_count": 337,
   "metadata": {},
   "outputs": [],
   "source": [
    "# nazwy kolumn które docelowo zostaną skasowane z danych wejściowych\n",
    "kolumny_do_skasowania=[\n",
    "    'Lokalizacja','Kategoria','Link','Numer rejestracyjny pojazdu','VIN','Bezwypadkowy','Pierwsza rejestracja',\n",
    "    'Faktura VAT','Leasing','Liczba pozostałych rat','Miesięczna rata','Możliwość finansowania',\n",
    "    'Opłata początkowa','VAT marża','Wartość wykupu'\n",
    "]\n",
    "\n",
    "# funkcje konwersji danych do wykonania na zbiorze\n",
    "funkcje_konwersji_danych = []"
   ]
  },
  {
   "cell_type": "markdown",
   "metadata": {},
   "source": [
    "## Pole 'Kraj pochodzenia' - kasujemy, bo jest 8633 wartosci NaN'"
   ]
  },
  {
   "cell_type": "code",
   "execution_count": 338,
   "metadata": {},
   "outputs": [],
   "source": [
    "dane['Kraj pochodzenia'].value_counts(dropna=False)\n",
    "kolumny_do_skasowania.append('Kraj pochodzenia')"
   ]
  },
  {
   "cell_type": "markdown",
   "metadata": {},
   "source": [
    "## Pole ''Skrzynia biegów' - kasujemy, bo jest 4511 wartosci NaN'"
   ]
  },
  {
   "cell_type": "code",
   "execution_count": 339,
   "metadata": {},
   "outputs": [
    {
     "data": {
      "text/plain": [
       "Manualna           9535\n",
       "NaN                4624\n",
       "Automatyczna       2402\n",
       "Bezstopniowa        777\n",
       "Półautomatyczna     236\n",
       "Name: Skrzynia biegów, dtype: int64"
      ]
     },
     "execution_count": 339,
     "metadata": {},
     "output_type": "execute_result"
    }
   ],
   "source": [
    "dane['Skrzynia biegów'].value_counts(dropna=False)"
   ]
  },
  {
   "cell_type": "code",
   "execution_count": 340,
   "metadata": {},
   "outputs": [],
   "source": [
    "kolumny_do_skasowania.append('Skrzynia biegów')"
   ]
  },
  {
   "cell_type": "markdown",
   "metadata": {},
   "source": [
    "## Pole 'Zarejestrowany w Polsce' - kasujemy, bo 75% wartosci NaN'"
   ]
  },
  {
   "cell_type": "code",
   "execution_count": 341,
   "metadata": {},
   "outputs": [
    {
     "data": {
      "text/plain": [
       "NaN    12266\n",
       "Tak     5308\n",
       "Name: Zarejestrowany w Polsce, dtype: int64"
      ]
     },
     "execution_count": 341,
     "metadata": {},
     "output_type": "execute_result"
    }
   ],
   "source": [
    "dane['Zarejestrowany w Polsce'].value_counts(dropna=False)"
   ]
  },
  {
   "cell_type": "code",
   "execution_count": 342,
   "metadata": {},
   "outputs": [],
   "source": [
    "kolumny_do_skasowania.append('Zarejestrowany w Polsce')"
   ]
  },
  {
   "cell_type": "markdown",
   "metadata": {},
   "source": [
    "## Pole 'Rodzaj paliwa' - kasujemy, bo praktycznie 99% to \"Benzyna\""
   ]
  },
  {
   "cell_type": "code",
   "execution_count": 343,
   "metadata": {},
   "outputs": [
    {
     "data": {
      "text/plain": [
       "Benzyna        17407\n",
       "Elektryczny      146\n",
       "Diesel            21\n",
       "Name: Rodzaj paliwa, dtype: int64"
      ]
     },
     "execution_count": 343,
     "metadata": {},
     "output_type": "execute_result"
    }
   ],
   "source": [
    "dane['Rodzaj paliwa'].value_counts(dropna=False)"
   ]
  },
  {
   "cell_type": "code",
   "execution_count": 344,
   "metadata": {},
   "outputs": [],
   "source": [
    "kolumny_do_skasowania.append('Rodzaj paliwa')"
   ]
  },
  {
   "cell_type": "markdown",
   "metadata": {},
   "source": [
    "# Pojazdy uszkodzone i zabytkowe - kasujemy wiersze oraz kolumny\n",
    "#### Kasujemy pojazdy uszkodzone (390 pozycji), a potem kolumnę \"Uszkodzony\"\n",
    "ceny pojazdów uszkodzonych mogą się znacznie różnić zależnie od rodzaju uszkodzenia (np. ten sam model z lekkim otarciem lakieru vs. rozwalonym silnikiem - ceny będą diametralnie różnie), więc są niereprezentatywne i będą źle wpływać na model\n",
    "#### Kasujemy pojazdy zabytkowe (18 pozycji) oraz kolumnę\"Zarejestrowany jako zabytek\"\n",
    "wycena pojazdów zabytkowych może być przez rzeczoznawcę wykonana, nie przez komputer <br>\n",
    "jest ich bardzo mało w zbiorze danych, zależnie od stanu zabytku jego cena może być bardzo różna"
   ]
  },
  {
   "cell_type": "code",
   "execution_count": 345,
   "metadata": {},
   "outputs": [],
   "source": [
    "fun_skasuj_pojazdy_uszkodzone = lambda df: df.drop(df[df['Uszkodzony'] ==\"Tak\"].index, axis=0, inplace=True)\n",
    "fun_skasuj_pojazdy_zabytkowe = lambda df: df.drop(df[df['Zarejestrowany jako zabytek'] ==\"Tak\"].index, axis=0, inplace=True)\n",
    "\n",
    "funkcje_konwersji_danych.extend([fun_skasuj_pojazdy_uszkodzone,fun_skasuj_pojazdy_zabytkowe])\n",
    "kolumny_do_skasowania.extend(['Uszkodzony','Zarejestrowany jako zabytek'])\n",
    "\n",
    "fun_skasuj_pojazdy_uszkodzone(dane)\n",
    "fun_skasuj_pojazdy_zabytkowe(dane)"
   ]
  },
  {
   "cell_type": "code",
   "execution_count": 346,
   "metadata": {},
   "outputs": [
    {
     "name": "stdout",
     "output_type": "stream",
     "text": [
      "Ile pozostało uszkodzonych: 0\n",
      "Ile pozostało zabytkowych: 0\n"
     ]
    }
   ],
   "source": [
    "print('Ile pozostało uszkodzonych:', dane.loc[dane['Uszkodzony'] == 'Tak','Uszkodzony'].count())\n",
    "print('Ile pozostało zabytkowych:', dane.loc[dane['Zarejestrowany jako zabytek'] == 'Tak','Zarejestrowany jako zabytek'].count())"
   ]
  },
  {
   "cell_type": "markdown",
   "metadata": {},
   "source": [
    "### Pole 'Cena' - sprawdzenie czy są NaN (nie ma) oraz konwersja na liczbę"
   ]
  },
  {
   "cell_type": "code",
   "execution_count": 347,
   "metadata": {},
   "outputs": [
    {
     "name": "stdout",
     "output_type": "stream",
     "text": [
      "0\n",
      "object\n"
     ]
    }
   ],
   "source": [
    "# Sprawdzamy pole Cena - czy są jakieś braki\n",
    "print(dane.Cena.isnull().sum())\n",
    "print(dane.Cena.dtype)"
   ]
  },
  {
   "cell_type": "code",
   "execution_count": 348,
   "metadata": {},
   "outputs": [
    {
     "name": "stdout",
     "output_type": "stream",
     "text": [
      "Zamieniamy pole Cena na liczby\n"
     ]
    },
    {
     "data": {
      "text/html": [
       "<div>\n",
       "<style scoped>\n",
       "    .dataframe tbody tr th:only-of-type {\n",
       "        vertical-align: middle;\n",
       "    }\n",
       "\n",
       "    .dataframe tbody tr th {\n",
       "        vertical-align: top;\n",
       "    }\n",
       "\n",
       "    .dataframe thead th {\n",
       "        text-align: right;\n",
       "    }\n",
       "</style>\n",
       "<table border=\"1\" class=\"dataframe\">\n",
       "  <thead>\n",
       "    <tr style=\"text-align: right;\">\n",
       "      <th></th>\n",
       "      <th>Bezwypadkowy</th>\n",
       "      <th>Cena</th>\n",
       "      <th>Faktura VAT</th>\n",
       "      <th>Kategoria</th>\n",
       "      <th>Kolor</th>\n",
       "      <th>Kraj pochodzenia</th>\n",
       "      <th>Leasing</th>\n",
       "      <th>Liczba pozostałych rat</th>\n",
       "      <th>Link</th>\n",
       "      <th>Lokalizacja</th>\n",
       "      <th>Marka pojazdu</th>\n",
       "      <th>Matowy</th>\n",
       "      <th>Metalik</th>\n",
       "      <th>Miesięczna rata</th>\n",
       "      <th>Moc</th>\n",
       "      <th>Model pojazdu</th>\n",
       "      <th>Możliwość finansowania</th>\n",
       "      <th>Numer rejestracyjny pojazdu</th>\n",
       "      <th>Oferta od</th>\n",
       "      <th>Opłata początkowa</th>\n",
       "      <th>Perłowy</th>\n",
       "      <th>Pierwsza rejestracja</th>\n",
       "      <th>Pierwszy właściciel</th>\n",
       "      <th>Pojemność skokowa</th>\n",
       "      <th>Przebieg</th>\n",
       "      <th>Rodzaj napędu</th>\n",
       "      <th>Rodzaj paliwa</th>\n",
       "      <th>Rok produkcji</th>\n",
       "      <th>Serwisowany w ASO</th>\n",
       "      <th>Skrzynia biegów</th>\n",
       "      <th>Stan</th>\n",
       "      <th>Tuning</th>\n",
       "      <th>Typ</th>\n",
       "      <th>Typ Silnika</th>\n",
       "      <th>Uszkodzony</th>\n",
       "      <th>VAT marża</th>\n",
       "      <th>VIN</th>\n",
       "      <th>Waluta</th>\n",
       "      <th>Wartość wykupu</th>\n",
       "      <th>Zarejestrowany jako zabytek</th>\n",
       "      <th>Zarejestrowany w Polsce</th>\n",
       "    </tr>\n",
       "  </thead>\n",
       "  <tbody>\n",
       "    <tr>\n",
       "      <th>0</th>\n",
       "      <td>NaN</td>\n",
       "      <td>6800.0</td>\n",
       "      <td>NaN</td>\n",
       "      <td>Motocykle</td>\n",
       "      <td>Niebieski</td>\n",
       "      <td>Niemcy</td>\n",
       "      <td>NaN</td>\n",
       "      <td>NaN</td>\n",
       "      <td>https://www.otomoto.pl/oferta/suzuki-xf-suzuki...</td>\n",
       "      <td>CISOWA 17 - 83-250 Skarszewy, starogardzki, Po...</td>\n",
       "      <td>Suzuki</td>\n",
       "      <td>NaN</td>\n",
       "      <td>Tak</td>\n",
       "      <td>NaN</td>\n",
       "      <td>37 KM</td>\n",
       "      <td>XF</td>\n",
       "      <td>NaN</td>\n",
       "      <td>NaN</td>\n",
       "      <td>Firmy</td>\n",
       "      <td>NaN</td>\n",
       "      <td>NaN</td>\n",
       "      <td>NaN</td>\n",
       "      <td>NaN</td>\n",
       "      <td>680 cm3</td>\n",
       "      <td>60 000 km</td>\n",
       "      <td>Łańcuch</td>\n",
       "      <td>Benzyna</td>\n",
       "      <td>2000</td>\n",
       "      <td>NaN</td>\n",
       "      <td>Manualna</td>\n",
       "      <td>Używane</td>\n",
       "      <td>NaN</td>\n",
       "      <td>Enduro</td>\n",
       "      <td>Czterosuwowy</td>\n",
       "      <td>NaN</td>\n",
       "      <td>Tak</td>\n",
       "      <td>NaN</td>\n",
       "      <td>PLN</td>\n",
       "      <td>NaN</td>\n",
       "      <td>NaN</td>\n",
       "      <td>NaN</td>\n",
       "    </tr>\n",
       "    <tr>\n",
       "      <th>1</th>\n",
       "      <td>Tak</td>\n",
       "      <td>19500.0</td>\n",
       "      <td>NaN</td>\n",
       "      <td>Motocykle</td>\n",
       "      <td>Niebieski</td>\n",
       "      <td>Niemcy</td>\n",
       "      <td>NaN</td>\n",
       "      <td>NaN</td>\n",
       "      <td>https://www.otomoto.pl/oferta/suzuki-gsx-1250-...</td>\n",
       "      <td>Podańsko, goleniowski, Zachodniopomorskie</td>\n",
       "      <td>Suzuki</td>\n",
       "      <td>NaN</td>\n",
       "      <td>Tak</td>\n",
       "      <td>NaN</td>\n",
       "      <td>98 KM</td>\n",
       "      <td>GSX</td>\n",
       "      <td>NaN</td>\n",
       "      <td>NaN</td>\n",
       "      <td>Osoby prywatnej</td>\n",
       "      <td>NaN</td>\n",
       "      <td>NaN</td>\n",
       "      <td>4 sierpień 2010</td>\n",
       "      <td>NaN</td>\n",
       "      <td>1 255 cm3</td>\n",
       "      <td>30 900 km</td>\n",
       "      <td>Łańcuch</td>\n",
       "      <td>Benzyna</td>\n",
       "      <td>2010</td>\n",
       "      <td>Tak</td>\n",
       "      <td>Manualna</td>\n",
       "      <td>Używane</td>\n",
       "      <td>NaN</td>\n",
       "      <td>Turystyczny</td>\n",
       "      <td>Czterosuwowy</td>\n",
       "      <td>NaN</td>\n",
       "      <td>NaN</td>\n",
       "      <td>NaN</td>\n",
       "      <td>PLN</td>\n",
       "      <td>NaN</td>\n",
       "      <td>NaN</td>\n",
       "      <td>NaN</td>\n",
       "    </tr>\n",
       "    <tr>\n",
       "      <th>2</th>\n",
       "      <td>Tak</td>\n",
       "      <td>11500.0</td>\n",
       "      <td>NaN</td>\n",
       "      <td>Motocykle</td>\n",
       "      <td>Szary</td>\n",
       "      <td>Francja</td>\n",
       "      <td>NaN</td>\n",
       "      <td>NaN</td>\n",
       "      <td>https://www.otomoto.pl/oferta/kymco-kymco-125-...</td>\n",
       "      <td>Rąbień, gm. Aleksandrów Łódzki, zgierski, Łódzkie</td>\n",
       "      <td>Kymco</td>\n",
       "      <td>NaN</td>\n",
       "      <td>Tak</td>\n",
       "      <td>NaN</td>\n",
       "      <td>15 KM</td>\n",
       "      <td>Inny</td>\n",
       "      <td>NaN</td>\n",
       "      <td>NaN</td>\n",
       "      <td>Osoby prywatnej</td>\n",
       "      <td>NaN</td>\n",
       "      <td>NaN</td>\n",
       "      <td>NaN</td>\n",
       "      <td>Tak</td>\n",
       "      <td>125 cm3</td>\n",
       "      <td>5 400 km</td>\n",
       "      <td>Pas napędowy</td>\n",
       "      <td>Benzyna</td>\n",
       "      <td>2017</td>\n",
       "      <td>NaN</td>\n",
       "      <td>Automatyczna</td>\n",
       "      <td>Używane</td>\n",
       "      <td>NaN</td>\n",
       "      <td>Skuter</td>\n",
       "      <td>Czterosuwowy</td>\n",
       "      <td>NaN</td>\n",
       "      <td>Tak</td>\n",
       "      <td>NaN</td>\n",
       "      <td>PLN</td>\n",
       "      <td>NaN</td>\n",
       "      <td>NaN</td>\n",
       "      <td>NaN</td>\n",
       "    </tr>\n",
       "  </tbody>\n",
       "</table>\n",
       "</div>"
      ],
      "text/plain": [
       "  Bezwypadkowy     Cena Faktura VAT  Kategoria      Kolor Kraj pochodzenia  \\\n",
       "0          NaN   6800.0         NaN  Motocykle  Niebieski           Niemcy   \n",
       "1          Tak  19500.0         NaN  Motocykle  Niebieski           Niemcy   \n",
       "2          Tak  11500.0         NaN  Motocykle      Szary          Francja   \n",
       "\n",
       "  Leasing Liczba pozostałych rat  \\\n",
       "0     NaN                    NaN   \n",
       "1     NaN                    NaN   \n",
       "2     NaN                    NaN   \n",
       "\n",
       "                                                Link  \\\n",
       "0  https://www.otomoto.pl/oferta/suzuki-xf-suzuki...   \n",
       "1  https://www.otomoto.pl/oferta/suzuki-gsx-1250-...   \n",
       "2  https://www.otomoto.pl/oferta/kymco-kymco-125-...   \n",
       "\n",
       "                                         Lokalizacja Marka pojazdu Matowy  \\\n",
       "0  CISOWA 17 - 83-250 Skarszewy, starogardzki, Po...        Suzuki    NaN   \n",
       "1          Podańsko, goleniowski, Zachodniopomorskie        Suzuki    NaN   \n",
       "2  Rąbień, gm. Aleksandrów Łódzki, zgierski, Łódzkie         Kymco    NaN   \n",
       "\n",
       "  Metalik Miesięczna rata    Moc Model pojazdu Możliwość finansowania  \\\n",
       "0     Tak             NaN  37 KM            XF                    NaN   \n",
       "1     Tak             NaN  98 KM           GSX                    NaN   \n",
       "2     Tak             NaN  15 KM          Inny                    NaN   \n",
       "\n",
       "  Numer rejestracyjny pojazdu        Oferta od Opłata początkowa Perłowy  \\\n",
       "0                         NaN            Firmy               NaN     NaN   \n",
       "1                         NaN  Osoby prywatnej               NaN     NaN   \n",
       "2                         NaN  Osoby prywatnej               NaN     NaN   \n",
       "\n",
       "  Pierwsza rejestracja Pierwszy właściciel Pojemność skokowa   Przebieg  \\\n",
       "0                  NaN                 NaN           680 cm3  60 000 km   \n",
       "1      4 sierpień 2010                 NaN         1 255 cm3  30 900 km   \n",
       "2                  NaN                 Tak           125 cm3   5 400 km   \n",
       "\n",
       "  Rodzaj napędu Rodzaj paliwa Rok produkcji Serwisowany w ASO Skrzynia biegów  \\\n",
       "0       Łańcuch       Benzyna          2000               NaN        Manualna   \n",
       "1       Łańcuch       Benzyna          2010               Tak        Manualna   \n",
       "2  Pas napędowy       Benzyna          2017               NaN    Automatyczna   \n",
       "\n",
       "      Stan Tuning          Typ   Typ Silnika Uszkodzony VAT marża  VIN Waluta  \\\n",
       "0  Używane    NaN       Enduro  Czterosuwowy        NaN       Tak  NaN    PLN   \n",
       "1  Używane    NaN  Turystyczny  Czterosuwowy        NaN       NaN  NaN    PLN   \n",
       "2  Używane    NaN       Skuter  Czterosuwowy        NaN       Tak  NaN    PLN   \n",
       "\n",
       "  Wartość wykupu Zarejestrowany jako zabytek Zarejestrowany w Polsce  \n",
       "0            NaN                         NaN                     NaN  \n",
       "1            NaN                         NaN                     NaN  \n",
       "2            NaN                         NaN                     NaN  "
      ]
     },
     "execution_count": 348,
     "metadata": {},
     "output_type": "execute_result"
    }
   ],
   "source": [
    "# Separatorem dziesiętnym w polu Cena jest przecinek - ustawimy locale aby odpowiednio to obsłużył\n",
    "import locale\n",
    "\n",
    "def zamiana_ceny_na_liczbe(df):\n",
    "    print('Zamieniamy pole Cena na liczby')\n",
    "    locale.setlocale(locale.LC_ALL,'pl_PL')\n",
    "    df['Cena'] = pd.to_numeric(df['Cena'], errors='coerce')\n",
    "    # Kasujemy wiersze które nie mają ceny\n",
    "    df.drop(df[df['Cena'].isnull()].index,axis=0, inplace=True)\n",
    "    return df\n",
    "\n",
    "funkcje_konwersji_danych.append(zamiana_ceny_na_liczbe)\n",
    "\n",
    "#test\n",
    "zamiana_ceny_na_liczbe(dane)\n",
    "dane.head(3)"
   ]
  },
  {
   "cell_type": "markdown",
   "metadata": {},
   "source": [
    "### Pole 'Rok produkcji' zamienimy na 'Wiek pojazdu' (w latach). Pojazdy starsze od 30 lat traktujemy jako zabytek i kasujemy ze zbioru (ponad 400 pozycji) - ponieważ po 30 roku cena rośnie zamiast spadać (patrz wykres)"
   ]
  },
  {
   "cell_type": "code",
   "execution_count": 349,
   "metadata": {},
   "outputs": [
    {
     "data": {
      "text/plain": [
       "<matplotlib.axes._subplots.AxesSubplot at 0x29c6db46080>"
      ]
     },
     "execution_count": 349,
     "metadata": {},
     "output_type": "execute_result"
    },
    {
     "data": {
      "image/png": "[encoded data removed]",
      "text/plain": [
       "<Figure size 432x288 with 1 Axes>"
      ]
     },
     "metadata": {
      "needs_background": "light"
     },
     "output_type": "display_data"
    }
   ],
   "source": [
    "wiek_pojazdu = (rok_pobrania_danych - dane['Rok produkcji'].astype(int)).rename('Wiek pojazdu')\n",
    "\n",
    "# zamien_rok_produkcji_na_wiek(dane)\n",
    "# funkcje.append(zamien_rok_produkcji_na_wiek)\n",
    "sns.boxplot(x=wiek_pojazdu)"
   ]
  },
  {
   "cell_type": "code",
   "execution_count": 350,
   "metadata": {},
   "outputs": [
    {
     "data": {
      "text/plain": [
       "<matplotlib.axes._subplots.AxesSubplot at 0x29c5a03a828>"
      ]
     },
     "execution_count": 350,
     "metadata": {},
     "output_type": "execute_result"
    },
    {
     "data": {
      "image/png": "[encoded data removed]",
      "text/plain": [
       "<Figure size 432x288 with 1 Axes>"
      ]
     },
     "metadata": {
      "needs_background": "light"
     },
     "output_type": "display_data"
    }
   ],
   "source": [
    "pd.concat([wiek_pojazdu,dane['Cena']], axis=1).groupby('Wiek pojazdu').mean().plot()"
   ]
  },
  {
   "cell_type": "code",
   "execution_count": 351,
   "metadata": {},
   "outputs": [
    {
     "name": "stdout",
     "output_type": "stream",
     "text": [
      "425\n"
     ]
    }
   ],
   "source": [
    "print(len(wiek_pojazdu[wiek_pojazdu > 30]))"
   ]
  },
  {
   "cell_type": "code",
   "execution_count": 352,
   "metadata": {},
   "outputs": [
    {
     "data": {
      "text/html": [
       "<div>\n",
       "<style scoped>\n",
       "    .dataframe tbody tr th:only-of-type {\n",
       "        vertical-align: middle;\n",
       "    }\n",
       "\n",
       "    .dataframe tbody tr th {\n",
       "        vertical-align: top;\n",
       "    }\n",
       "\n",
       "    .dataframe thead th {\n",
       "        text-align: right;\n",
       "    }\n",
       "</style>\n",
       "<table border=\"1\" class=\"dataframe\">\n",
       "  <thead>\n",
       "    <tr style=\"text-align: right;\">\n",
       "      <th></th>\n",
       "      <th>Bezwypadkowy</th>\n",
       "      <th>Cena</th>\n",
       "      <th>Faktura VAT</th>\n",
       "      <th>Kategoria</th>\n",
       "      <th>Kolor</th>\n",
       "      <th>Kraj pochodzenia</th>\n",
       "      <th>Leasing</th>\n",
       "      <th>Liczba pozostałych rat</th>\n",
       "      <th>Link</th>\n",
       "      <th>Lokalizacja</th>\n",
       "      <th>Marka pojazdu</th>\n",
       "      <th>Matowy</th>\n",
       "      <th>Metalik</th>\n",
       "      <th>Miesięczna rata</th>\n",
       "      <th>Moc</th>\n",
       "      <th>Model pojazdu</th>\n",
       "      <th>Możliwość finansowania</th>\n",
       "      <th>Numer rejestracyjny pojazdu</th>\n",
       "      <th>Oferta od</th>\n",
       "      <th>Opłata początkowa</th>\n",
       "      <th>Perłowy</th>\n",
       "      <th>Pierwsza rejestracja</th>\n",
       "      <th>Pierwszy właściciel</th>\n",
       "      <th>Pojemność skokowa</th>\n",
       "      <th>Przebieg</th>\n",
       "      <th>Rodzaj napędu</th>\n",
       "      <th>Rodzaj paliwa</th>\n",
       "      <th>Rok produkcji</th>\n",
       "      <th>Serwisowany w ASO</th>\n",
       "      <th>Skrzynia biegów</th>\n",
       "      <th>Stan</th>\n",
       "      <th>Tuning</th>\n",
       "      <th>Typ</th>\n",
       "      <th>Typ Silnika</th>\n",
       "      <th>Uszkodzony</th>\n",
       "      <th>VAT marża</th>\n",
       "      <th>VIN</th>\n",
       "      <th>Waluta</th>\n",
       "      <th>Wartość wykupu</th>\n",
       "      <th>Zarejestrowany jako zabytek</th>\n",
       "      <th>Zarejestrowany w Polsce</th>\n",
       "      <th>Wiek pojazdu</th>\n",
       "    </tr>\n",
       "  </thead>\n",
       "  <tbody>\n",
       "    <tr>\n",
       "      <th>0</th>\n",
       "      <td>NaN</td>\n",
       "      <td>6800.0</td>\n",
       "      <td>NaN</td>\n",
       "      <td>Motocykle</td>\n",
       "      <td>Niebieski</td>\n",
       "      <td>Niemcy</td>\n",
       "      <td>NaN</td>\n",
       "      <td>NaN</td>\n",
       "      <td>https://www.otomoto.pl/oferta/suzuki-xf-suzuki...</td>\n",
       "      <td>CISOWA 17 - 83-250 Skarszewy, starogardzki, Po...</td>\n",
       "      <td>Suzuki</td>\n",
       "      <td>NaN</td>\n",
       "      <td>Tak</td>\n",
       "      <td>NaN</td>\n",
       "      <td>37 KM</td>\n",
       "      <td>XF</td>\n",
       "      <td>NaN</td>\n",
       "      <td>NaN</td>\n",
       "      <td>Firmy</td>\n",
       "      <td>NaN</td>\n",
       "      <td>NaN</td>\n",
       "      <td>NaN</td>\n",
       "      <td>NaN</td>\n",
       "      <td>680 cm3</td>\n",
       "      <td>60 000 km</td>\n",
       "      <td>Łańcuch</td>\n",
       "      <td>Benzyna</td>\n",
       "      <td>2000</td>\n",
       "      <td>NaN</td>\n",
       "      <td>Manualna</td>\n",
       "      <td>Używane</td>\n",
       "      <td>NaN</td>\n",
       "      <td>Enduro</td>\n",
       "      <td>Czterosuwowy</td>\n",
       "      <td>NaN</td>\n",
       "      <td>Tak</td>\n",
       "      <td>NaN</td>\n",
       "      <td>PLN</td>\n",
       "      <td>NaN</td>\n",
       "      <td>NaN</td>\n",
       "      <td>NaN</td>\n",
       "      <td>19</td>\n",
       "    </tr>\n",
       "    <tr>\n",
       "      <th>1</th>\n",
       "      <td>Tak</td>\n",
       "      <td>19500.0</td>\n",
       "      <td>NaN</td>\n",
       "      <td>Motocykle</td>\n",
       "      <td>Niebieski</td>\n",
       "      <td>Niemcy</td>\n",
       "      <td>NaN</td>\n",
       "      <td>NaN</td>\n",
       "      <td>https://www.otomoto.pl/oferta/suzuki-gsx-1250-...</td>\n",
       "      <td>Podańsko, goleniowski, Zachodniopomorskie</td>\n",
       "      <td>Suzuki</td>\n",
       "      <td>NaN</td>\n",
       "      <td>Tak</td>\n",
       "      <td>NaN</td>\n",
       "      <td>98 KM</td>\n",
       "      <td>GSX</td>\n",
       "      <td>NaN</td>\n",
       "      <td>NaN</td>\n",
       "      <td>Osoby prywatnej</td>\n",
       "      <td>NaN</td>\n",
       "      <td>NaN</td>\n",
       "      <td>4 sierpień 2010</td>\n",
       "      <td>NaN</td>\n",
       "      <td>1 255 cm3</td>\n",
       "      <td>30 900 km</td>\n",
       "      <td>Łańcuch</td>\n",
       "      <td>Benzyna</td>\n",
       "      <td>2010</td>\n",
       "      <td>Tak</td>\n",
       "      <td>Manualna</td>\n",
       "      <td>Używane</td>\n",
       "      <td>NaN</td>\n",
       "      <td>Turystyczny</td>\n",
       "      <td>Czterosuwowy</td>\n",
       "      <td>NaN</td>\n",
       "      <td>NaN</td>\n",
       "      <td>NaN</td>\n",
       "      <td>PLN</td>\n",
       "      <td>NaN</td>\n",
       "      <td>NaN</td>\n",
       "      <td>NaN</td>\n",
       "      <td>9</td>\n",
       "    </tr>\n",
       "    <tr>\n",
       "      <th>2</th>\n",
       "      <td>Tak</td>\n",
       "      <td>11500.0</td>\n",
       "      <td>NaN</td>\n",
       "      <td>Motocykle</td>\n",
       "      <td>Szary</td>\n",
       "      <td>Francja</td>\n",
       "      <td>NaN</td>\n",
       "      <td>NaN</td>\n",
       "      <td>https://www.otomoto.pl/oferta/kymco-kymco-125-...</td>\n",
       "      <td>Rąbień, gm. Aleksandrów Łódzki, zgierski, Łódzkie</td>\n",
       "      <td>Kymco</td>\n",
       "      <td>NaN</td>\n",
       "      <td>Tak</td>\n",
       "      <td>NaN</td>\n",
       "      <td>15 KM</td>\n",
       "      <td>Inny</td>\n",
       "      <td>NaN</td>\n",
       "      <td>NaN</td>\n",
       "      <td>Osoby prywatnej</td>\n",
       "      <td>NaN</td>\n",
       "      <td>NaN</td>\n",
       "      <td>NaN</td>\n",
       "      <td>Tak</td>\n",
       "      <td>125 cm3</td>\n",
       "      <td>5 400 km</td>\n",
       "      <td>Pas napędowy</td>\n",
       "      <td>Benzyna</td>\n",
       "      <td>2017</td>\n",
       "      <td>NaN</td>\n",
       "      <td>Automatyczna</td>\n",
       "      <td>Używane</td>\n",
       "      <td>NaN</td>\n",
       "      <td>Skuter</td>\n",
       "      <td>Czterosuwowy</td>\n",
       "      <td>NaN</td>\n",
       "      <td>Tak</td>\n",
       "      <td>NaN</td>\n",
       "      <td>PLN</td>\n",
       "      <td>NaN</td>\n",
       "      <td>NaN</td>\n",
       "      <td>NaN</td>\n",
       "      <td>2</td>\n",
       "    </tr>\n",
       "    <tr>\n",
       "      <th>3</th>\n",
       "      <td>Tak</td>\n",
       "      <td>49000.0</td>\n",
       "      <td>NaN</td>\n",
       "      <td>Motocykle</td>\n",
       "      <td>Inny kolor</td>\n",
       "      <td>NaN</td>\n",
       "      <td>NaN</td>\n",
       "      <td>NaN</td>\n",
       "      <td>https://www.otomoto.pl/oferta/harley-davidson-...</td>\n",
       "      <td>Górczewska 30 - 01-147 Warszawa, Mazowieckie (...</td>\n",
       "      <td>Harley-Davidson</td>\n",
       "      <td>NaN</td>\n",
       "      <td>Tak</td>\n",
       "      <td>NaN</td>\n",
       "      <td>NaN</td>\n",
       "      <td>Sportster</td>\n",
       "      <td>Tak</td>\n",
       "      <td>NaN</td>\n",
       "      <td>Firmy</td>\n",
       "      <td>NaN</td>\n",
       "      <td>NaN</td>\n",
       "      <td>NaN</td>\n",
       "      <td>NaN</td>\n",
       "      <td>1 202 cm3</td>\n",
       "      <td>1 km</td>\n",
       "      <td>Pas napędowy</td>\n",
       "      <td>Benzyna</td>\n",
       "      <td>2019</td>\n",
       "      <td>NaN</td>\n",
       "      <td>NaN</td>\n",
       "      <td>Nowe</td>\n",
       "      <td>NaN</td>\n",
       "      <td>Cruiser</td>\n",
       "      <td>Czterosuwowy</td>\n",
       "      <td>NaN</td>\n",
       "      <td>NaN</td>\n",
       "      <td>NaN</td>\n",
       "      <td>PLN</td>\n",
       "      <td>NaN</td>\n",
       "      <td>NaN</td>\n",
       "      <td>NaN</td>\n",
       "      <td>0</td>\n",
       "    </tr>\n",
       "    <tr>\n",
       "      <th>4</th>\n",
       "      <td>Tak</td>\n",
       "      <td>6900.0</td>\n",
       "      <td>NaN</td>\n",
       "      <td>Motocykle</td>\n",
       "      <td>Czarny</td>\n",
       "      <td>Niemcy</td>\n",
       "      <td>NaN</td>\n",
       "      <td>NaN</td>\n",
       "      <td>https://www.otomoto.pl/oferta/honda-cbr-honda-...</td>\n",
       "      <td>Szamotuły,Gaj Mały 114B - 64-520 Szamotuły, sz...</td>\n",
       "      <td>Honda</td>\n",
       "      <td>NaN</td>\n",
       "      <td>NaN</td>\n",
       "      <td>NaN</td>\n",
       "      <td>14 KM</td>\n",
       "      <td>CBR</td>\n",
       "      <td>NaN</td>\n",
       "      <td>NaN</td>\n",
       "      <td>Firmy</td>\n",
       "      <td>NaN</td>\n",
       "      <td>NaN</td>\n",
       "      <td>NaN</td>\n",
       "      <td>NaN</td>\n",
       "      <td>125 cm3</td>\n",
       "      <td>26 000 km</td>\n",
       "      <td>Łańcuch</td>\n",
       "      <td>Benzyna</td>\n",
       "      <td>2007</td>\n",
       "      <td>NaN</td>\n",
       "      <td>Manualna</td>\n",
       "      <td>Używane</td>\n",
       "      <td>NaN</td>\n",
       "      <td>Sportowy</td>\n",
       "      <td>NaN</td>\n",
       "      <td>NaN</td>\n",
       "      <td>NaN</td>\n",
       "      <td>NaN</td>\n",
       "      <td>PLN</td>\n",
       "      <td>NaN</td>\n",
       "      <td>NaN</td>\n",
       "      <td>Tak</td>\n",
       "      <td>12</td>\n",
       "    </tr>\n",
       "  </tbody>\n",
       "</table>\n",
       "</div>"
      ],
      "text/plain": [
       "  Bezwypadkowy     Cena Faktura VAT  Kategoria       Kolor Kraj pochodzenia  \\\n",
       "0          NaN   6800.0         NaN  Motocykle   Niebieski           Niemcy   \n",
       "1          Tak  19500.0         NaN  Motocykle   Niebieski           Niemcy   \n",
       "2          Tak  11500.0         NaN  Motocykle       Szary          Francja   \n",
       "3          Tak  49000.0         NaN  Motocykle  Inny kolor              NaN   \n",
       "4          Tak   6900.0         NaN  Motocykle      Czarny           Niemcy   \n",
       "\n",
       "  Leasing Liczba pozostałych rat  \\\n",
       "0     NaN                    NaN   \n",
       "1     NaN                    NaN   \n",
       "2     NaN                    NaN   \n",
       "3     NaN                    NaN   \n",
       "4     NaN                    NaN   \n",
       "\n",
       "                                                Link  \\\n",
       "0  https://www.otomoto.pl/oferta/suzuki-xf-suzuki...   \n",
       "1  https://www.otomoto.pl/oferta/suzuki-gsx-1250-...   \n",
       "2  https://www.otomoto.pl/oferta/kymco-kymco-125-...   \n",
       "3  https://www.otomoto.pl/oferta/harley-davidson-...   \n",
       "4  https://www.otomoto.pl/oferta/honda-cbr-honda-...   \n",
       "\n",
       "                                         Lokalizacja    Marka pojazdu Matowy  \\\n",
       "0  CISOWA 17 - 83-250 Skarszewy, starogardzki, Po...           Suzuki    NaN   \n",
       "1          Podańsko, goleniowski, Zachodniopomorskie           Suzuki    NaN   \n",
       "2  Rąbień, gm. Aleksandrów Łódzki, zgierski, Łódzkie            Kymco    NaN   \n",
       "3  Górczewska 30 - 01-147 Warszawa, Mazowieckie (...  Harley-Davidson    NaN   \n",
       "4  Szamotuły,Gaj Mały 114B - 64-520 Szamotuły, sz...            Honda    NaN   \n",
       "\n",
       "  Metalik Miesięczna rata    Moc Model pojazdu Możliwość finansowania  \\\n",
       "0     Tak             NaN  37 KM            XF                    NaN   \n",
       "1     Tak             NaN  98 KM           GSX                    NaN   \n",
       "2     Tak             NaN  15 KM          Inny                    NaN   \n",
       "3     Tak             NaN    NaN     Sportster                    Tak   \n",
       "4     NaN             NaN  14 KM           CBR                    NaN   \n",
       "\n",
       "  Numer rejestracyjny pojazdu        Oferta od Opłata początkowa Perłowy  \\\n",
       "0                         NaN            Firmy               NaN     NaN   \n",
       "1                         NaN  Osoby prywatnej               NaN     NaN   \n",
       "2                         NaN  Osoby prywatnej               NaN     NaN   \n",
       "3                         NaN            Firmy               NaN     NaN   \n",
       "4                         NaN            Firmy               NaN     NaN   \n",
       "\n",
       "  Pierwsza rejestracja Pierwszy właściciel Pojemność skokowa   Przebieg  \\\n",
       "0                  NaN                 NaN           680 cm3  60 000 km   \n",
       "1      4 sierpień 2010                 NaN         1 255 cm3  30 900 km   \n",
       "2                  NaN                 Tak           125 cm3   5 400 km   \n",
       "3                  NaN                 NaN         1 202 cm3       1 km   \n",
       "4                  NaN                 NaN           125 cm3  26 000 km   \n",
       "\n",
       "  Rodzaj napędu Rodzaj paliwa Rok produkcji Serwisowany w ASO Skrzynia biegów  \\\n",
       "0       Łańcuch       Benzyna          2000               NaN        Manualna   \n",
       "1       Łańcuch       Benzyna          2010               Tak        Manualna   \n",
       "2  Pas napędowy       Benzyna          2017               NaN    Automatyczna   \n",
       "3  Pas napędowy       Benzyna          2019               NaN             NaN   \n",
       "4       Łańcuch       Benzyna          2007               NaN        Manualna   \n",
       "\n",
       "      Stan Tuning          Typ   Typ Silnika Uszkodzony VAT marża  VIN Waluta  \\\n",
       "0  Używane    NaN       Enduro  Czterosuwowy        NaN       Tak  NaN    PLN   \n",
       "1  Używane    NaN  Turystyczny  Czterosuwowy        NaN       NaN  NaN    PLN   \n",
       "2  Używane    NaN       Skuter  Czterosuwowy        NaN       Tak  NaN    PLN   \n",
       "3     Nowe    NaN      Cruiser  Czterosuwowy        NaN       NaN  NaN    PLN   \n",
       "4  Używane    NaN     Sportowy           NaN        NaN       NaN  NaN    PLN   \n",
       "\n",
       "  Wartość wykupu Zarejestrowany jako zabytek Zarejestrowany w Polsce  \\\n",
       "0            NaN                         NaN                     NaN   \n",
       "1            NaN                         NaN                     NaN   \n",
       "2            NaN                         NaN                     NaN   \n",
       "3            NaN                         NaN                     NaN   \n",
       "4            NaN                         NaN                     Tak   \n",
       "\n",
       "   Wiek pojazdu  \n",
       "0            19  \n",
       "1             9  \n",
       "2             2  \n",
       "3             0  \n",
       "4            12  "
      ]
     },
     "execution_count": 352,
     "metadata": {},
     "output_type": "execute_result"
    }
   ],
   "source": [
    "def przelicz_rok_produkcji_na_wiek(df):\n",
    "    df['Wiek pojazdu'] = (rok_pobrania_danych - df['Rok produkcji'].astype(int))\n",
    "    df.drop(df[df['Wiek pojazdu'] > 30].index, axis=0, inplace=True)\n",
    "\n",
    "kolumny_do_skasowania.append('Rok produkcji')\n",
    "\n",
    "funkcje_konwersji_danych.append(przelicz_rok_produkcji_na_wiek)\n",
    "\n",
    "przelicz_rok_produkcji_na_wiek(dane)\n",
    "dane.head()"
   ]
  },
  {
   "cell_type": "markdown",
   "metadata": {},
   "source": [
    "##### Pole wiek pojazdu po konwersji i skasowaniu \"zabytków\" wygląda OK"
   ]
  },
  {
   "cell_type": "code",
   "execution_count": 353,
   "metadata": {},
   "outputs": [
    {
     "data": {
      "text/plain": [
       "<matplotlib.axes._subplots.AxesSubplot at 0x29c6d9f4978>"
      ]
     },
     "execution_count": 353,
     "metadata": {},
     "output_type": "execute_result"
    },
    {
     "data": {
      "image/png": "[encoded data removed]",
      "text/plain": [
       "<Figure size 432x288 with 1 Axes>"
      ]
     },
     "metadata": {
      "needs_background": "light"
     },
     "output_type": "display_data"
    }
   ],
   "source": [
    "sns.boxplot(x=dane['Wiek pojazdu'])"
   ]
  },
  {
   "cell_type": "code",
   "execution_count": 354,
   "metadata": {},
   "outputs": [
    {
     "data": {
      "text/plain": [
       "<matplotlib.axes._subplots.AxesSubplot at 0x29c6d7c29b0>"
      ]
     },
     "execution_count": 354,
     "metadata": {},
     "output_type": "execute_result"
    },
    {
     "data": {
      "image/png": "[encoded data removed]",
      "text/plain": [
       "<Figure size 432x288 with 1 Axes>"
      ]
     },
     "metadata": {
      "needs_background": "light"
     },
     "output_type": "display_data"
    }
   ],
   "source": [
    "dane[['Wiek pojazdu','Cena']].groupby('Wiek pojazdu').mean().plot()"
   ]
  },
  {
   "cell_type": "markdown",
   "metadata": {},
   "source": [
    "# Analizujemy pole Waluta - są w zbiorze pojazdy w innych walutach, więc przeliczamy je na PLN po kursie średnim NBP z daty ściągnięcia danych ze strony \n",
    "Uwaga - jeśli będzie błąd pobrania danych z NB to proszę zmienić parametr `data_pobrania_danych` <br>\n",
    "na +/1-2 dni bo być może w tej dacie nie ma tabeli kursów NBP"
   ]
  },
  {
   "cell_type": "code",
   "execution_count": 355,
   "metadata": {},
   "outputs": [
    {
     "data": {
      "text/plain": [
       "Waluta\n",
       "EUR      114\n",
       "PLN    16615\n",
       "dtype: int64"
      ]
     },
     "execution_count": 355,
     "metadata": {},
     "output_type": "execute_result"
    }
   ],
   "source": [
    "dane.groupby('Waluta').size()"
   ]
  },
  {
   "cell_type": "code",
   "execution_count": 356,
   "metadata": {},
   "outputs": [
    {
     "data": {
      "text/plain": [
       "4.2706"
      ]
     },
     "execution_count": 356,
     "metadata": {},
     "output_type": "execute_result"
    }
   ],
   "source": [
    "import requests\n",
    "import json\n",
    "\n",
    "def pobierz_kurs_sredni_nbp(data,waluta):\n",
    "    \"\"\"Pobiera kurs średni NBP dla podanej daty (format daty: yyyy-mm-dd) oraz kodu waluty (np. EUR)\"\"\"\n",
    "    NBP_URL = f'http://api.nbp.pl/api/exchangerates/rates/A/{waluta}/{data}/'\n",
    "    response = requests.get(NBP_URL)\n",
    "    if(response.ok):\n",
    "        api_data = json.loads(response.content)\n",
    "        return api_data['rates'][0]['mid']\n",
    "    else:\n",
    "        response.raise_for_status()\n",
    "\n",
    "# test pobrania kursu\n",
    "pobierz_kurs_sredni_nbp(data_pobrania_danych,'EUR')"
   ]
  },
  {
   "cell_type": "markdown",
   "metadata": {},
   "source": [
    "#### Sprawdzamy jakie mamy waluty w zbiorze danych"
   ]
  },
  {
   "cell_type": "code",
   "execution_count": 357,
   "metadata": {},
   "outputs": [
    {
     "data": {
      "text/plain": [
       "PLN    16615\n",
       "EUR      114\n",
       "Name: Waluta, dtype: int64"
      ]
     },
     "execution_count": 357,
     "metadata": {},
     "output_type": "execute_result"
    }
   ],
   "source": [
    "dane['Waluta'].value_counts(dropna=False)"
   ]
  },
  {
   "cell_type": "code",
   "execution_count": 358,
   "metadata": {},
   "outputs": [
    {
     "name": "stdout",
     "output_type": "stream",
     "text": [
      "Przeliczamy ceny inne niż PLN po kursie średnim NBP\n",
      "EUR 4.2706\n"
     ]
    }
   ],
   "source": [
    "# dla każdej waluty innej niż PLN przeliczamy na PLN\n",
    "def przelicz_ceny_po_kursie_srednim_nbp(df):\n",
    "    print('Przeliczamy ceny inne niż PLN po kursie średnim NBP')\n",
    "    for waluta in df['Waluta'].unique():\n",
    "        if waluta=='PLN':\n",
    "            continue\n",
    "        kurs = pobierz_kurs_sredni_nbp(data_pobrania_danych,waluta)\n",
    "        print(waluta,kurs)\n",
    "        df.loc[ df['Waluta']==waluta ,'Cena'] *= kurs\n",
    "        df.loc[ df['Waluta']==waluta ,'Waluta'] = 'PLN'\n",
    "\n",
    "przelicz_ceny_po_kursie_srednim_nbp(dane)\n",
    "\n",
    "funkcje_konwersji_danych.append(przelicz_ceny_po_kursie_srednim_nbp)"
   ]
  },
  {
   "cell_type": "markdown",
   "metadata": {},
   "source": [
    "##### Sprawdzamy po przeliczeniu ceny po kursach walut jakie zostały nam waluty"
   ]
  },
  {
   "cell_type": "code",
   "execution_count": 359,
   "metadata": {},
   "outputs": [
    {
     "name": "stdout",
     "output_type": "stream",
     "text": [
      "['PLN']\n"
     ]
    }
   ],
   "source": [
    "print(dane.Waluta.unique())"
   ]
  },
  {
   "cell_type": "markdown",
   "metadata": {},
   "source": [
    " ##### i pole Waluta kasujemy - bo zostały tylko same PLN"
   ]
  },
  {
   "cell_type": "code",
   "execution_count": 360,
   "metadata": {
    "scrolled": true
   },
   "outputs": [],
   "source": [
    "kolumny_do_skasowania.append('Waluta')"
   ]
  },
  {
   "cell_type": "markdown",
   "metadata": {},
   "source": [
    "### Kolumny: 'Matowy','Metalik','Perłowy','Pierwszy właściciel','Serwisowany w ASO','Tuning'"
   ]
  },
  {
   "cell_type": "code",
   "execution_count": 361,
   "metadata": {},
   "outputs": [
    {
     "name": "stdout",
     "output_type": "stream",
     "text": [
      "Matowy [nan 'Tak']\n",
      "Metalik ['Tak' nan]\n",
      "Perłowy [nan 'Tak']\n",
      "Pierwszy właściciel [nan 'Tak']\n",
      "Serwisowany w ASO [nan 'Tak']\n",
      "Tuning [nan 'Tak']\n"
     ]
    }
   ],
   "source": [
    "kolumny=['Matowy','Metalik','Perłowy','Pierwszy właściciel','Serwisowany w ASO','Tuning']\n",
    "for kolumna in kolumny:\n",
    "    print(kolumna, dane[kolumna].unique())"
   ]
  },
  {
   "cell_type": "markdown",
   "metadata": {},
   "source": [
    "#### mają tyko wartość \"Tak\" lub NAN - zamieniamy NAN na \"Nie\""
   ]
  },
  {
   "cell_type": "code",
   "execution_count": 362,
   "metadata": {},
   "outputs": [
    {
     "name": "stdout",
     "output_type": "stream",
     "text": [
      "Matowy ['Nie' 'Tak']\n",
      "Metalik ['Tak' 'Nie']\n",
      "Perłowy ['Nie' 'Tak']\n",
      "Pierwszy właściciel ['Nie' 'Tak']\n",
      "Serwisowany w ASO ['Nie' 'Tak']\n",
      "Tuning ['Nie' 'Tak']\n"
     ]
    }
   ],
   "source": [
    "def zamien_nan_dla_podzbioru_kolumn(df):\n",
    "    kolumny=['Matowy','Metalik','Perłowy','Pierwszy właściciel','Serwisowany w ASO','Tuning']\n",
    "    slownik_kolumna_wartosc={x:\"Nie\" for x in kolumny}\n",
    "    df.fillna(value=slownik_kolumna_wartosc, inplace=True )\n",
    "\n",
    "funkcje_konwersji_danych.append(zamien_nan_dla_podzbioru_kolumn)\n",
    "\n",
    "zamien_nan_dla_podzbioru_kolumn(dane)\n",
    "\n",
    "# sprawdzenie po konwersji\n",
    "for kolumna in kolumny:\n",
    "    print(kolumna, dane[kolumna].unique())"
   ]
  },
  {
   "cell_type": "markdown",
   "metadata": {},
   "source": [
    "## Czyścimy pole \"Pojemność skokowa\" - kasujemy spacje i przyrostek \"cm3\", NAN zamieniamy na średnią"
   ]
  },
  {
   "cell_type": "code",
   "execution_count": 363,
   "metadata": {},
   "outputs": [
    {
     "data": {
      "text/plain": [
       "0      680 cm3\n",
       "1    1 255 cm3\n",
       "2      125 cm3\n",
       "3    1 202 cm3\n",
       "4      125 cm3\n",
       "Name: Pojemność skokowa, dtype: object"
      ]
     },
     "execution_count": 363,
     "metadata": {},
     "output_type": "execute_result"
    }
   ],
   "source": [
    "dane['Pojemność skokowa'].head()"
   ]
  },
  {
   "cell_type": "code",
   "execution_count": 364,
   "metadata": {},
   "outputs": [
    {
     "data": {
      "text/plain": [
       "0     680.0\n",
       "1    1255.0\n",
       "2     125.0\n",
       "Name: Pojemność skokowa, dtype: float64"
      ]
     },
     "execution_count": 364,
     "metadata": {},
     "output_type": "execute_result"
    }
   ],
   "source": [
    "def konwersja_pojemnosc_skokowa_na_liczby(zbior):\n",
    "    # tylko jeśli yp danych jeszcze nie przekonwertowany - aby można bylo wiele razy wywołać funkcję\n",
    "    if dane['Pojemność skokowa'].dtypes == 'O':\n",
    "        zbior['Pojemność skokowa'] = zbior['Pojemność skokowa'].str.replace('cm3','')\n",
    "        zbior['Pojemność skokowa'] = zbior['Pojemność skokowa'].str.replace(' ','')\n",
    "        zbior['Pojemność skokowa'] = zbior['Pojemność skokowa'].astype(float)\n",
    "\n",
    "funkcje_konwersji_danych.append(konwersja_pojemnosc_skokowa_na_liczby)\n",
    "konwersja_pojemnosc_skokowa_na_liczby(dane)\n",
    "dane['Pojemność skokowa'].head(3)"
   ]
  },
  {
   "cell_type": "code",
   "execution_count": 365,
   "metadata": {},
   "outputs": [
    {
     "data": {
      "text/plain": [
       "1589"
      ]
     },
     "execution_count": 365,
     "metadata": {},
     "output_type": "execute_result"
    }
   ],
   "source": [
    "dane['Pojemność skokowa'].isna().sum()"
   ]
  },
  {
   "cell_type": "markdown",
   "metadata": {},
   "source": [
    "#### Sprawdzimy sobie wartości odstające w polu 'Pojemność skokowa'\n",
    "powinny się mieścić gdzieś do powiedzmy do max. 3000cm3 (silnik większy to już prawdiwy smok)"
   ]
  },
  {
   "cell_type": "code",
   "execution_count": 366,
   "metadata": {},
   "outputs": [
    {
     "data": {
      "text/plain": [
       "<matplotlib.axes._subplots.AxesSubplot at 0x29c6d1aafd0>"
      ]
     },
     "execution_count": 366,
     "metadata": {},
     "output_type": "execute_result"
    },
    {
     "data": {
      "image/png": "[encoded data removed]",
      "text/plain": [
       "<Figure size 432x288 with 1 Axes>"
      ]
     },
     "metadata": {
      "needs_background": "light"
     },
     "output_type": "display_data"
    }
   ],
   "source": [
    "pojemnosc = dane['Pojemność skokowa']\n",
    "pojemnosc=pojemnosc.ffill().bfill()\n",
    "\n",
    "sns.boxplot(x=pojemnosc)"
   ]
  },
  {
   "cell_type": "markdown",
   "metadata": {},
   "source": [
    "#### zerujemy pozycje o nienormalnej pojemności skokowej (powyżej 3 litrów - takich silnikw w motorach nie ma)\n",
    "#### pozostałe puste (NAN) ustawiamy na średnią"
   ]
  },
  {
   "cell_type": "code",
   "execution_count": 367,
   "metadata": {},
   "outputs": [],
   "source": [
    "def czysc_pojemnosc_skokowa(zbior):\n",
    "    zbior.loc[zbior['Pojemność skokowa'] > 3000, 'Pojemność skokowa'] = np.nan\n",
    "    zbior[zbior['Pojemność skokowa'] > 3000]['Pojemność skokowa'].count()\n",
    "    zbior.loc[zbior['Pojemność skokowa'].isnull(),'Pojemność skokowa'] = np.trunc(zbior['Pojemność skokowa'].mean())\n",
    "\n",
    "funkcje_konwersji_danych.append(czysc_pojemnosc_skokowa)\n",
    "czysc_pojemnosc_skokowa(dane)\n"
   ]
  },
  {
   "cell_type": "markdown",
   "metadata": {},
   "source": [
    "#### Po tej operacji pojemności skokowe wyglądają w miarę realistycznie"
   ]
  },
  {
   "cell_type": "code",
   "execution_count": 368,
   "metadata": {},
   "outputs": [
    {
     "data": {
      "text/plain": [
       "<matplotlib.axes._subplots.AxesSubplot at 0x29c6d8e0cf8>"
      ]
     },
     "execution_count": 368,
     "metadata": {},
     "output_type": "execute_result"
    },
    {
     "data": {
      "image/png": "[encoded data removed]",
      "text/plain": [
       "<Figure size 432x288 with 1 Axes>"
      ]
     },
     "metadata": {
      "needs_background": "light"
     },
     "output_type": "display_data"
    }
   ],
   "source": [
    "sns.boxplot(x=dane['Pojemność skokowa'])"
   ]
  },
  {
   "cell_type": "markdown",
   "metadata": {},
   "source": [
    "## Czyścimy pole \"Przebieg\" - kasujemy spacje i przyrostek \"km\""
   ]
  },
  {
   "cell_type": "code",
   "execution_count": null,
   "metadata": {},
   "outputs": [],
   "source": []
  },
  {
   "cell_type": "code",
   "execution_count": 369,
   "metadata": {},
   "outputs": [],
   "source": [
    "def czysc_pole_przebieg(zbior):\n",
    "    # tylko jeśli yp danych jeszcze nie przekonwertowany - aby można bylo wiele razy wywołać funkcję\n",
    "    if dane['Przebieg'].dtypes == 'O':\n",
    "        zbior['Przebieg'] = zbior['Przebieg'].str.replace('km','')\n",
    "        zbior['Przebieg'] = zbior['Przebieg'].str.replace(' ','')\n",
    "        zbior['Przebieg'] = zbior['Przebieg'].astype(float)\n",
    "\n",
    "czysc_pole_przebieg(dane)\n",
    "funkcje_konwersji_danych.append(czysc_pole_przebieg)"
   ]
  },
  {
   "cell_type": "code",
   "execution_count": 370,
   "metadata": {},
   "outputs": [
    {
     "data": {
      "text/plain": [
       "dtype('float64')"
      ]
     },
     "execution_count": 370,
     "metadata": {},
     "output_type": "execute_result"
    }
   ],
   "source": [
    "dane['Przebieg'].dtype"
   ]
  },
  {
   "cell_type": "markdown",
   "metadata": {},
   "source": [
    "#### Jeden rekord nie ma podanego przebiegu - skasujemy ten rekord"
   ]
  },
  {
   "cell_type": "code",
   "execution_count": 371,
   "metadata": {},
   "outputs": [
    {
     "data": {
      "text/plain": [
       "1"
      ]
     },
     "execution_count": 371,
     "metadata": {},
     "output_type": "execute_result"
    }
   ],
   "source": [
    "dane['Przebieg'].isna().sum()"
   ]
  },
  {
   "cell_type": "code",
   "execution_count": 372,
   "metadata": {},
   "outputs": [
    {
     "data": {
      "text/plain": [
       "0"
      ]
     },
     "execution_count": 372,
     "metadata": {},
     "output_type": "execute_result"
    }
   ],
   "source": [
    "def kasuj_wiersze_bez_przebiegu(df):\n",
    "    df.drop(df[df['Przebieg'].isnull()].index,axis=0,inplace=True)\n",
    "\n",
    "funkcje_konwersji_danych.append(kasuj_wiersze_bez_przebiegu)\n",
    "kasuj_wiersze_bez_przebiegu(dane)\n",
    "dane['Przebieg'].isna().sum()"
   ]
  },
  {
   "cell_type": "markdown",
   "metadata": {},
   "source": [
    "### Analizujemy pole 'Moc' - czyścimy KM, zamieniamy na liczby"
   ]
  },
  {
   "cell_type": "code",
   "execution_count": 373,
   "metadata": {},
   "outputs": [
    {
     "data": {
      "text/plain": [
       "0    37 KM\n",
       "1    98 KM\n",
       "2    15 KM\n",
       "3      NaN\n",
       "4    14 KM\n",
       "Name: Moc, dtype: object"
      ]
     },
     "execution_count": 373,
     "metadata": {},
     "output_type": "execute_result"
    }
   ],
   "source": [
    "dane['Moc'].head()"
   ]
  },
  {
   "cell_type": "code",
   "execution_count": 374,
   "metadata": {},
   "outputs": [],
   "source": [
    "def czysc_pole_moc(zbior):\n",
    "    # tylko jeśli yp danych jeszcze nie przekonwertowany - aby można bylo wiele razy wywołać funkcję\n",
    "    if dane['Moc'].dtypes == 'O':\n",
    "        zbior['Moc'] = zbior['Moc'].str.replace('KM','')\n",
    "        zbior['Moc'] = zbior['Moc'].str.replace(' ','')\n",
    "        zbior['Moc']=zbior['Moc'].astype(float)\n",
    "\n",
    "funkcje_konwersji_danych.append(czysc_pole_moc)\n",
    "czysc_pole_moc(dane)"
   ]
  },
  {
   "cell_type": "code",
   "execution_count": 375,
   "metadata": {},
   "outputs": [
    {
     "data": {
      "text/plain": [
       "<matplotlib.axes._subplots.AxesSubplot at 0x29c678b1128>"
      ]
     },
     "execution_count": 375,
     "metadata": {},
     "output_type": "execute_result"
    },
    {
     "data": {
      "image/png": "[encoded data removed]",
      "text/plain": [
       "<Figure size 432x288 with 1 Axes>"
      ]
     },
     "metadata": {
      "needs_background": "light"
     },
     "output_type": "display_data"
    }
   ],
   "source": [
    "sns.boxplot(x=dane['Moc'])"
   ]
  },
  {
   "cell_type": "code",
   "execution_count": 376,
   "metadata": {},
   "outputs": [
    {
     "data": {
      "text/plain": [
       "<matplotlib.axes._subplots.AxesSubplot at 0x29c6b824390>"
      ]
     },
     "execution_count": 376,
     "metadata": {},
     "output_type": "execute_result"
    },
    {
     "data": {
      "image/png": "[encoded data removed]",
      "text/plain": [
       "<Figure size 432x288 with 1 Axes>"
      ]
     },
     "metadata": {
      "needs_background": "light"
     },
     "output_type": "display_data"
    }
   ],
   "source": [
    "# moce powyżej 1000~2000KM są dla motorów nieprawdopodobne\n",
    "# sprawdźmy jeszcze zakres < 4000\n",
    "sns.boxplot(x=dane.loc[dane['Moc']<4000,'Moc'])"
   ]
  },
  {
   "cell_type": "markdown",
   "metadata": {},
   "source": [
    "### Decyzja - należy wyzerować moce > 2000 KM i przypisać im średnią ze wszystkich mocy"
   ]
  },
  {
   "cell_type": "code",
   "execution_count": 377,
   "metadata": {},
   "outputs": [],
   "source": [
    "def kasuj_moce_wieksze_od_2000(zbior):\n",
    "    zbior.loc[zbior['Moc'] > 2000, 'Moc'] = np.nan\n",
    "    zbior.loc[zbior['Moc'].isnull(),'Moc'] = np.trunc(dane['Moc'].mean())\n",
    "    \n",
    "kasuj_moce_wieksze_od_2000(dane)\n",
    "funkcje_konwersji_danych.append(kasuj_moce_wieksze_od_2000)"
   ]
  },
  {
   "cell_type": "markdown",
   "metadata": {},
   "source": [
    "#### Teraz dane 'Moc pojazdu' wyglądają bardziej realistycznie"
   ]
  },
  {
   "cell_type": "code",
   "execution_count": 378,
   "metadata": {},
   "outputs": [
    {
     "data": {
      "text/plain": [
       "<matplotlib.axes._subplots.AxesSubplot at 0x29c6bb1d7f0>"
      ]
     },
     "execution_count": 378,
     "metadata": {},
     "output_type": "execute_result"
    },
    {
     "data": {
      "image/png": "[encoded data removed]",
      "text/plain": [
       "<Figure size 432x288 with 1 Axes>"
      ]
     },
     "metadata": {
      "needs_background": "light"
     },
     "output_type": "display_data"
    }
   ],
   "source": [
    "sns.boxplot(x=dane['Moc'])"
   ]
  },
  {
   "cell_type": "markdown",
   "metadata": {},
   "source": [
    "# Pole 'Kolor'"
   ]
  },
  {
   "cell_type": "code",
   "execution_count": 379,
   "metadata": {},
   "outputs": [
    {
     "name": "stdout",
     "output_type": "stream",
     "text": [
      "Czarny        4757\n",
      "Inny kolor    2359\n",
      "Niebieski     1842\n",
      "Biały         1791\n",
      "Czerwony      1789\n",
      "Srebrny       1091\n",
      "Szary         1013\n",
      "Zielony        714\n",
      "Bordowy        558\n",
      "Żółty          350\n",
      "Brązowy        184\n",
      "Złoty          136\n",
      "Fioletowy       75\n",
      "Beżowy          69\n",
      "Name: Kolor, dtype: int64\n"
     ]
    },
    {
     "data": {
      "image/png": "[encoded data removed]",
      "text/plain": [
       "<Figure size 432x288 with 1 Axes>"
      ]
     },
     "metadata": {
      "needs_background": "light"
     },
     "output_type": "display_data"
    }
   ],
   "source": [
    "dane.Kolor = dane.Kolor.astype(str)\n",
    "dane.Kolor.value_counts().plot('bar')\n",
    "print(dane.Kolor.value_counts())"
   ]
  },
  {
   "cell_type": "markdown",
   "metadata": {},
   "source": [
    "#### Zróbmy słownik dopuszczalnych kolorów dla których mamy > 100 ofert. \n",
    "#### Pozostałe kolory oraz NAN zamienimy na \"Inny\""
   ]
  },
  {
   "cell_type": "code",
   "execution_count": 380,
   "metadata": {},
   "outputs": [],
   "source": [
    "def zamien_kolor_na_inny_dla_mniej_niz_100_ofert(df):\n",
    "    liczebnosci_kolorow = df.Kolor.value_counts()\n",
    "    kolory_od_100_ofert = liczebnosci_kolorow[liczebnosci_kolorow>100].index\n",
    "    df.loc[~df['Kolor'].isin(kolory_od_100_ofert),'Kolor'] = 'Inny'"
   ]
  },
  {
   "cell_type": "code",
   "execution_count": 381,
   "metadata": {},
   "outputs": [],
   "source": [
    "zamien_kolor_na_inny_dla_mniej_niz_100_ofert(dane)\n",
    "funkcje_konwersji_danych.append(zamien_kolor_na_inny_dla_mniej_niz_100_ofert)"
   ]
  },
  {
   "cell_type": "code",
   "execution_count": 382,
   "metadata": {},
   "outputs": [
    {
     "name": "stdout",
     "output_type": "stream",
     "text": [
      "Czarny        4757\n",
      "Inny kolor    2359\n",
      "Niebieski     1842\n",
      "Biały         1791\n",
      "Czerwony      1789\n",
      "Srebrny       1091\n",
      "Szary         1013\n",
      "Zielony        714\n",
      "Bordowy        558\n",
      "Żółty          350\n",
      "Brązowy        184\n",
      "Inny           144\n",
      "Złoty          136\n",
      "Name: Kolor, dtype: int64\n"
     ]
    },
    {
     "data": {
      "image/png": "[encoded data removed]",
      "text/plain": [
       "<Figure size 432x288 with 1 Axes>"
      ]
     },
     "metadata": {
      "needs_background": "light"
     },
     "output_type": "display_data"
    }
   ],
   "source": [
    "# Sprawdzenie po transformacji\n",
    "dane.Kolor.value_counts().plot('bar')\n",
    "print(dane.Kolor.value_counts())"
   ]
  },
  {
   "cell_type": "markdown",
   "metadata": {},
   "source": [
    "## Pole 'Stan' - ma tylko 2 kategorie, brak NaN - nic tu nie robimy, jest OK"
   ]
  },
  {
   "cell_type": "code",
   "execution_count": 383,
   "metadata": {},
   "outputs": [
    {
     "data": {
      "text/plain": [
       "Używane    12627\n",
       "Nowe        4101\n",
       "Name: Stan, dtype: int64"
      ]
     },
     "execution_count": 383,
     "metadata": {},
     "output_type": "execute_result"
    }
   ],
   "source": [
    "dane['Stan'].value_counts(dropna=False)"
   ]
  },
  {
   "cell_type": "code",
   "execution_count": null,
   "metadata": {},
   "outputs": [],
   "source": []
  },
  {
   "cell_type": "markdown",
   "metadata": {},
   "source": [
    "## Pole 'Oferta od' - ma 2 kategorie, brak NaN - nic tu nie robimy, jest OK"
   ]
  },
  {
   "cell_type": "code",
   "execution_count": 384,
   "metadata": {},
   "outputs": [
    {
     "data": {
      "text/plain": [
       "Firmy              10205\n",
       "Osoby prywatnej     6523\n",
       "Name: Oferta od, dtype: int64"
      ]
     },
     "execution_count": 384,
     "metadata": {},
     "output_type": "execute_result"
    }
   ],
   "source": [
    "dane['Oferta od'].value_counts(dropna=False)"
   ]
  },
  {
   "cell_type": "markdown",
   "metadata": {},
   "source": [
    "## Pola: Typ silnika, Rodzaj napędu : występuja NaN - zamieniamy Nan na Inne"
   ]
  },
  {
   "cell_type": "code",
   "execution_count": 385,
   "metadata": {},
   "outputs": [
    {
     "data": {
      "text/plain": [
       "Czterosuwowy    12033\n",
       "NaN              3952\n",
       "Dwusuwowy         621\n",
       "Elektryczny       122\n",
       "Name: Typ Silnika, dtype: int64"
      ]
     },
     "execution_count": 385,
     "metadata": {},
     "output_type": "execute_result"
    }
   ],
   "source": [
    "dane['Typ Silnika'].value_counts(dropna=False)"
   ]
  },
  {
   "cell_type": "code",
   "execution_count": 386,
   "metadata": {},
   "outputs": [
    {
     "data": {
      "text/plain": [
       "Czterosuwowy    12033\n",
       "NaN              3952\n",
       "Dwusuwowy         621\n",
       "Elektryczny       122\n",
       "Name: Typ Silnika, dtype: int64"
      ]
     },
     "execution_count": 386,
     "metadata": {},
     "output_type": "execute_result"
    }
   ],
   "source": [
    "dane['Typ Silnika'].value_counts(dropna=False)"
   ]
  },
  {
   "cell_type": "code",
   "execution_count": 387,
   "metadata": {},
   "outputs": [],
   "source": [
    "fun_silnik_naped_zamien_nan_na_inne = lambda df: df.fillna(value={'Typ Silnika':'Inne','Rodzaj napędu':'Inne' }, inplace=True)\n",
    "\n",
    "funkcje_konwersji_danych.append(fun_silnik_naped_zamien_nan_na_inne)\n",
    "fun_silnik_naped_zamien_nan_na_inne(dane)"
   ]
  },
  {
   "cell_type": "markdown",
   "metadata": {},
   "source": [
    "## Pole: Typ, wygląda OK, brak NaN - - nic tu nie robimy, jest OK"
   ]
  },
  {
   "cell_type": "code",
   "execution_count": 388,
   "metadata": {},
   "outputs": [
    {
     "data": {
      "text/plain": [
       "Turystyczny    3488\n",
       "Skuter         2281\n",
       "Chopper        2194\n",
       "Naked          2086\n",
       "Sportowy       2007\n",
       "Quad           1609\n",
       "Cruiser        1098\n",
       "Enduro         1085\n",
       "Krosowy         617\n",
       "Motorower       263\n",
       "Name: Typ, dtype: int64"
      ]
     },
     "execution_count": 388,
     "metadata": {},
     "output_type": "execute_result"
    }
   ],
   "source": [
    "dane['Typ'].value_counts(dropna=False)"
   ]
  },
  {
   "cell_type": "markdown",
   "metadata": {},
   "source": [
    "## Pole 'Marka pojazdu' (113 marek) - brak NaN "
   ]
  },
  {
   "cell_type": "code",
   "execution_count": 389,
   "metadata": {},
   "outputs": [
    {
     "data": {
      "text/plain": [
       "113"
      ]
     },
     "execution_count": 389,
     "metadata": {},
     "output_type": "execute_result"
    }
   ],
   "source": [
    "len(dane['Marka pojazdu'].unique())"
   ]
  },
  {
   "cell_type": "code",
   "execution_count": 390,
   "metadata": {},
   "outputs": [
    {
     "data": {
      "text/plain": [
       "count      16728\n",
       "unique       113\n",
       "top       Yamaha\n",
       "freq        2806\n",
       "Name: Marka pojazdu, dtype: object"
      ]
     },
     "execution_count": 390,
     "metadata": {},
     "output_type": "execute_result"
    }
   ],
   "source": [
    "dane['Marka pojazdu'].describe()"
   ]
  },
  {
   "cell_type": "code",
   "execution_count": 391,
   "metadata": {},
   "outputs": [
    {
     "data": {
      "text/plain": [
       "0"
      ]
     },
     "execution_count": 391,
     "metadata": {},
     "output_type": "execute_result"
    }
   ],
   "source": [
    "dane.loc[dane['Marka pojazdu'].isnull(),'Marka pojazdu'].count()"
   ]
  },
  {
   "cell_type": "code",
   "execution_count": 392,
   "metadata": {},
   "outputs": [
    {
     "data": {
      "text/html": [
       "<div>\n",
       "<style scoped>\n",
       "    .dataframe tbody tr th:only-of-type {\n",
       "        vertical-align: middle;\n",
       "    }\n",
       "\n",
       "    .dataframe tbody tr th {\n",
       "        vertical-align: top;\n",
       "    }\n",
       "\n",
       "    .dataframe thead th {\n",
       "        text-align: right;\n",
       "    }\n",
       "</style>\n",
       "<table border=\"1\" class=\"dataframe\">\n",
       "  <thead>\n",
       "    <tr style=\"text-align: right;\">\n",
       "      <th></th>\n",
       "      <th>Cena</th>\n",
       "      <th>Moc</th>\n",
       "      <th>Pojemność skokowa</th>\n",
       "      <th>Przebieg</th>\n",
       "      <th>Wiek pojazdu</th>\n",
       "    </tr>\n",
       "  </thead>\n",
       "  <tbody>\n",
       "    <tr>\n",
       "      <th>count</th>\n",
       "      <td>1.672800e+04</td>\n",
       "      <td>16728.000000</td>\n",
       "      <td>16728.000000</td>\n",
       "      <td>1.672800e+04</td>\n",
       "      <td>16728.000000</td>\n",
       "    </tr>\n",
       "    <tr>\n",
       "      <th>mean</th>\n",
       "      <td>2.411740e+04</td>\n",
       "      <td>69.640184</td>\n",
       "      <td>688.792025</td>\n",
       "      <td>5.999821e+06</td>\n",
       "      <td>8.384445</td>\n",
       "    </tr>\n",
       "    <tr>\n",
       "      <th>std</th>\n",
       "      <td>3.756518e+04</td>\n",
       "      <td>55.529683</td>\n",
       "      <td>463.148086</td>\n",
       "      <td>7.731752e+08</td>\n",
       "      <td>7.414593</td>\n",
       "    </tr>\n",
       "    <tr>\n",
       "      <th>min</th>\n",
       "      <td>1.000000e+00</td>\n",
       "      <td>1.000000</td>\n",
       "      <td>1.000000</td>\n",
       "      <td>0.000000e+00</td>\n",
       "      <td>0.000000</td>\n",
       "    </tr>\n",
       "    <tr>\n",
       "      <th>25%</th>\n",
       "      <td>8.200000e+03</td>\n",
       "      <td>44.000000</td>\n",
       "      <td>250.000000</td>\n",
       "      <td>1.000000e+00</td>\n",
       "      <td>1.000000</td>\n",
       "    </tr>\n",
       "    <tr>\n",
       "      <th>50%</th>\n",
       "      <td>1.550000e+04</td>\n",
       "      <td>69.000000</td>\n",
       "      <td>688.000000</td>\n",
       "      <td>1.200000e+04</td>\n",
       "      <td>7.000000</td>\n",
       "    </tr>\n",
       "    <tr>\n",
       "      <th>75%</th>\n",
       "      <td>3.090000e+04</td>\n",
       "      <td>85.000000</td>\n",
       "      <td>998.000000</td>\n",
       "      <td>3.300000e+04</td>\n",
       "      <td>14.000000</td>\n",
       "    </tr>\n",
       "    <tr>\n",
       "      <th>max</th>\n",
       "      <td>3.640926e+06</td>\n",
       "      <td>1800.000000</td>\n",
       "      <td>2867.000000</td>\n",
       "      <td>1.000000e+11</td>\n",
       "      <td>30.000000</td>\n",
       "    </tr>\n",
       "  </tbody>\n",
       "</table>\n",
       "</div>"
      ],
      "text/plain": [
       "               Cena           Moc  Pojemność skokowa      Przebieg  \\\n",
       "count  1.672800e+04  16728.000000       16728.000000  1.672800e+04   \n",
       "mean   2.411740e+04     69.640184         688.792025  5.999821e+06   \n",
       "std    3.756518e+04     55.529683         463.148086  7.731752e+08   \n",
       "min    1.000000e+00      1.000000           1.000000  0.000000e+00   \n",
       "25%    8.200000e+03     44.000000         250.000000  1.000000e+00   \n",
       "50%    1.550000e+04     69.000000         688.000000  1.200000e+04   \n",
       "75%    3.090000e+04     85.000000         998.000000  3.300000e+04   \n",
       "max    3.640926e+06   1800.000000        2867.000000  1.000000e+11   \n",
       "\n",
       "       Wiek pojazdu  \n",
       "count  16728.000000  \n",
       "mean       8.384445  \n",
       "std        7.414593  \n",
       "min        0.000000  \n",
       "25%        1.000000  \n",
       "50%        7.000000  \n",
       "75%       14.000000  \n",
       "max       30.000000  "
      ]
     },
     "execution_count": 392,
     "metadata": {},
     "output_type": "execute_result"
    }
   ],
   "source": [
    "dane.describe()"
   ]
  },
  {
   "cell_type": "code",
   "execution_count": 393,
   "metadata": {},
   "outputs": [
    {
     "data": {
      "text/html": [
       "<div>\n",
       "<style scoped>\n",
       "    .dataframe tbody tr th:only-of-type {\n",
       "        vertical-align: middle;\n",
       "    }\n",
       "\n",
       "    .dataframe tbody tr th {\n",
       "        vertical-align: top;\n",
       "    }\n",
       "\n",
       "    .dataframe thead th {\n",
       "        text-align: right;\n",
       "    }\n",
       "</style>\n",
       "<table border=\"1\" class=\"dataframe\">\n",
       "  <thead>\n",
       "    <tr style=\"text-align: right;\">\n",
       "      <th></th>\n",
       "      <th>Cena</th>\n",
       "    </tr>\n",
       "    <tr>\n",
       "      <th>Marka pojazdu</th>\n",
       "      <th></th>\n",
       "    </tr>\n",
       "  </thead>\n",
       "  <tbody>\n",
       "    <tr>\n",
       "      <th>Adly</th>\n",
       "      <td>1823413.0</td>\n",
       "    </tr>\n",
       "    <tr>\n",
       "      <th>Adler</th>\n",
       "      <td>233046.0</td>\n",
       "    </tr>\n",
       "    <tr>\n",
       "      <th>Bimota</th>\n",
       "      <td>202950.0</td>\n",
       "    </tr>\n",
       "    <tr>\n",
       "      <th>Norton</th>\n",
       "      <td>89500.0</td>\n",
       "    </tr>\n",
       "    <tr>\n",
       "      <th>Indian</th>\n",
       "      <td>81206.0</td>\n",
       "    </tr>\n",
       "    <tr>\n",
       "      <th>MV AGUSTA</th>\n",
       "      <td>68251.0</td>\n",
       "    </tr>\n",
       "    <tr>\n",
       "      <th>Can-Am</th>\n",
       "      <td>67484.0</td>\n",
       "    </tr>\n",
       "    <tr>\n",
       "      <th>Polaris</th>\n",
       "      <td>53437.0</td>\n",
       "    </tr>\n",
       "    <tr>\n",
       "      <th>Ural</th>\n",
       "      <td>53433.0</td>\n",
       "    </tr>\n",
       "    <tr>\n",
       "      <th>Big Dog</th>\n",
       "      <td>52400.0</td>\n",
       "    </tr>\n",
       "    <tr>\n",
       "      <th>Ducati</th>\n",
       "      <td>52189.0</td>\n",
       "    </tr>\n",
       "    <tr>\n",
       "      <th>Harley-Davidson</th>\n",
       "      <td>47458.0</td>\n",
       "    </tr>\n",
       "    <tr>\n",
       "      <th>Bombardier</th>\n",
       "      <td>41520.0</td>\n",
       "    </tr>\n",
       "    <tr>\n",
       "      <th>Victory</th>\n",
       "      <td>37280.0</td>\n",
       "    </tr>\n",
       "    <tr>\n",
       "      <th>BMW</th>\n",
       "      <td>37053.0</td>\n",
       "    </tr>\n",
       "    <tr>\n",
       "      <th>Stels</th>\n",
       "      <td>34766.0</td>\n",
       "    </tr>\n",
       "    <tr>\n",
       "      <th>Moto Guzzi</th>\n",
       "      <td>34227.0</td>\n",
       "    </tr>\n",
       "    <tr>\n",
       "      <th>Triumph</th>\n",
       "      <td>32273.0</td>\n",
       "    </tr>\n",
       "    <tr>\n",
       "      <th>CF Moto</th>\n",
       "      <td>31002.0</td>\n",
       "    </tr>\n",
       "    <tr>\n",
       "      <th>TGB</th>\n",
       "      <td>29791.0</td>\n",
       "    </tr>\n",
       "    <tr>\n",
       "      <th>Husqvarna</th>\n",
       "      <td>26125.0</td>\n",
       "    </tr>\n",
       "    <tr>\n",
       "      <th>KTM</th>\n",
       "      <td>25500.0</td>\n",
       "    </tr>\n",
       "    <tr>\n",
       "      <th>Gas Gas</th>\n",
       "      <td>25159.0</td>\n",
       "    </tr>\n",
       "    <tr>\n",
       "      <th>Access</th>\n",
       "      <td>23992.0</td>\n",
       "    </tr>\n",
       "    <tr>\n",
       "      <th>Royal Enfield</th>\n",
       "      <td>22401.0</td>\n",
       "    </tr>\n",
       "    <tr>\n",
       "      <th>Sherco</th>\n",
       "      <td>21989.0</td>\n",
       "    </tr>\n",
       "    <tr>\n",
       "      <th>Arctic Cat</th>\n",
       "      <td>21801.0</td>\n",
       "    </tr>\n",
       "    <tr>\n",
       "      <th>Goes</th>\n",
       "      <td>21416.0</td>\n",
       "    </tr>\n",
       "    <tr>\n",
       "      <th>Fantic</th>\n",
       "      <td>21160.0</td>\n",
       "    </tr>\n",
       "    <tr>\n",
       "      <th>SWM</th>\n",
       "      <td>21115.0</td>\n",
       "    </tr>\n",
       "    <tr>\n",
       "      <th>Vectrix</th>\n",
       "      <td>20908.0</td>\n",
       "    </tr>\n",
       "    <tr>\n",
       "      <th>Kawasaki</th>\n",
       "      <td>20884.0</td>\n",
       "    </tr>\n",
       "    <tr>\n",
       "      <th>Buell</th>\n",
       "      <td>19963.0</td>\n",
       "    </tr>\n",
       "    <tr>\n",
       "      <th>Yamaha</th>\n",
       "      <td>19207.0</td>\n",
       "    </tr>\n",
       "    <tr>\n",
       "      <th>Beta</th>\n",
       "      <td>19153.0</td>\n",
       "    </tr>\n",
       "    <tr>\n",
       "      <th>Honda</th>\n",
       "      <td>19116.0</td>\n",
       "    </tr>\n",
       "    <tr>\n",
       "      <th>Linhai</th>\n",
       "      <td>18878.0</td>\n",
       "    </tr>\n",
       "    <tr>\n",
       "      <th>Dniepr</th>\n",
       "      <td>18133.0</td>\n",
       "    </tr>\n",
       "    <tr>\n",
       "      <th>Benelli</th>\n",
       "      <td>16972.0</td>\n",
       "    </tr>\n",
       "    <tr>\n",
       "      <th>Jawa</th>\n",
       "      <td>16525.0</td>\n",
       "    </tr>\n",
       "    <tr>\n",
       "      <th>Hercules</th>\n",
       "      <td>15999.0</td>\n",
       "    </tr>\n",
       "    <tr>\n",
       "      <th>CECTEK</th>\n",
       "      <td>15400.0</td>\n",
       "    </tr>\n",
       "    <tr>\n",
       "      <th>Vespa</th>\n",
       "      <td>15019.0</td>\n",
       "    </tr>\n",
       "    <tr>\n",
       "      <th>Suzuki</th>\n",
       "      <td>14940.0</td>\n",
       "    </tr>\n",
       "    <tr>\n",
       "      <th>Aprilia</th>\n",
       "      <td>14531.0</td>\n",
       "    </tr>\n",
       "    <tr>\n",
       "      <th>Askoll</th>\n",
       "      <td>14042.0</td>\n",
       "    </tr>\n",
       "    <tr>\n",
       "      <th>Mondial</th>\n",
       "      <td>13686.0</td>\n",
       "    </tr>\n",
       "    <tr>\n",
       "      <th>Bajaj</th>\n",
       "      <td>12939.0</td>\n",
       "    </tr>\n",
       "    <tr>\n",
       "      <th>Sachs</th>\n",
       "      <td>12850.0</td>\n",
       "    </tr>\n",
       "    <tr>\n",
       "      <th>TM</th>\n",
       "      <td>12700.0</td>\n",
       "    </tr>\n",
       "    <tr>\n",
       "      <th>Super Soco</th>\n",
       "      <td>12250.0</td>\n",
       "    </tr>\n",
       "    <tr>\n",
       "      <th>Lambretta</th>\n",
       "      <td>11885.0</td>\n",
       "    </tr>\n",
       "    <tr>\n",
       "      <th>AJP</th>\n",
       "      <td>10850.0</td>\n",
       "    </tr>\n",
       "    <tr>\n",
       "      <th>Moto Morini</th>\n",
       "      <td>10650.0</td>\n",
       "    </tr>\n",
       "    <tr>\n",
       "      <th>Kymco</th>\n",
       "      <td>10559.0</td>\n",
       "    </tr>\n",
       "    <tr>\n",
       "      <th>Malaguti</th>\n",
       "      <td>10507.0</td>\n",
       "    </tr>\n",
       "    <tr>\n",
       "      <th>Dinli</th>\n",
       "      <td>10455.0</td>\n",
       "    </tr>\n",
       "    <tr>\n",
       "      <th>SMC</th>\n",
       "      <td>9733.0</td>\n",
       "    </tr>\n",
       "    <tr>\n",
       "      <th>Masai</th>\n",
       "      <td>9550.0</td>\n",
       "    </tr>\n",
       "    <tr>\n",
       "      <th>Piaggio</th>\n",
       "      <td>9313.0</td>\n",
       "    </tr>\n",
       "    <tr>\n",
       "      <th>Eagle Motorsports</th>\n",
       "      <td>8900.0</td>\n",
       "    </tr>\n",
       "    <tr>\n",
       "      <th>Niu</th>\n",
       "      <td>8820.0</td>\n",
       "    </tr>\n",
       "    <tr>\n",
       "      <th>MZ</th>\n",
       "      <td>8816.0</td>\n",
       "    </tr>\n",
       "    <tr>\n",
       "      <th>Simson</th>\n",
       "      <td>8811.0</td>\n",
       "    </tr>\n",
       "    <tr>\n",
       "      <th>Hyosung</th>\n",
       "      <td>8633.0</td>\n",
       "    </tr>\n",
       "    <tr>\n",
       "      <th>Rieju</th>\n",
       "      <td>7705.0</td>\n",
       "    </tr>\n",
       "    <tr>\n",
       "      <th>Husaberg</th>\n",
       "      <td>7500.0</td>\n",
       "    </tr>\n",
       "    <tr>\n",
       "      <th>Cleveland</th>\n",
       "      <td>7499.0</td>\n",
       "    </tr>\n",
       "    <tr>\n",
       "      <th>Peugeot</th>\n",
       "      <td>7291.0</td>\n",
       "    </tr>\n",
       "    <tr>\n",
       "      <th>Inny</th>\n",
       "      <td>7219.0</td>\n",
       "    </tr>\n",
       "    <tr>\n",
       "      <th>SYM</th>\n",
       "      <td>7178.0</td>\n",
       "    </tr>\n",
       "    <tr>\n",
       "      <th>Junak</th>\n",
       "      <td>7117.0</td>\n",
       "    </tr>\n",
       "    <tr>\n",
       "      <th>Benyco</th>\n",
       "      <td>7061.0</td>\n",
       "    </tr>\n",
       "    <tr>\n",
       "      <th>Cagiva</th>\n",
       "      <td>6883.0</td>\n",
       "    </tr>\n",
       "    <tr>\n",
       "      <th>Keeway</th>\n",
       "      <td>6832.0</td>\n",
       "    </tr>\n",
       "    <tr>\n",
       "      <th>Loncin</th>\n",
       "      <td>6637.0</td>\n",
       "    </tr>\n",
       "    <tr>\n",
       "      <th>Zongshen</th>\n",
       "      <td>6599.0</td>\n",
       "    </tr>\n",
       "    <tr>\n",
       "      <th>LML</th>\n",
       "      <td>6500.0</td>\n",
       "    </tr>\n",
       "    <tr>\n",
       "      <th>Aeon</th>\n",
       "      <td>6150.0</td>\n",
       "    </tr>\n",
       "    <tr>\n",
       "      <th>Romet</th>\n",
       "      <td>5982.0</td>\n",
       "    </tr>\n",
       "    <tr>\n",
       "      <th>Gilera</th>\n",
       "      <td>5947.0</td>\n",
       "    </tr>\n",
       "    <tr>\n",
       "      <th>Zumico</th>\n",
       "      <td>5767.0</td>\n",
       "    </tr>\n",
       "    <tr>\n",
       "      <th>Diabolini</th>\n",
       "      <td>5447.0</td>\n",
       "    </tr>\n",
       "    <tr>\n",
       "      <th>Barton</th>\n",
       "      <td>5394.0</td>\n",
       "    </tr>\n",
       "    <tr>\n",
       "      <th>Derbi</th>\n",
       "      <td>5375.0</td>\n",
       "    </tr>\n",
       "    <tr>\n",
       "      <th>Zipp</th>\n",
       "      <td>5286.0</td>\n",
       "    </tr>\n",
       "    <tr>\n",
       "      <th>Daelim</th>\n",
       "      <td>5216.0</td>\n",
       "    </tr>\n",
       "    <tr>\n",
       "      <th>Shineray</th>\n",
       "      <td>5200.0</td>\n",
       "    </tr>\n",
       "    <tr>\n",
       "      <th>EGL Eglmotor</th>\n",
       "      <td>4775.0</td>\n",
       "    </tr>\n",
       "    <tr>\n",
       "      <th>CPI</th>\n",
       "      <td>4560.0</td>\n",
       "    </tr>\n",
       "    <tr>\n",
       "      <th>Lifan</th>\n",
       "      <td>4475.0</td>\n",
       "    </tr>\n",
       "    <tr>\n",
       "      <th>Bashan</th>\n",
       "      <td>3716.0</td>\n",
       "    </tr>\n",
       "    <tr>\n",
       "      <th>Moti</th>\n",
       "      <td>3600.0</td>\n",
       "    </tr>\n",
       "    <tr>\n",
       "      <th>X-Moto</th>\n",
       "      <td>3595.0</td>\n",
       "    </tr>\n",
       "    <tr>\n",
       "      <th>Generic</th>\n",
       "      <td>3350.0</td>\n",
       "    </tr>\n",
       "    <tr>\n",
       "      <th>MBK</th>\n",
       "      <td>3299.0</td>\n",
       "    </tr>\n",
       "    <tr>\n",
       "      <th>City-bike</th>\n",
       "      <td>3200.0</td>\n",
       "    </tr>\n",
       "    <tr>\n",
       "      <th>Garelli</th>\n",
       "      <td>3100.0</td>\n",
       "    </tr>\n",
       "    <tr>\n",
       "      <th>Kingway</th>\n",
       "      <td>2992.0</td>\n",
       "    </tr>\n",
       "    <tr>\n",
       "      <th>Italjet</th>\n",
       "      <td>2900.0</td>\n",
       "    </tr>\n",
       "    <tr>\n",
       "      <th>KXD</th>\n",
       "      <td>2730.0</td>\n",
       "    </tr>\n",
       "    <tr>\n",
       "      <th>Benzer</th>\n",
       "      <td>2607.0</td>\n",
       "    </tr>\n",
       "    <tr>\n",
       "      <th>Moto Magnus</th>\n",
       "      <td>2350.0</td>\n",
       "    </tr>\n",
       "    <tr>\n",
       "      <th>Komar</th>\n",
       "      <td>2300.0</td>\n",
       "    </tr>\n",
       "    <tr>\n",
       "      <th>FYM</th>\n",
       "      <td>2275.0</td>\n",
       "    </tr>\n",
       "    <tr>\n",
       "      <th>Hartford</th>\n",
       "      <td>2150.0</td>\n",
       "    </tr>\n",
       "    <tr>\n",
       "      <th>Baotian</th>\n",
       "      <td>1950.0</td>\n",
       "    </tr>\n",
       "    <tr>\n",
       "      <th>WSK</th>\n",
       "      <td>1950.0</td>\n",
       "    </tr>\n",
       "    <tr>\n",
       "      <th>Ferro</th>\n",
       "      <td>1825.0</td>\n",
       "    </tr>\n",
       "    <tr>\n",
       "      <th>Skyjet</th>\n",
       "      <td>1490.0</td>\n",
       "    </tr>\n",
       "    <tr>\n",
       "      <th>REX</th>\n",
       "      <td>1274.0</td>\n",
       "    </tr>\n",
       "    <tr>\n",
       "      <th>Ventus</th>\n",
       "      <td>999.0</td>\n",
       "    </tr>\n",
       "    <tr>\n",
       "      <th>Hero</th>\n",
       "      <td>650.0</td>\n",
       "    </tr>\n",
       "  </tbody>\n",
       "</table>\n",
       "</div>"
      ],
      "text/plain": [
       "                        Cena\n",
       "Marka pojazdu               \n",
       "Adly               1823413.0\n",
       "Adler               233046.0\n",
       "Bimota              202950.0\n",
       "Norton               89500.0\n",
       "Indian               81206.0\n",
       "MV AGUSTA            68251.0\n",
       "Can-Am               67484.0\n",
       "Polaris              53437.0\n",
       "Ural                 53433.0\n",
       "Big Dog              52400.0\n",
       "Ducati               52189.0\n",
       "Harley-Davidson      47458.0\n",
       "Bombardier           41520.0\n",
       "Victory              37280.0\n",
       "BMW                  37053.0\n",
       "Stels                34766.0\n",
       "Moto Guzzi           34227.0\n",
       "Triumph              32273.0\n",
       "CF Moto              31002.0\n",
       "TGB                  29791.0\n",
       "Husqvarna            26125.0\n",
       "KTM                  25500.0\n",
       "Gas Gas              25159.0\n",
       "Access               23992.0\n",
       "Royal Enfield        22401.0\n",
       "Sherco               21989.0\n",
       "Arctic Cat           21801.0\n",
       "Goes                 21416.0\n",
       "Fantic               21160.0\n",
       "SWM                  21115.0\n",
       "Vectrix              20908.0\n",
       "Kawasaki             20884.0\n",
       "Buell                19963.0\n",
       "Yamaha               19207.0\n",
       "Beta                 19153.0\n",
       "Honda                19116.0\n",
       "Linhai               18878.0\n",
       "Dniepr               18133.0\n",
       "Benelli              16972.0\n",
       "Jawa                 16525.0\n",
       "Hercules             15999.0\n",
       "CECTEK               15400.0\n",
       "Vespa                15019.0\n",
       "Suzuki               14940.0\n",
       "Aprilia              14531.0\n",
       "Askoll               14042.0\n",
       "Mondial              13686.0\n",
       "Bajaj                12939.0\n",
       "Sachs                12850.0\n",
       "TM                   12700.0\n",
       "Super Soco           12250.0\n",
       "Lambretta            11885.0\n",
       "AJP                  10850.0\n",
       "Moto Morini          10650.0\n",
       "Kymco                10559.0\n",
       "Malaguti             10507.0\n",
       "Dinli                10455.0\n",
       "SMC                   9733.0\n",
       "Masai                 9550.0\n",
       "Piaggio               9313.0\n",
       "Eagle Motorsports     8900.0\n",
       "Niu                   8820.0\n",
       "MZ                    8816.0\n",
       "Simson                8811.0\n",
       "Hyosung               8633.0\n",
       "Rieju                 7705.0\n",
       "Husaberg              7500.0\n",
       "Cleveland             7499.0\n",
       "Peugeot               7291.0\n",
       "Inny                  7219.0\n",
       "SYM                   7178.0\n",
       "Junak                 7117.0\n",
       "Benyco                7061.0\n",
       "Cagiva                6883.0\n",
       "Keeway                6832.0\n",
       "Loncin                6637.0\n",
       "Zongshen              6599.0\n",
       "LML                   6500.0\n",
       "Aeon                  6150.0\n",
       "Romet                 5982.0\n",
       "Gilera                5947.0\n",
       "Zumico                5767.0\n",
       "Diabolini             5447.0\n",
       "Barton                5394.0\n",
       "Derbi                 5375.0\n",
       "Zipp                  5286.0\n",
       "Daelim                5216.0\n",
       "Shineray              5200.0\n",
       "EGL Eglmotor          4775.0\n",
       "CPI                   4560.0\n",
       "Lifan                 4475.0\n",
       "Bashan                3716.0\n",
       "Moti                  3600.0\n",
       "X-Moto                3595.0\n",
       "Generic               3350.0\n",
       "MBK                   3299.0\n",
       "City-bike             3200.0\n",
       "Garelli               3100.0\n",
       "Kingway               2992.0\n",
       "Italjet               2900.0\n",
       "KXD                   2730.0\n",
       "Benzer                2607.0\n",
       "Moto Magnus           2350.0\n",
       "Komar                 2300.0\n",
       "FYM                   2275.0\n",
       "Hartford              2150.0\n",
       "Baotian               1950.0\n",
       "WSK                   1950.0\n",
       "Ferro                 1825.0\n",
       "Skyjet                1490.0\n",
       "REX                   1274.0\n",
       "Ventus                 999.0\n",
       "Hero                   650.0"
      ]
     },
     "execution_count": 393,
     "metadata": {},
     "output_type": "execute_result"
    }
   ],
   "source": [
    "# Obliczmy sobie średnią cenę dla marki\n",
    "dane[['Marka pojazdu', 'Cena']].groupby('Marka pojazdu').mean().round().sort_values('Cena',ascending=False)"
   ]
  },
  {
   "cell_type": "markdown",
   "metadata": {},
   "source": [
    "#### Dwie pierwsze pozycje to śmieciowe dane - po sprawdzeniu: \n",
    "- Adly to zwykły skuter za max. kilka tysięcy\n",
    "- Adler - w opisie aukcji jest bitmapa z hasłem \"Ogłoszenie testowe - proszę zignorować\"\n",
    "- 3 pozycja od góry już realna: Bimota - faktycznie kosztuje majątek 35-38 tys. EUR netto\n",
    "#### Decyzja - kasujemy \"śmieciowe dane\" - motory o cenie > 100 tys."
   ]
  },
  {
   "cell_type": "code",
   "execution_count": 394,
   "metadata": {},
   "outputs": [],
   "source": [
    "kasuj_nierealne_ceny = lambda df: df.drop(df[df['Cena']>100000].index,axis=0,inplace=True)\n",
    "\n",
    "funkcje_konwersji_danych.append(kasuj_nierealne_ceny)\n",
    "kasuj_nierealne_ceny(dane)"
   ]
  },
  {
   "cell_type": "markdown",
   "metadata": {},
   "source": [
    "## Pole 'Marka pojazdu' (113 marek) - brak NaN - z uwagi na błędy \"unknown categories\" w zbiorze testowym, marki o liczności < 8 zamieniamy na \"Inne\""
   ]
  },
  {
   "cell_type": "code",
   "execution_count": 395,
   "metadata": {},
   "outputs": [
    {
     "data": {
      "text/plain": [
       "Yamaha               2800\n",
       "Honda                2737\n",
       "Suzuki               1719\n",
       "BMW                  1363\n",
       "Kawasaki             1131\n",
       "Harley-Davidson       926\n",
       "KTM                   543\n",
       "Inny                  404\n",
       "Can-Am                392\n",
       "Ducati                317\n",
       "Kymco                 317\n",
       "Romet                 305\n",
       "Aprilia               286\n",
       "Piaggio               277\n",
       "Triumph               273\n",
       "Polaris               236\n",
       "Junak                 180\n",
       "Peugeot               179\n",
       "Vespa                 150\n",
       "CF Moto               135\n",
       "Barton                132\n",
       "Zipp                  130\n",
       "Husqvarna             104\n",
       "Keeway                 93\n",
       "Benyco                 89\n",
       "Moto Guzzi             88\n",
       "Indian                 81\n",
       "SYM                    72\n",
       "Benelli                71\n",
       "Bashan                 70\n",
       "Linhai                 60\n",
       "MV AGUSTA              56\n",
       "Hyosung                55\n",
       "Bajaj                  52\n",
       "Daelim                 42\n",
       "Beta                   41\n",
       "Malaguti               33\n",
       "Gilera                 30\n",
       "TGB                    30\n",
       "Derbi                  28\n",
       "Victory                28\n",
       "X-Moto                 27\n",
       "SWM                    26\n",
       "Gas Gas                22\n",
       "Mondial                21\n",
       "Buell                  19\n",
       "Rieju                  19\n",
       "Diabolini              17\n",
       "Bombardier             15\n",
       "Arctic Cat             15\n",
       "Access                 14\n",
       "KXD                    14\n",
       "Loncin                 11\n",
       "MZ                     10\n",
       "Sherco                  9\n",
       "Simson                  8\n",
       "Kingway                 8\n",
       "Niu                     8\n",
       "Lambretta               7\n",
       "MBK                     7\n",
       "Big Dog                 6\n",
       "SMC                     6\n",
       "Cagiva                  6\n",
       "Goes                    6\n",
       "Generic                 5\n",
       "CPI                     5\n",
       "Fantic                  5\n",
       "EGL Eglmotor            4\n",
       "Jawa                    4\n",
       "Royal Enfield           4\n",
       "Askoll                  4\n",
       "Masai                   4\n",
       "Dniepr                  3\n",
       "Ural                    3\n",
       "Zumico                  3\n",
       "Stels                   3\n",
       "Benzer                  3\n",
       "Aeon                    2\n",
       "Moto Magnus             2\n",
       "Super Soco              2\n",
       "Sachs                   2\n",
       "Lifan                   2\n",
       "REX                     2\n",
       "Vectrix                 2\n",
       "AJP                     2\n",
       "Moto Morini             2\n",
       "CECTEK                  2\n",
       "Baotian                 2\n",
       "Ferro                   2\n",
       "FYM                     2\n",
       "TM                      2\n",
       "Dinli                   1\n",
       "Hercules                1\n",
       "Adly                    1\n",
       "Italjet                 1\n",
       "Zongshen                1\n",
       "Bimota                  1\n",
       "City-bike               1\n",
       "Husaberg                1\n",
       "Garelli                 1\n",
       "LML                     1\n",
       "Komar                   1\n",
       "Moti                    1\n",
       "Norton                  1\n",
       "Shineray                1\n",
       "WSK                     1\n",
       "Cleveland               1\n",
       "Skyjet                  1\n",
       "Hero                    1\n",
       "Ventus                  1\n",
       "Eagle Motorsports       1\n",
       "Hartford                1\n",
       "Name: Marka pojazdu, dtype: int64"
      ]
     },
     "execution_count": 395,
     "metadata": {},
     "output_type": "execute_result"
    }
   ],
   "source": [
    "dane['Marka pojazdu'].value_counts(dropna=False)"
   ]
  },
  {
   "cell_type": "code",
   "execution_count": 396,
   "metadata": {},
   "outputs": [
    {
     "data": {
      "text/plain": [
       "Index(['Lambretta', 'MBK', 'Big Dog', 'SMC', 'Cagiva', 'Goes', 'Generic',\n",
       "       'CPI', 'Fantic', 'EGL Eglmotor', 'Jawa', 'Royal Enfield', 'Askoll',\n",
       "       'Masai', 'Dniepr', 'Ural', 'Zumico', 'Stels', 'Benzer', 'Aeon',\n",
       "       'Moto Magnus', 'Super Soco', 'Sachs', 'Lifan', 'REX', 'Vectrix', 'AJP',\n",
       "       'Moto Morini', 'CECTEK', 'Baotian', 'Ferro', 'FYM', 'TM', 'Dinli',\n",
       "       'Hercules', 'Adly', 'Italjet', 'Zongshen', 'Bimota', 'City-bike',\n",
       "       'Husaberg', 'Garelli', 'LML', 'Komar', 'Moti', 'Norton', 'Shineray',\n",
       "       'WSK', 'Cleveland', 'Skyjet', 'Hero', 'Ventus', 'Eagle Motorsports',\n",
       "       'Hartford'],\n",
       "      dtype='object')"
      ]
     },
     "execution_count": 396,
     "metadata": {},
     "output_type": "execute_result"
    }
   ],
   "source": [
    "# Marki o iczności mniejszej niż 8 - zamieniamy na \"Inne\"\n",
    "dane['Marka pojazdu'].value_counts(dropna=False)[liczniki_marki < 8].index"
   ]
  },
  {
   "cell_type": "code",
   "execution_count": 397,
   "metadata": {},
   "outputs": [],
   "source": [
    "def unikalne_marki_zamien_na_inne(df):\n",
    "    unikatowe_marki = df['Marka pojazdu'].value_counts(dropna=False)[liczniki_marki < 8].index.to_list()\n",
    "    df.loc[df['Marka pojazdu'].isin(unikatowe_marki),'Marka pojazdu'] = \"Inne\"\n",
    "    \n",
    "funkcje_konwersji_danych.append(unikalne_marki_zamien_na_inne)\n",
    "unikalne_marki_zamien_na_inne(dane)"
   ]
  },
  {
   "cell_type": "code",
   "execution_count": null,
   "metadata": {},
   "outputs": [],
   "source": []
  },
  {
   "cell_type": "code",
   "execution_count": 398,
   "metadata": {},
   "outputs": [
    {
     "data": {
      "text/plain": [
       "['Lambretta',\n",
       " 'MBK',\n",
       " 'Big Dog',\n",
       " 'SMC',\n",
       " 'Cagiva',\n",
       " 'Goes',\n",
       " 'Generic',\n",
       " 'CPI',\n",
       " 'Fantic',\n",
       " 'EGL Eglmotor',\n",
       " 'Jawa',\n",
       " 'Royal Enfield',\n",
       " 'Askoll',\n",
       " 'Masai',\n",
       " 'Dniepr',\n",
       " 'Ural',\n",
       " 'Zumico',\n",
       " 'Stels',\n",
       " 'Benzer',\n",
       " 'Aeon',\n",
       " 'Moto Magnus',\n",
       " 'Super Soco',\n",
       " 'Sachs',\n",
       " 'Lifan',\n",
       " 'REX',\n",
       " 'Vectrix',\n",
       " 'AJP',\n",
       " 'Moto Morini',\n",
       " 'CECTEK',\n",
       " 'Baotian',\n",
       " 'Ferro',\n",
       " 'FYM',\n",
       " 'TM',\n",
       " 'Dinli',\n",
       " 'Hercules',\n",
       " 'Adly',\n",
       " 'Italjet',\n",
       " 'Zongshen',\n",
       " 'Bimota',\n",
       " 'City-bike',\n",
       " 'Husaberg',\n",
       " 'Garelli',\n",
       " 'LML',\n",
       " 'Komar',\n",
       " 'Moti',\n",
       " 'Norton',\n",
       " 'Shineray',\n",
       " 'WSK',\n",
       " 'Cleveland',\n",
       " 'Skyjet',\n",
       " 'Hero',\n",
       " 'Ventus',\n",
       " 'Eagle Motorsports',\n",
       " 'Hartford']"
      ]
     },
     "execution_count": 398,
     "metadata": {},
     "output_type": "execute_result"
    }
   ],
   "source": [
    "unikatowe_marki"
   ]
  },
  {
   "cell_type": "markdown",
   "metadata": {},
   "source": [
    "## Pole 'Model pojazdu' - 661 modeli (bardzo dużo trochę), 89 nan - kasujemy tę kolumnę, bo po podziale na zbiory treningowy/testowy są błędy - pewne kategorie są z zbiorze testowym brak ich w treningowym i na odwrót\n"
   ]
  },
  {
   "cell_type": "code",
   "execution_count": 399,
   "metadata": {},
   "outputs": [],
   "source": [
    "kolumny_do_skasowania.append('Model pojazdu')"
   ]
  },
  {
   "cell_type": "code",
   "execution_count": 400,
   "metadata": {},
   "outputs": [
    {
     "data": {
      "text/plain": [
       "657"
      ]
     },
     "execution_count": 400,
     "metadata": {},
     "output_type": "execute_result"
    }
   ],
   "source": [
    "len(dane['Model pojazdu'].unique())"
   ]
  },
  {
   "cell_type": "code",
   "execution_count": 401,
   "metadata": {},
   "outputs": [
    {
     "data": {
      "text/plain": [
       "Inny                                   1940\n",
       "CBR                                     461\n",
       "R                                       389\n",
       "GS                                      308\n",
       "MT                                      270\n",
       "Shadow                                  258\n",
       "CB                                      244\n",
       "Z                                       222\n",
       "Burgman                                 215\n",
       "YZF                                     202\n",
       "K                                       189\n",
       "CBF                                     185\n",
       "DL                                      183\n",
       "FZ                                      178\n",
       "F                                       175\n",
       "EXC                                     164\n",
       "CRF                                     163\n",
       "GSX-R                                   163\n",
       "Sportster                               162\n",
       "Drag Star                               158\n",
       "Virago                                  156\n",
       "Outlander                               149\n",
       "Intruder                                143\n",
       "X-max                                   131\n",
       "Duke                                    129\n",
       "Sportsman                               128\n",
       "VFR                                     125\n",
       "VTX                                     122\n",
       "ER                                      122\n",
       "SV                                      119\n",
       "Softail                                 116\n",
       "XVS                                     116\n",
       "Bandit                                  115\n",
       "VT                                      113\n",
       "GL                                      110\n",
       "Varadero                                108\n",
       "XJ                                      104\n",
       "GSX                                     103\n",
       "RT                                      100\n",
       "NC                                       98\n",
       "Vulcan                                   96\n",
       "VN                                       94\n",
       "S                                        94\n",
       "SX                                       92\n",
       "XV                                       91\n",
       "Road King                                89\n",
       "NaN                                      89\n",
       "FJR                                      88\n",
       "Monster                                  87\n",
       "Grizzly                                  84\n",
       "GSF - Bandit                             83\n",
       "GSR                                      78\n",
       "Renegade                                 77\n",
       "KLE                                      76\n",
       "Heritage                                 76\n",
       "Tiger                                    75\n",
       "GTS                                      70\n",
       "Electra Glide                            68\n",
       "FZS                                      68\n",
       "Hornet                                   67\n",
       "ZX                                       66\n",
       "Agility                                  66\n",
       "Ninja                                    65\n",
       "R6                                       62\n",
       "GSX-F - Katana                           62\n",
       "TDM                                      62\n",
       "Outlander Max                            61\n",
       "Scrambler                                60\n",
       "R1                                       60\n",
       "ST                                       60\n",
       "Multistrada                              57\n",
       "Vespa                                    56\n",
       "Fat Boy                                  56\n",
       "Transalp                                 55\n",
       "M                                        54\n",
       "Allroad                                  54\n",
       "Tmax                                     52\n",
       "YZ                                       50\n",
       "KX                                       50\n",
       "G                                        50\n",
       "Majesty                                  49\n",
       "PCX                                      49\n",
       "RS                                       48\n",
       "WR                                       47\n",
       "ZXR                                      47\n",
       "MP-3                                     44\n",
       "Boulevard                                43\n",
       "SH                                       42\n",
       "LC                                       42\n",
       "Satelis                                  42\n",
       "Downtown                                 41\n",
       "YBR                                      38\n",
       "Scout                                    38\n",
       "Bonneville                               38\n",
       "NSS                                      38\n",
       "Raptor                                   37\n",
       "SR                                       37\n",
       "Diavel                                   37\n",
       "GV                                       36\n",
       "Gladius                                  36\n",
       "Road Star                                36\n",
       "Dyna Street Bob                          35\n",
       "V-Rod                                    35\n",
       "SXF                                      35\n",
       "VL 800 Volusia - Boulevard C50           34\n",
       "FLHX Street Glide                        34\n",
       "Speed Triple                             34\n",
       "Sprint                                   33\n",
       "XL                                       32\n",
       "NTV                                      31\n",
       "XSR                                      31\n",
       "TE                                       31\n",
       "ZZR                                      31\n",
       "XT                                       31\n",
       "Street Triple                            31\n",
       "RR                                       30\n",
       "Xciting                                  30\n",
       "Tuono                                    29\n",
       "MXU                                      29\n",
       "Marauder                                 29\n",
       "Dyna                                     29\n",
       "ATV                                      28\n",
       "LT                                       28\n",
       "Electra                                  28\n",
       "Spyder                                   28\n",
       "XRV                                      28\n",
       "Midnight Star                            27\n",
       "Beverly                                  27\n",
       "Aerox                                    27\n",
       "ZR                                       27\n",
       "Raider                                   27\n",
       "Speedfight                               27\n",
       "RM-Z                                     27\n",
       "XR                                       27\n",
       "Custom                                   26\n",
       "VL 1500 Intruder LC - Boulevard C90      26\n",
       "Springer                                 25\n",
       "TRX                                      25\n",
       "RCR                                      25\n",
       "Ryker                                    25\n",
       "Tracer                                   25\n",
       "XTZ                                      25\n",
       "VS                                       25\n",
       "Adventure                                24\n",
       "TZR                                      24\n",
       "Blade                                    24\n",
       "CA                                       23\n",
       "XJR                                      23\n",
       "Kingquad                                 22\n",
       "Like                                     22\n",
       "Deauville                                22\n",
       "EN                                       22\n",
       "Road Glide                               22\n",
       "Maverick                                 22\n",
       "FLY                                      22\n",
       "Ranger RZR                               21\n",
       "GPZ                                      21\n",
       "Pulsar                                   21\n",
       "Kodiak                                   21\n",
       "V Star                                   20\n",
       "RZ                                       20\n",
       "FE                                       20\n",
       "Atlantic                                 20\n",
       "Scarabeo                                 20\n",
       "V-MAX                                    19\n",
       "RSV                                      19\n",
       "LX                                       19\n",
       "Kisbee                                   19\n",
       "Tricity                                  19\n",
       "S-Wing                                   19\n",
       "X10                                      19\n",
       "Hayabusa                                 19\n",
       "Pegaso                                   19\n",
       "Brute Force                              18\n",
       "XVZ                                      18\n",
       "DR                                       18\n",
       "CMX                                      18\n",
       "Dyna Super Glide                         18\n",
       "Valkyrie                                 17\n",
       "FZR                                      17\n",
       "Brutale                                  17\n",
       "Ninja 250R                               17\n",
       "Fiddle                                   17\n",
       "EC                                       17\n",
       "Liberty                                  17\n",
       "Xevo                                     17\n",
       "Senda                                    17\n",
       "Agility City A-C                         17\n",
       "Silver Wing                              16\n",
       "Soft Chopper                             16\n",
       "Dominar 400                              16\n",
       "YFM                                      16\n",
       "Versys 650                               15\n",
       "VZ                                       15\n",
       "Leoncino                                 15\n",
       "ZIPP 125                                 15\n",
       "V7                                       15\n",
       "FLH Electra Glide                        15\n",
       "Tenere                                   15\n",
       "GTR                                      15\n",
       "GN                                       15\n",
       "Chieftain                                14\n",
       "Superlight                               14\n",
       "Ninja 300 ABS                            14\n",
       "Royal Star                               14\n",
       "RX                                       14\n",
       "TTR                                      14\n",
       "GT                                       14\n",
       "X9                                       14\n",
       "Outlaw                                   14\n",
       "EL                                       14\n",
       "Rocket                                   14\n",
       "Thunderbird                              13\n",
       "BT                                       13\n",
       "Super 8                                  13\n",
       "Quantum                                  13\n",
       "People                                   13\n",
       "VTR                                      12\n",
       "Maxxer                                   12\n",
       "Vision                                   12\n",
       "VF                                       12\n",
       "RXL                                      12\n",
       "VL                                       12\n",
       "Breva                                    12\n",
       "XF                                       12\n",
       "300                                      12\n",
       "Dragster                                 12\n",
       "X8                                       12\n",
       "Shiver                                   12\n",
       "PW                                       12\n",
       "Chief                                    11\n",
       "Citystar                                 11\n",
       "ZRX                                      11\n",
       "XB                                       11\n",
       "Django                                   11\n",
       "Zetka                                    11\n",
       "FXSB Breakout                            11\n",
       "696                                      11\n",
       "YS                                       11\n",
       "727                                      11\n",
       "SMC                                      11\n",
       "DS                                       10\n",
       "FES                                      10\n",
       "Warrior                                  10\n",
       "Thundercat                               10\n",
       "JET                                      10\n",
       "C650 GT                                  10\n",
       "Savage                                   10\n",
       "SM                                       10\n",
       "F3                                       10\n",
       "                                       ... \n",
       "999                                       3\n",
       "PX                                        3\n",
       "New Vivacity                              3\n",
       "ZL                                        3\n",
       "Mio                                       3\n",
       "Rincon                                    3\n",
       "F-act-Fact-NKD                            3\n",
       "AK 550                                    3\n",
       "U                                         3\n",
       "1000 GTR                                  3\n",
       "Evo                                       3\n",
       "1098                                      3\n",
       "Phoenix                                   3\n",
       "ST4                                       3\n",
       "Speed Four                                3\n",
       "V                                         3\n",
       "S3                                        3\n",
       "Roadwin                                   3\n",
       "2T Trials                                 3\n",
       "Enduro                                    3\n",
       "X4                                        3\n",
       "SMT                                       3\n",
       "350                                       2\n",
       "Dyna Glide                                2\n",
       "Ape 50 Pickup                             2\n",
       "RG                                        2\n",
       "Superdual X                               2\n",
       "TW                                        2\n",
       "FLHS Electra Glide                        2\n",
       "Yup                                       2\n",
       "MRX                                       2\n",
       "Tango                                     2\n",
       "Canyon                                    2\n",
       "ST3                                       2\n",
       "XR6                                       2\n",
       "Wolverine                                 2\n",
       "CK                                        2\n",
       "RXV                                       2\n",
       "XLV                                       2\n",
       "KMX                                       2\n",
       "Jumbo                                     2\n",
       "RC                                        2\n",
       "Cruise II                                 2\n",
       "MTX                                       2\n",
       "LTR                                       2\n",
       "748                                       2\n",
       "Vegas                                     2\n",
       "VX-1                                      2\n",
       "Falco                                     2\n",
       "Lyda                                      2\n",
       "Ace of spades                             2\n",
       "Ludix 2                                   2\n",
       "SM 125 R                                  2\n",
       "955                                       2\n",
       "Belville                                  2\n",
       "Movie XL                                  2\n",
       "Quannon-KR Sport                          2\n",
       "ORS 150                                   2\n",
       "Jinlun                                    2\n",
       "MSX 125                                   2\n",
       "Ogar 900                                  2\n",
       "4T                                        2\n",
       "Ranger EV                                 2\n",
       "Madix                                     2\n",
       "Cityliner                                 2\n",
       "Skipper                                   2\n",
       "CT                                        2\n",
       "Rancher                                   2\n",
       "Sfera                                     2\n",
       "707                                       2\n",
       "Tuareg                                    2\n",
       "Raven 125                                 2\n",
       "Symply                                    2\n",
       "Stalker 50                                2\n",
       "500                                       2\n",
       "M+                                        2\n",
       "1200                                      2\n",
       "Custom Low Rider                          2\n",
       "Hammer                                    2\n",
       "Springfield                               2\n",
       "XPS SM                                    2\n",
       "Red Rose                                  2\n",
       "SL                                        2\n",
       "Jet Force                                 2\n",
       "Pulsar Luxe                               2\n",
       "Mojito                                    2\n",
       "K-9                                       2\n",
       "M4                                        2\n",
       "Nitro                                     2\n",
       "eS2                                       2\n",
       "RS 500 R                                  2\n",
       "RS 125 R                                  2\n",
       "GT Comet                                  2\n",
       "Predator                                  2\n",
       "PR4                                       2\n",
       "LF                                        2\n",
       "DRR                                       2\n",
       "CBX                                       2\n",
       "Six Days                                  2\n",
       "Silver Vase                               2\n",
       "260                                       2\n",
       "Booster                                   2\n",
       "KV                                        2\n",
       "Brutale S                                 2\n",
       "CLR                                       2\n",
       "BWS                                       2\n",
       "Jet C-tech                                2\n",
       "Trial                                     2\n",
       "FX                                        2\n",
       "Classic                                   2\n",
       "MRT SM                                    1\n",
       "777                                       1\n",
       "MT-11                                     1\n",
       "ST2                                       1\n",
       "TRE                                       1\n",
       "Ovetto                                    1\n",
       "NKD                                       1\n",
       "Beluga                                    1\n",
       "KL                                        1\n",
       "BS150-2                                   1\n",
       "Super                                     1\n",
       "125SM                                     1\n",
       "Drakon                                    1\n",
       "XP 6                                      1\n",
       "SP                                        1\n",
       "AE                                        1\n",
       "Streetfighter 848                         1\n",
       "CX                                        1\n",
       "Cobra                                     1\n",
       "Express                                   1\n",
       "Qute                                      1\n",
       "RS2                                       1\n",
       "Hurricane                                 1\n",
       "CG                                        1\n",
       "Cross                                     1\n",
       "XLR                                       1\n",
       "Ry-8                                      1\n",
       "750                                       1\n",
       "Hipster                                   1\n",
       "TS                                        1\n",
       "902                                       1\n",
       "SXV                                       1\n",
       "WRE                                       1\n",
       "Mini                                      1\n",
       "Traxter                                   1\n",
       "VZ-2                                      1\n",
       "New Dink                                  1\n",
       "Apollo                                    1\n",
       "Pacific                                   1\n",
       "Buddy                                     1\n",
       "S-Five                                    1\n",
       "CUX                                       1\n",
       "VZ-3                                      1\n",
       "Trail Boss                                1\n",
       "KXR                                       1\n",
       "122 Sport                                 1\n",
       "FL Duo Glide                              1\n",
       "XRX                                       1\n",
       "Jet Max                                   1\n",
       "Scooter                                   1\n",
       "Heist                                     1\n",
       "MRT Pro SM                                1\n",
       "T                                         1\n",
       "DB                                        1\n",
       "Fennari                                   1\n",
       "eS3                                       1\n",
       "Bellagio                                  1\n",
       "GPR Nude                                  1\n",
       "DJ                                        1\n",
       "MXer                                      1\n",
       "Pulsar-CK                                 1\n",
       "DNA                                       1\n",
       "606-2                                     1\n",
       "X6                                        1\n",
       "BT49QT                                    1\n",
       "Terminator                                1\n",
       "Hawkeye                                   1\n",
       "Tourist                                   1\n",
       "GP1                                       1\n",
       "Mastiff                                   1\n",
       "SM 500 R                                  1\n",
       "Piega                                     1\n",
       "Zing                                      1\n",
       "Planet                                    1\n",
       "HP                                        1\n",
       "A                                         1\n",
       "Cruiser                                   1\n",
       "Estoc                                     1\n",
       "F409                                      1\n",
       "Volteno                                   1\n",
       "Birdie                                    1\n",
       "Minicross                                 1\n",
       "S200                                      1\n",
       "SMX                                       1\n",
       "Rally                                     1\n",
       "Hooligan                                  1\n",
       "RST                                       1\n",
       "767                                       1\n",
       "FS                                        1\n",
       "Katana                                    1\n",
       "Commando                                  1\n",
       "CN                                        1\n",
       "Zoomer                                    1\n",
       "GP500                                     1\n",
       "Blast                                     1\n",
       "996                                       1\n",
       "PARCO                                     1\n",
       "Skyliner                                  1\n",
       "ATV 250                                   1\n",
       "P                                         1\n",
       "850                                       1\n",
       "Kingpin                                   1\n",
       "X11                                       1\n",
       "V-Clic                                    1\n",
       "Raven LUX 125                             1\n",
       "LML 151 - 4T                              1\n",
       "eS1                                       1\n",
       "PRO RS 125                                1\n",
       "Velvet                                    1\n",
       "XOR                                       1\n",
       "Speed Twin                                1\n",
       "Buggy                                     1\n",
       "KZ                                        1\n",
       "MRT Pro                                   1\n",
       "Challenger                                1\n",
       "900                                       1\n",
       "Roadster                                  1\n",
       "Atlantis                                  1\n",
       "Trackmaster                               1\n",
       "Alp                                       1\n",
       "Nova                                      1\n",
       "Bet & Win                                 1\n",
       "Stryker                                   1\n",
       "JR                                        1\n",
       "Tornado                                   1\n",
       "Dink-Yager                                1\n",
       "Independent                               1\n",
       "Gladiator                                 1\n",
       "RF                                        1\n",
       "HS                                        1\n",
       "TS 350                                    1\n",
       "Excalibur 350                             1\n",
       "Street Twin                               1\n",
       "851                                       1\n",
       "Vapor                                     1\n",
       "Otis                                      1\n",
       "RMX                                       1\n",
       "K-750                                     1\n",
       "Area                                      1\n",
       "Maxster                                   1\n",
       "Name: Model pojazdu, Length: 657, dtype: int64"
      ]
     },
     "execution_count": 401,
     "metadata": {},
     "output_type": "execute_result"
    }
   ],
   "source": [
    "dane['Model pojazdu'].value_counts(dropna=False)"
   ]
  },
  {
   "cell_type": "code",
   "execution_count": 402,
   "metadata": {},
   "outputs": [
    {
     "data": {
      "text/plain": [
       "89"
      ]
     },
     "execution_count": 402,
     "metadata": {},
     "output_type": "execute_result"
    }
   ],
   "source": [
    "dane.loc[dane['Model pojazdu'].isnull(),'Marka pojazdu'].count()"
   ]
  },
  {
   "cell_type": "code",
   "execution_count": 403,
   "metadata": {},
   "outputs": [
    {
     "data": {
      "text/plain": [
       "count     656.000000\n",
       "mean       24.948171\n",
       "std        87.743591\n",
       "min         1.000000\n",
       "10%         1.000000\n",
       "20%         1.000000\n",
       "30%         2.000000\n",
       "40%         3.000000\n",
       "50%         5.000000\n",
       "60%         9.000000\n",
       "70%        15.000000\n",
       "80%        27.000000\n",
       "90%        60.500000\n",
       "100%     1940.000000\n",
       "max      1940.000000\n",
       "Name: Model pojazdu, dtype: float64"
      ]
     },
     "execution_count": 403,
     "metadata": {},
     "output_type": "execute_result"
    }
   ],
   "source": [
    "dane['Model pojazdu'].value_counts().describe(percentiles=[x/10 for x in range(1,11)])"
   ]
  },
  {
   "cell_type": "code",
   "execution_count": 404,
   "metadata": {},
   "outputs": [],
   "source": [
    "fun_model_zamien_nan_na_inne = lambda df: df.fillna(value={'Model pojazdu':'Inne' }, inplace=True)\n",
    "\n",
    "funkcje_konwersji_danych.append(fun_model_zamien_nan_na_inne)\n",
    "fun_model_zamien_nan_na_inne(dane)"
   ]
  },
  {
   "cell_type": "markdown",
   "metadata": {},
   "source": [
    "## Na koniec wczytamy ponownie plik danych i przeprowadzimy wszystkie konwersje"
   ]
  },
  {
   "cell_type": "code",
   "execution_count": 407,
   "metadata": {},
   "outputs": [],
   "source": [
    "def wykonaj_funkcje_konwersji_danych(df, funkcje_konwersji_danych):\n",
    "    for funkcja in funkcje_konwersji_danych:\n",
    "        funkcja(df)\n",
    "\n",
    "skasuj_kolumny = lambda df, kolumny: df.drop(labels=kolumny,axis=1,inplace=True)"
   ]
  },
  {
   "cell_type": "code",
   "execution_count": 408,
   "metadata": {},
   "outputs": [
    {
     "name": "stdout",
     "output_type": "stream",
     "text": [
      "Zamieniamy pole Cena na liczby\n",
      "Przeliczamy ceny inne niż PLN po kursie średnim NBP\n",
      "EUR 4.2706\n"
     ]
    }
   ],
   "source": [
    "dane = wczytaj_plik_danych(PLIK_DANYCH_JSON)\n",
    "wykonaj_funkcje_konwersji_danych(dane,funkcje_konwersji_danych)\n",
    "skasuj_kolumny(dane,kolumny_do_skasowania)"
   ]
  },
  {
   "cell_type": "code",
   "execution_count": 409,
   "metadata": {},
   "outputs": [
    {
     "data": {
      "text/html": [
       "<div>\n",
       "<style scoped>\n",
       "    .dataframe tbody tr th:only-of-type {\n",
       "        vertical-align: middle;\n",
       "    }\n",
       "\n",
       "    .dataframe tbody tr th {\n",
       "        vertical-align: top;\n",
       "    }\n",
       "\n",
       "    .dataframe thead th {\n",
       "        text-align: right;\n",
       "    }\n",
       "</style>\n",
       "<table border=\"1\" class=\"dataframe\">\n",
       "  <thead>\n",
       "    <tr style=\"text-align: right;\">\n",
       "      <th></th>\n",
       "      <th>Cena</th>\n",
       "      <th>Kolor</th>\n",
       "      <th>Marka pojazdu</th>\n",
       "      <th>Matowy</th>\n",
       "      <th>Metalik</th>\n",
       "      <th>Moc</th>\n",
       "      <th>Oferta od</th>\n",
       "      <th>Perłowy</th>\n",
       "      <th>Pierwszy właściciel</th>\n",
       "      <th>Pojemność skokowa</th>\n",
       "      <th>Przebieg</th>\n",
       "      <th>Rodzaj napędu</th>\n",
       "      <th>Serwisowany w ASO</th>\n",
       "      <th>Stan</th>\n",
       "      <th>Tuning</th>\n",
       "      <th>Typ</th>\n",
       "      <th>Typ Silnika</th>\n",
       "      <th>Wiek pojazdu</th>\n",
       "    </tr>\n",
       "  </thead>\n",
       "  <tbody>\n",
       "    <tr>\n",
       "      <th>0</th>\n",
       "      <td>6800.0</td>\n",
       "      <td>Niebieski</td>\n",
       "      <td>Suzuki</td>\n",
       "      <td>Nie</td>\n",
       "      <td>Tak</td>\n",
       "      <td>37.0</td>\n",
       "      <td>Firmy</td>\n",
       "      <td>Nie</td>\n",
       "      <td>Nie</td>\n",
       "      <td>680.0</td>\n",
       "      <td>60000.0</td>\n",
       "      <td>Łańcuch</td>\n",
       "      <td>Nie</td>\n",
       "      <td>Używane</td>\n",
       "      <td>Nie</td>\n",
       "      <td>Enduro</td>\n",
       "      <td>Czterosuwowy</td>\n",
       "      <td>19</td>\n",
       "    </tr>\n",
       "    <tr>\n",
       "      <th>1</th>\n",
       "      <td>19500.0</td>\n",
       "      <td>Niebieski</td>\n",
       "      <td>Suzuki</td>\n",
       "      <td>Nie</td>\n",
       "      <td>Tak</td>\n",
       "      <td>98.0</td>\n",
       "      <td>Osoby prywatnej</td>\n",
       "      <td>Nie</td>\n",
       "      <td>Nie</td>\n",
       "      <td>1255.0</td>\n",
       "      <td>30900.0</td>\n",
       "      <td>Łańcuch</td>\n",
       "      <td>Tak</td>\n",
       "      <td>Używane</td>\n",
       "      <td>Nie</td>\n",
       "      <td>Turystyczny</td>\n",
       "      <td>Czterosuwowy</td>\n",
       "      <td>9</td>\n",
       "    </tr>\n",
       "    <tr>\n",
       "      <th>2</th>\n",
       "      <td>11500.0</td>\n",
       "      <td>Szary</td>\n",
       "      <td>Kymco</td>\n",
       "      <td>Nie</td>\n",
       "      <td>Tak</td>\n",
       "      <td>15.0</td>\n",
       "      <td>Osoby prywatnej</td>\n",
       "      <td>Nie</td>\n",
       "      <td>Tak</td>\n",
       "      <td>125.0</td>\n",
       "      <td>5400.0</td>\n",
       "      <td>Pas napędowy</td>\n",
       "      <td>Nie</td>\n",
       "      <td>Używane</td>\n",
       "      <td>Nie</td>\n",
       "      <td>Skuter</td>\n",
       "      <td>Czterosuwowy</td>\n",
       "      <td>2</td>\n",
       "    </tr>\n",
       "    <tr>\n",
       "      <th>3</th>\n",
       "      <td>49000.0</td>\n",
       "      <td>Inny kolor</td>\n",
       "      <td>Harley-Davidson</td>\n",
       "      <td>Nie</td>\n",
       "      <td>Tak</td>\n",
       "      <td>69.0</td>\n",
       "      <td>Firmy</td>\n",
       "      <td>Nie</td>\n",
       "      <td>Nie</td>\n",
       "      <td>1202.0</td>\n",
       "      <td>1.0</td>\n",
       "      <td>Pas napędowy</td>\n",
       "      <td>Nie</td>\n",
       "      <td>Nowe</td>\n",
       "      <td>Nie</td>\n",
       "      <td>Cruiser</td>\n",
       "      <td>Czterosuwowy</td>\n",
       "      <td>0</td>\n",
       "    </tr>\n",
       "    <tr>\n",
       "      <th>4</th>\n",
       "      <td>6900.0</td>\n",
       "      <td>Czarny</td>\n",
       "      <td>Honda</td>\n",
       "      <td>Nie</td>\n",
       "      <td>Nie</td>\n",
       "      <td>14.0</td>\n",
       "      <td>Firmy</td>\n",
       "      <td>Nie</td>\n",
       "      <td>Nie</td>\n",
       "      <td>125.0</td>\n",
       "      <td>26000.0</td>\n",
       "      <td>Łańcuch</td>\n",
       "      <td>Nie</td>\n",
       "      <td>Używane</td>\n",
       "      <td>Nie</td>\n",
       "      <td>Sportowy</td>\n",
       "      <td>Inne</td>\n",
       "      <td>12</td>\n",
       "    </tr>\n",
       "  </tbody>\n",
       "</table>\n",
       "</div>"
      ],
      "text/plain": [
       "      Cena       Kolor    Marka pojazdu Matowy Metalik   Moc        Oferta od  \\\n",
       "0   6800.0   Niebieski           Suzuki    Nie     Tak  37.0            Firmy   \n",
       "1  19500.0   Niebieski           Suzuki    Nie     Tak  98.0  Osoby prywatnej   \n",
       "2  11500.0       Szary            Kymco    Nie     Tak  15.0  Osoby prywatnej   \n",
       "3  49000.0  Inny kolor  Harley-Davidson    Nie     Tak  69.0            Firmy   \n",
       "4   6900.0      Czarny            Honda    Nie     Nie  14.0            Firmy   \n",
       "\n",
       "  Perłowy Pierwszy właściciel  Pojemność skokowa  Przebieg Rodzaj napędu  \\\n",
       "0     Nie                 Nie              680.0   60000.0       Łańcuch   \n",
       "1     Nie                 Nie             1255.0   30900.0       Łańcuch   \n",
       "2     Nie                 Tak              125.0    5400.0  Pas napędowy   \n",
       "3     Nie                 Nie             1202.0       1.0  Pas napędowy   \n",
       "4     Nie                 Nie              125.0   26000.0       Łańcuch   \n",
       "\n",
       "  Serwisowany w ASO     Stan Tuning          Typ   Typ Silnika  Wiek pojazdu  \n",
       "0               Nie  Używane    Nie       Enduro  Czterosuwowy            19  \n",
       "1               Tak  Używane    Nie  Turystyczny  Czterosuwowy             9  \n",
       "2               Nie  Używane    Nie       Skuter  Czterosuwowy             2  \n",
       "3               Nie     Nowe    Nie      Cruiser  Czterosuwowy             0  \n",
       "4               Nie  Używane    Nie     Sportowy          Inne            12  "
      ]
     },
     "execution_count": 409,
     "metadata": {},
     "output_type": "execute_result"
    }
   ],
   "source": [
    "dane.head(5)"
   ]
  },
  {
   "cell_type": "code",
   "execution_count": 410,
   "metadata": {},
   "outputs": [
    {
     "data": {
      "text/plain": [
       "Cena                   0\n",
       "Kolor                  0\n",
       "Marka pojazdu          0\n",
       "Matowy                 0\n",
       "Metalik                0\n",
       "Moc                    0\n",
       "Oferta od              0\n",
       "Perłowy                0\n",
       "Pierwszy właściciel    0\n",
       "Pojemność skokowa      0\n",
       "Przebieg               0\n",
       "Rodzaj napędu          0\n",
       "Serwisowany w ASO      0\n",
       "Stan                   0\n",
       "Tuning                 0\n",
       "Typ                    0\n",
       "Typ Silnika            0\n",
       "Wiek pojazdu           0\n",
       "dtype: int64"
      ]
     },
     "execution_count": 410,
     "metadata": {},
     "output_type": "execute_result"
    }
   ],
   "source": [
    "dane[dane.isna()].count()"
   ]
  },
  {
   "cell_type": "markdown",
   "metadata": {},
   "source": [
    "# Budujemy model "
   ]
  },
  {
   "cell_type": "markdown",
   "metadata": {},
   "source": [
    "#### Rozdzielany zmienne objaśniające od objaśnianej"
   ]
  },
  {
   "cell_type": "code",
   "execution_count": 411,
   "metadata": {},
   "outputs": [],
   "source": [
    "y = dane.Cena\n",
    "X = dane.drop(columns='Cena')"
   ]
  },
  {
   "cell_type": "markdown",
   "metadata": {},
   "source": [
    "#### Podział na zbiór testowy i uczący"
   ]
  },
  {
   "cell_type": "code",
   "execution_count": 412,
   "metadata": {},
   "outputs": [],
   "source": [
    "from sklearn.model_selection import train_test_split\n",
    "X_train, X_test, y_train, y_test = train_test_split(X, y, test_size=0.33, random_state=44)"
   ]
  },
  {
   "cell_type": "code",
   "execution_count": 413,
   "metadata": {},
   "outputs": [
    {
     "name": "stdout",
     "output_type": "stream",
     "text": [
      "['Moc', 'Pojemność skokowa', 'Przebieg', 'Wiek pojazdu']\n",
      "['Kolor', 'Marka pojazdu', 'Matowy', 'Metalik', 'Oferta od', 'Perłowy', 'Pierwszy właściciel', 'Rodzaj napędu', 'Serwisowany w ASO', 'Stan', 'Tuning', 'Typ', 'Typ Silnika']\n"
     ]
    }
   ],
   "source": [
    "from sklearn.compose import ColumnTransformer\n",
    "from sklearn.pipeline import Pipeline\n",
    "from sklearn.impute import SimpleImputer\n",
    "from sklearn.preprocessing import StandardScaler, OneHotEncoder\n",
    "\n",
    "kolumny_numeryczne = ['Moc', 'Pojemność skokowa','Przebieg','Wiek pojazdu']\n",
    "kolumny_kategorii = [kol for kol in X_train.columns if kol not in kolumny_numeryczne]\n",
    "print(kolumny_numeryczne)\n",
    "print(kolumny_kategorii)"
   ]
  },
  {
   "cell_type": "code",
   "execution_count": 414,
   "metadata": {},
   "outputs": [],
   "source": [
    "transformer_numeryczny = StandardScaler()\n",
    "transformer_kategorii = OneHotEncoder(drop='first')\n",
    "\n",
    "preprocessor = ColumnTransformer(\n",
    "    transformers=[\n",
    "        ('num', transformer_numeryczny, kolumny_numeryczne),\n",
    "        ('cat', transformer_kategorii, kolumny_kategorii)])\n",
    "\n",
    "preprocessor.fit(X_train)\n",
    "\n",
    "# sprawdź czy preprocesor fituje dane train/test - i nie ma błędów\n",
    "X_train_trans = preprocessor.transform(X_train)\n",
    "X_test_trans = preprocessor.transform(X_test)"
   ]
  },
  {
   "cell_type": "code",
   "execution_count": 420,
   "metadata": {},
   "outputs": [
    {
     "name": "stdout",
     "output_type": "stream",
     "text": [
      "Zbiór treningowy - rozmiary (11024, 97)\n",
      "Zbiór testowy - rozmiary (5431, 97)\n"
     ]
    }
   ],
   "source": [
    "print('Zbiór treningowy - rozmiary', X_train_trans.shape)\n",
    "print('Zbiór testowy - rozmiary', X_test_trans.shape)"
   ]
  },
  {
   "cell_type": "code",
   "execution_count": 418,
   "metadata": {},
   "outputs": [
    {
     "data": {
      "text/plain": [
       "(5431, 97)"
      ]
     },
     "execution_count": 418,
     "metadata": {},
     "output_type": "execute_result"
    }
   ],
   "source": []
  },
  {
   "cell_type": "code",
   "execution_count": null,
   "metadata": {},
   "outputs": [],
   "source": []
  }
 ],
 "metadata": {
  "kernelspec": {
   "display_name": "Python 3",
   "language": "python",
   "name": "python3"
  },
  "language_info": {
   "codemirror_mode": {
    "name": "ipython",
    "version": 3
   },
   "file_extension": ".py",
   "mimetype": "text/x-python",
   "name": "python",
   "nbconvert_exporter": "python",
   "pygments_lexer": "ipython3",
   "version": "3.7.3"
  }
 },
 "nbformat": 4,
 "nbformat_minor": 2
}
