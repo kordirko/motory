{
 "cells": [
  {
   "cell_type": "markdown",
   "metadata": {},
   "source": [
    "Dane o ofertach pobrane ze strony: https://www.otomoto.pl/?category=motocykle-i-quady\n",
    "Komenda do pobrania danych - poniżej w komentarzu (aby nie uruchamiać jej).\n",
    "Dane z dnia 2019-04-19 już są pobrane do pliku ./scrapy_motory/motory.json"
   ]
  },
  {
   "cell_type": "code",
   "execution_count": 92,
   "metadata": {},
   "outputs": [],
   "source": [
    "%matplotlib inline"
   ]
  },
  {
   "cell_type": "code",
   "execution_count": 93,
   "metadata": {},
   "outputs": [],
   "source": [
    "# data pobrania danych - posłuży nam potem do przeliczalnia na PLN po kursie średnim sz tego dnia\n",
    "data_pobrania_danych='2019-02-01'\n",
    "rok_pobrania_danych=int(data_pobrania_danych[:4])"
   ]
  },
  {
   "cell_type": "code",
   "execution_count": 94,
   "metadata": {},
   "outputs": [],
   "source": [
    "#%%cmd\n",
    "#cd scrapy_motory\n",
    "#scrapy crawl motory -o motory.json"
   ]
  },
  {
   "cell_type": "markdown",
   "metadata": {},
   "source": [
    "Wczytujemy dane z pliku JSON"
   ]
  },
  {
   "cell_type": "code",
   "execution_count": 95,
   "metadata": {},
   "outputs": [
    {
     "data": {
      "text/plain": [
       "{'Oferta od': 'Osoby prywatnej',\n",
       " 'Kategoria': 'Motocykle',\n",
       " 'Marka pojazdu': 'Kymco',\n",
       " 'Model pojazdu': 'Inny',\n",
       " 'Rok produkcji': '2017',\n",
       " 'Przebieg': '5 400 km',\n",
       " 'Pojemność skokowa': '125 cm3',\n",
       " 'Moc': '15 KM',\n",
       " 'Rodzaj napędu': 'Pas napędowy',\n",
       " 'Typ Silnika': 'Czterosuwowy',\n",
       " 'Rodzaj paliwa': 'Benzyna',\n",
       " 'Skrzynia biegów': 'Automatyczna',\n",
       " 'Typ': 'Skuter',\n",
       " 'Kolor': 'Szary',\n",
       " 'Metalik': 'Tak',\n",
       " 'VAT marża': 'Tak',\n",
       " 'Kraj pochodzenia': 'Francja',\n",
       " 'Pierwszy właściciel': 'Tak',\n",
       " 'Bezwypadkowy': 'Tak',\n",
       " 'Stan': 'Używane',\n",
       " 'Lokalizacja': 'Rąbień, gm. Aleksandrów Łódzki, zgierski, Łódzkie',\n",
       " 'Link': 'https://www.otomoto.pl/oferta/kymco-kymco-125-xtown-2017-r-nowy-model-ID6BPzqv.html',\n",
       " 'Cena': '11500',\n",
       " 'Waluta': 'PLN'}"
      ]
     },
     "execution_count": 95,
     "metadata": {},
     "output_type": "execute_result"
    }
   ],
   "source": [
    "import pandas as pd\n",
    "pd.set_option('display.max_rows', 500)\n",
    "pd.set_option('display.max_columns', 60)\n",
    "import json\n",
    "import seaborn as sns\n",
    "import numpy as np\n",
    "\n",
    "with open('./scrapy_motory/motory.json') as plik_json:\n",
    "    data = json.load(plik_json)\n",
    "data[2]"
   ]
  },
  {
   "cell_type": "code",
   "execution_count": 96,
   "metadata": {},
   "outputs": [],
   "source": [
    "dane = pd.DataFrame.from_dict(data)"
   ]
  },
  {
   "cell_type": "markdown",
   "metadata": {},
   "source": [
    "#### Wyświetlmy sobie nazwy kolumn i statystyki o danych"
   ]
  },
  {
   "cell_type": "code",
   "execution_count": 97,
   "metadata": {},
   "outputs": [
    {
     "data": {
      "text/plain": [
       "Index(['Bezwypadkowy', 'Cena', 'Faktura VAT', 'Kategoria', 'Kolor',\n",
       "       'Kraj pochodzenia', 'Leasing', 'Liczba pozostałych rat', 'Link',\n",
       "       'Lokalizacja', 'Marka pojazdu', 'Matowy', 'Metalik', 'Miesięczna rata',\n",
       "       'Moc', 'Model pojazdu', 'Możliwość finansowania',\n",
       "       'Numer rejestracyjny pojazdu', 'Oferta od', 'Opłata początkowa',\n",
       "       'Perłowy', 'Pierwsza rejestracja', 'Pierwszy właściciel',\n",
       "       'Pojemność skokowa', 'Przebieg', 'Rodzaj napędu', 'Rodzaj paliwa',\n",
       "       'Rok produkcji', 'Serwisowany w ASO', 'Skrzynia biegów', 'Stan',\n",
       "       'Tuning', 'Typ', 'Typ Silnika', 'Uszkodzony', 'VAT marża', 'VIN',\n",
       "       'Waluta', 'Wartość wykupu', 'Zarejestrowany jako zabytek',\n",
       "       'Zarejestrowany w Polsce'],\n",
       "      dtype='object')"
      ]
     },
     "execution_count": 97,
     "metadata": {},
     "output_type": "execute_result"
    }
   ],
   "source": [
    "dane.columns"
   ]
  },
  {
   "cell_type": "code",
   "execution_count": 98,
   "metadata": {},
   "outputs": [
    {
     "data": {
      "text/plain": [
       "Bezwypadkowy                   object\n",
       "Cena                           object\n",
       "Faktura VAT                    object\n",
       "Kategoria                      object\n",
       "Kolor                          object\n",
       "Kraj pochodzenia               object\n",
       "Leasing                        object\n",
       "Liczba pozostałych rat         object\n",
       "Link                           object\n",
       "Lokalizacja                    object\n",
       "Marka pojazdu                  object\n",
       "Matowy                         object\n",
       "Metalik                        object\n",
       "Miesięczna rata                object\n",
       "Moc                            object\n",
       "Model pojazdu                  object\n",
       "Możliwość finansowania         object\n",
       "Numer rejestracyjny pojazdu    object\n",
       "Oferta od                      object\n",
       "Opłata początkowa              object\n",
       "Perłowy                        object\n",
       "Pierwsza rejestracja           object\n",
       "Pierwszy właściciel            object\n",
       "Pojemność skokowa              object\n",
       "Przebieg                       object\n",
       "Rodzaj napędu                  object\n",
       "Rodzaj paliwa                  object\n",
       "Rok produkcji                  object\n",
       "Serwisowany w ASO              object\n",
       "Skrzynia biegów                object\n",
       "Stan                           object\n",
       "Tuning                         object\n",
       "Typ                            object\n",
       "Typ Silnika                    object\n",
       "Uszkodzony                     object\n",
       "VAT marża                      object\n",
       "VIN                            object\n",
       "Waluta                         object\n",
       "Wartość wykupu                 object\n",
       "Zarejestrowany jako zabytek    object\n",
       "Zarejestrowany w Polsce        object\n",
       "dtype: object"
      ]
     },
     "execution_count": 98,
     "metadata": {},
     "output_type": "execute_result"
    }
   ],
   "source": [
    "dane.dtypes"
   ]
  },
  {
   "cell_type": "code",
   "execution_count": 99,
   "metadata": {
    "scrolled": true
   },
   "outputs": [
    {
     "name": "stdout",
     "output_type": "stream",
     "text": [
      "<class 'pandas.core.frame.DataFrame'>\n",
      "RangeIndex: 17574 entries, 0 to 17573\n",
      "Data columns (total 41 columns):\n",
      "Bezwypadkowy                   11086 non-null object\n",
      "Cena                           17574 non-null object\n",
      "Faktura VAT                    5947 non-null object\n",
      "Kategoria                      17574 non-null object\n",
      "Kolor                          17573 non-null object\n",
      "Kraj pochodzenia               8781 non-null object\n",
      "Leasing                        1775 non-null object\n",
      "Liczba pozostałych rat         95 non-null object\n",
      "Link                           17574 non-null object\n",
      "Lokalizacja                    17574 non-null object\n",
      "Marka pojazdu                  17574 non-null object\n",
      "Matowy                         1450 non-null object\n",
      "Metalik                        5977 non-null object\n",
      "Miesięczna rata                95 non-null object\n",
      "Moc                            11788 non-null object\n",
      "Model pojazdu                  17485 non-null object\n",
      "Możliwość finansowania         5389 non-null object\n",
      "Numer rejestracyjny pojazdu    658 non-null object\n",
      "Oferta od                      17574 non-null object\n",
      "Opłata początkowa              93 non-null object\n",
      "Perłowy                        1804 non-null object\n",
      "Pierwsza rejestracja           2859 non-null object\n",
      "Pierwszy właściciel            3445 non-null object\n",
      "Pojemność skokowa              15852 non-null object\n",
      "Przebieg                       17573 non-null object\n",
      "Rodzaj napędu                  13851 non-null object\n",
      "Rodzaj paliwa                  17574 non-null object\n",
      "Rok produkcji                  17574 non-null object\n",
      "Serwisowany w ASO              2811 non-null object\n",
      "Skrzynia biegów                12950 non-null object\n",
      "Stan                           17574 non-null object\n",
      "Tuning                         665 non-null object\n",
      "Typ                            17574 non-null object\n",
      "Typ Silnika                    13339 non-null object\n",
      "Uszkodzony                     390 non-null object\n",
      "VAT marża                      3798 non-null object\n",
      "VIN                            1926 non-null object\n",
      "Waluta                         17574 non-null object\n",
      "Wartość wykupu                 94 non-null object\n",
      "Zarejestrowany jako zabytek    18 non-null object\n",
      "Zarejestrowany w Polsce        5308 non-null object\n",
      "dtypes: object(41)\n",
      "memory usage: 5.5+ MB\n"
     ]
    }
   ],
   "source": [
    "dane.info()"
   ]
  },
  {
   "cell_type": "code",
   "execution_count": 100,
   "metadata": {},
   "outputs": [
    {
     "data": {
      "text/html": [
       "<div>\n",
       "<style scoped>\n",
       "    .dataframe tbody tr th:only-of-type {\n",
       "        vertical-align: middle;\n",
       "    }\n",
       "\n",
       "    .dataframe tbody tr th {\n",
       "        vertical-align: top;\n",
       "    }\n",
       "\n",
       "    .dataframe thead th {\n",
       "        text-align: right;\n",
       "    }\n",
       "</style>\n",
       "<table border=\"1\" class=\"dataframe\">\n",
       "  <thead>\n",
       "    <tr style=\"text-align: right;\">\n",
       "      <th></th>\n",
       "      <th>Bezwypadkowy</th>\n",
       "      <th>Cena</th>\n",
       "      <th>Faktura VAT</th>\n",
       "      <th>Kategoria</th>\n",
       "      <th>Kolor</th>\n",
       "      <th>Kraj pochodzenia</th>\n",
       "      <th>Leasing</th>\n",
       "      <th>Liczba pozostałych rat</th>\n",
       "      <th>Link</th>\n",
       "      <th>Lokalizacja</th>\n",
       "      <th>Marka pojazdu</th>\n",
       "      <th>Matowy</th>\n",
       "      <th>Metalik</th>\n",
       "      <th>Miesięczna rata</th>\n",
       "      <th>Moc</th>\n",
       "      <th>Model pojazdu</th>\n",
       "      <th>Możliwość finansowania</th>\n",
       "      <th>Numer rejestracyjny pojazdu</th>\n",
       "      <th>Oferta od</th>\n",
       "      <th>Opłata początkowa</th>\n",
       "      <th>Perłowy</th>\n",
       "      <th>Pierwsza rejestracja</th>\n",
       "      <th>Pierwszy właściciel</th>\n",
       "      <th>Pojemność skokowa</th>\n",
       "      <th>Przebieg</th>\n",
       "      <th>Rodzaj napędu</th>\n",
       "      <th>Rodzaj paliwa</th>\n",
       "      <th>Rok produkcji</th>\n",
       "      <th>Serwisowany w ASO</th>\n",
       "      <th>Skrzynia biegów</th>\n",
       "      <th>Stan</th>\n",
       "      <th>Tuning</th>\n",
       "      <th>Typ</th>\n",
       "      <th>Typ Silnika</th>\n",
       "      <th>Uszkodzony</th>\n",
       "      <th>VAT marża</th>\n",
       "      <th>VIN</th>\n",
       "      <th>Waluta</th>\n",
       "      <th>Wartość wykupu</th>\n",
       "      <th>Zarejestrowany jako zabytek</th>\n",
       "      <th>Zarejestrowany w Polsce</th>\n",
       "    </tr>\n",
       "  </thead>\n",
       "  <tbody>\n",
       "    <tr>\n",
       "      <th>count</th>\n",
       "      <td>11086</td>\n",
       "      <td>17574</td>\n",
       "      <td>5947</td>\n",
       "      <td>17574</td>\n",
       "      <td>17573</td>\n",
       "      <td>8781</td>\n",
       "      <td>1775</td>\n",
       "      <td>95</td>\n",
       "      <td>17574</td>\n",
       "      <td>17574</td>\n",
       "      <td>17574</td>\n",
       "      <td>1450</td>\n",
       "      <td>5977</td>\n",
       "      <td>95</td>\n",
       "      <td>11788</td>\n",
       "      <td>17485</td>\n",
       "      <td>5389</td>\n",
       "      <td>658</td>\n",
       "      <td>17574</td>\n",
       "      <td>93</td>\n",
       "      <td>1804</td>\n",
       "      <td>2859</td>\n",
       "      <td>3445</td>\n",
       "      <td>15852</td>\n",
       "      <td>17573</td>\n",
       "      <td>13851</td>\n",
       "      <td>17574</td>\n",
       "      <td>17574</td>\n",
       "      <td>2811</td>\n",
       "      <td>12950</td>\n",
       "      <td>17574</td>\n",
       "      <td>665</td>\n",
       "      <td>17574</td>\n",
       "      <td>13339</td>\n",
       "      <td>390</td>\n",
       "      <td>3798</td>\n",
       "      <td>1926</td>\n",
       "      <td>17574</td>\n",
       "      <td>94</td>\n",
       "      <td>18</td>\n",
       "      <td>5308</td>\n",
       "    </tr>\n",
       "    <tr>\n",
       "      <th>unique</th>\n",
       "      <td>1</td>\n",
       "      <td>2072</td>\n",
       "      <td>1</td>\n",
       "      <td>1</td>\n",
       "      <td>14</td>\n",
       "      <td>25</td>\n",
       "      <td>1</td>\n",
       "      <td>14</td>\n",
       "      <td>17574</td>\n",
       "      <td>2648</td>\n",
       "      <td>124</td>\n",
       "      <td>1</td>\n",
       "      <td>1</td>\n",
       "      <td>88</td>\n",
       "      <td>246</td>\n",
       "      <td>696</td>\n",
       "      <td>1</td>\n",
       "      <td>652</td>\n",
       "      <td>2</td>\n",
       "      <td>86</td>\n",
       "      <td>1</td>\n",
       "      <td>2061</td>\n",
       "      <td>1</td>\n",
       "      <td>539</td>\n",
       "      <td>4640</td>\n",
       "      <td>3</td>\n",
       "      <td>3</td>\n",
       "      <td>79</td>\n",
       "      <td>1</td>\n",
       "      <td>4</td>\n",
       "      <td>2</td>\n",
       "      <td>1</td>\n",
       "      <td>10</td>\n",
       "      <td>3</td>\n",
       "      <td>1</td>\n",
       "      <td>1</td>\n",
       "      <td>1918</td>\n",
       "      <td>2</td>\n",
       "      <td>84</td>\n",
       "      <td>1</td>\n",
       "      <td>1</td>\n",
       "    </tr>\n",
       "    <tr>\n",
       "      <th>top</th>\n",
       "      <td>Tak</td>\n",
       "      <td>19900</td>\n",
       "      <td>Tak</td>\n",
       "      <td>Motocykle</td>\n",
       "      <td>Czarny</td>\n",
       "      <td>Polska</td>\n",
       "      <td>Tak</td>\n",
       "      <td>36</td>\n",
       "      <td>https://www.otomoto.pl/oferta/honda-hornet-cb6...</td>\n",
       "      <td>ul. Wyzwolenia 408 B - 43-265 Mizerów, pszczyń...</td>\n",
       "      <td>Honda</td>\n",
       "      <td>Tak</td>\n",
       "      <td>Tak</td>\n",
       "      <td>1 022 PLN</td>\n",
       "      <td>15 KM</td>\n",
       "      <td>Inny</td>\n",
       "      <td>Tak</td>\n",
       "      <td>GWE 5JF7</td>\n",
       "      <td>Firmy</td>\n",
       "      <td>1 PLN</td>\n",
       "      <td>Tak</td>\n",
       "      <td>1 styczeń 2007</td>\n",
       "      <td>Tak</td>\n",
       "      <td>125 cm3</td>\n",
       "      <td>1 km</td>\n",
       "      <td>Łańcuch</td>\n",
       "      <td>Benzyna</td>\n",
       "      <td>2018</td>\n",
       "      <td>Tak</td>\n",
       "      <td>Manualna</td>\n",
       "      <td>Używane</td>\n",
       "      <td>Tak</td>\n",
       "      <td>Turystyczny</td>\n",
       "      <td>Czterosuwowy</td>\n",
       "      <td>Tak</td>\n",
       "      <td>Tak</td>\n",
       "      <td>JS1VY52AX82102367</td>\n",
       "      <td>PLN</td>\n",
       "      <td>1 PLN</td>\n",
       "      <td>Tak</td>\n",
       "      <td>Tak</td>\n",
       "    </tr>\n",
       "    <tr>\n",
       "      <th>freq</th>\n",
       "      <td>11086</td>\n",
       "      <td>177</td>\n",
       "      <td>5947</td>\n",
       "      <td>17574</td>\n",
       "      <td>5044</td>\n",
       "      <td>3061</td>\n",
       "      <td>1775</td>\n",
       "      <td>41</td>\n",
       "      <td>1</td>\n",
       "      <td>333</td>\n",
       "      <td>2935</td>\n",
       "      <td>1450</td>\n",
       "      <td>5977</td>\n",
       "      <td>2</td>\n",
       "      <td>765</td>\n",
       "      <td>2096</td>\n",
       "      <td>5389</td>\n",
       "      <td>2</td>\n",
       "      <td>10649</td>\n",
       "      <td>3</td>\n",
       "      <td>1804</td>\n",
       "      <td>15</td>\n",
       "      <td>3445</td>\n",
       "      <td>2367</td>\n",
       "      <td>4794</td>\n",
       "      <td>7773</td>\n",
       "      <td>17407</td>\n",
       "      <td>2672</td>\n",
       "      <td>2811</td>\n",
       "      <td>9535</td>\n",
       "      <td>13465</td>\n",
       "      <td>665</td>\n",
       "      <td>3679</td>\n",
       "      <td>12528</td>\n",
       "      <td>390</td>\n",
       "      <td>3798</td>\n",
       "      <td>2</td>\n",
       "      <td>17459</td>\n",
       "      <td>3</td>\n",
       "      <td>18</td>\n",
       "      <td>5308</td>\n",
       "    </tr>\n",
       "  </tbody>\n",
       "</table>\n",
       "</div>"
      ],
      "text/plain": [
       "       Bezwypadkowy   Cena Faktura VAT  Kategoria   Kolor Kraj pochodzenia  \\\n",
       "count         11086  17574        5947      17574   17573             8781   \n",
       "unique            1   2072           1          1      14               25   \n",
       "top             Tak  19900         Tak  Motocykle  Czarny           Polska   \n",
       "freq          11086    177        5947      17574    5044             3061   \n",
       "\n",
       "       Leasing Liczba pozostałych rat  \\\n",
       "count     1775                     95   \n",
       "unique       1                     14   \n",
       "top        Tak                     36   \n",
       "freq      1775                     41   \n",
       "\n",
       "                                                     Link  \\\n",
       "count                                               17574   \n",
       "unique                                              17574   \n",
       "top     https://www.otomoto.pl/oferta/honda-hornet-cb6...   \n",
       "freq                                                    1   \n",
       "\n",
       "                                              Lokalizacja Marka pojazdu  \\\n",
       "count                                               17574         17574   \n",
       "unique                                               2648           124   \n",
       "top     ul. Wyzwolenia 408 B - 43-265 Mizerów, pszczyń...         Honda   \n",
       "freq                                                  333          2935   \n",
       "\n",
       "       Matowy Metalik Miesięczna rata    Moc Model pojazdu  \\\n",
       "count    1450    5977              95  11788         17485   \n",
       "unique      1       1              88    246           696   \n",
       "top       Tak     Tak       1 022 PLN  15 KM          Inny   \n",
       "freq     1450    5977               2    765          2096   \n",
       "\n",
       "       Możliwość finansowania Numer rejestracyjny pojazdu Oferta od  \\\n",
       "count                    5389                         658     17574   \n",
       "unique                      1                         652         2   \n",
       "top                       Tak                    GWE 5JF7     Firmy   \n",
       "freq                     5389                           2     10649   \n",
       "\n",
       "       Opłata początkowa Perłowy Pierwsza rejestracja Pierwszy właściciel  \\\n",
       "count                 93    1804                 2859                3445   \n",
       "unique                86       1                 2061                   1   \n",
       "top                1 PLN     Tak       1 styczeń 2007                 Tak   \n",
       "freq                   3    1804                   15                3445   \n",
       "\n",
       "       Pojemność skokowa Przebieg Rodzaj napędu Rodzaj paliwa Rok produkcji  \\\n",
       "count              15852    17573         13851         17574         17574   \n",
       "unique               539     4640             3             3            79   \n",
       "top              125 cm3     1 km       Łańcuch       Benzyna          2018   \n",
       "freq                2367     4794          7773         17407          2672   \n",
       "\n",
       "       Serwisowany w ASO Skrzynia biegów     Stan Tuning          Typ  \\\n",
       "count               2811           12950    17574    665        17574   \n",
       "unique                 1               4        2      1           10   \n",
       "top                  Tak        Manualna  Używane    Tak  Turystyczny   \n",
       "freq                2811            9535    13465    665         3679   \n",
       "\n",
       "         Typ Silnika Uszkodzony VAT marża                VIN Waluta  \\\n",
       "count          13339        390      3798               1926  17574   \n",
       "unique             3          1         1               1918      2   \n",
       "top     Czterosuwowy        Tak       Tak  JS1VY52AX82102367    PLN   \n",
       "freq           12528        390      3798                  2  17459   \n",
       "\n",
       "       Wartość wykupu Zarejestrowany jako zabytek Zarejestrowany w Polsce  \n",
       "count              94                          18                    5308  \n",
       "unique             84                           1                       1  \n",
       "top             1 PLN                         Tak                     Tak  \n",
       "freq                3                          18                    5308  "
      ]
     },
     "execution_count": 100,
     "metadata": {},
     "output_type": "execute_result"
    }
   ],
   "source": [
    "dane.describe()"
   ]
  },
  {
   "cell_type": "code",
   "execution_count": 101,
   "metadata": {},
   "outputs": [],
   "source": [
    "# Lista funkcji - przekształceń na wczytanych danyck\n",
    "funkcje = []"
   ]
  },
  {
   "cell_type": "markdown",
   "metadata": {},
   "source": [
    "# Kolumny do usunięcia po wstępnej analizie :\n",
    "|pole|dlaczego do skasowania|\n",
    "------------ | -------------|\n",
    "|**Kategoria**| wszystkie mają tę samą wartość: Motocykle|\n",
    "| **Link**|link do oferty (pomocniczy), każda oferta ma unikalny link|\n",
    "| **Numer rejestracyjny pojazdu**|każdy motor ma unikalny numer|\n",
    "|**VIN**| każdy motor ma unikalny numer|\n",
    "|**Bezwypadkowy**|60% ma wartość TAK, pozostale=brak danych (nie ma wartości NIE)- czyli w praktyce nie wiadomo czy zataił czy miał wypadek|\n",
    "|**Pierwsza rejestracja**|W większości brak danych, jeśli jest, to zazwyczaj jest najdalej rok produkcji + 1| \n",
    "\n",
    "\n",
    "### Pozostałe kolumny związane z finansowaniem - nie mają znaczenia w naszej analizie:\n",
    "Faktura VAT,Leasing,Liczba pozostałych rat,Miesięczna rata,Możliwość finansowania,Opłata początkowa,VAT marża,'Wartość wykupu<br>\n",
    "**Kasujemy te kolumny**"
   ]
  },
  {
   "cell_type": "code",
   "execution_count": 102,
   "metadata": {},
   "outputs": [],
   "source": [
    "kolumny_do_skasowania=[\n",
    "    'Lokalizacja','Kategoria','Link','Numer rejestracyjny pojazdu','VIN','Bezwypadkowy','Pierwsza rejestracja',\n",
    "    'Faktura VAT','Leasing','Liczba pozostałych rat','Miesięczna rata','Możliwość finansowania',\n",
    "    'Opłata początkowa','VAT marża','Wartość wykupu'\n",
    "]\n",
    "wiersze_do_skasowania = []"
   ]
  },
  {
   "cell_type": "markdown",
   "metadata": {},
   "source": [
    "## Pole 'Kraj pochodzenia' - kasujemy, bo jest 8633 wartosci NaN'"
   ]
  },
  {
   "cell_type": "code",
   "execution_count": 103,
   "metadata": {},
   "outputs": [],
   "source": [
    "dane['Kraj pochodzenia'].value_counts(dropna=False)\n",
    "kolumny_do_skasowania.append('Kraj pochodzenia')"
   ]
  },
  {
   "cell_type": "code",
   "execution_count": null,
   "metadata": {},
   "outputs": [],
   "source": []
  },
  {
   "cell_type": "markdown",
   "metadata": {},
   "source": [
    "## Pole ''Skrzynia biegów' - kasujemy, bo jest 4511 wartosci NaN'"
   ]
  },
  {
   "cell_type": "code",
   "execution_count": 104,
   "metadata": {},
   "outputs": [
    {
     "data": {
      "text/plain": [
       "Manualna           9535\n",
       "NaN                4624\n",
       "Automatyczna       2402\n",
       "Bezstopniowa        777\n",
       "Półautomatyczna     236\n",
       "Name: Skrzynia biegów, dtype: int64"
      ]
     },
     "execution_count": 104,
     "metadata": {},
     "output_type": "execute_result"
    }
   ],
   "source": [
    "dane['Skrzynia biegów'].value_counts(dropna=False)"
   ]
  },
  {
   "cell_type": "code",
   "execution_count": 105,
   "metadata": {},
   "outputs": [],
   "source": [
    "kolumny_do_skasowania.append('Skrzynia biegów')"
   ]
  },
  {
   "cell_type": "code",
   "execution_count": null,
   "metadata": {},
   "outputs": [],
   "source": []
  },
  {
   "cell_type": "markdown",
   "metadata": {},
   "source": [
    "## Pole 'Zarejestrowany w Polsce' - kasujemy, bo 75% wartosci NaN'"
   ]
  },
  {
   "cell_type": "code",
   "execution_count": 106,
   "metadata": {},
   "outputs": [
    {
     "data": {
      "text/plain": [
       "NaN    12266\n",
       "Tak     5308\n",
       "Name: Zarejestrowany w Polsce, dtype: int64"
      ]
     },
     "execution_count": 106,
     "metadata": {},
     "output_type": "execute_result"
    }
   ],
   "source": [
    "dane['Zarejestrowany w Polsce'].value_counts(dropna=False)"
   ]
  },
  {
   "cell_type": "code",
   "execution_count": 107,
   "metadata": {},
   "outputs": [],
   "source": [
    "kolumny_do_skasowania.append('Zarejestrowany w Polsce')"
   ]
  },
  {
   "cell_type": "markdown",
   "metadata": {},
   "source": [
    "## Pole 'Rodzaj paliwa' - kasujemy, bo praktycznie 99% to \"Benzyna\""
   ]
  },
  {
   "cell_type": "code",
   "execution_count": 108,
   "metadata": {},
   "outputs": [
    {
     "data": {
      "text/plain": [
       "Benzyna        17407\n",
       "Elektryczny      146\n",
       "Diesel            21\n",
       "Name: Rodzaj paliwa, dtype: int64"
      ]
     },
     "execution_count": 108,
     "metadata": {},
     "output_type": "execute_result"
    }
   ],
   "source": [
    "dane['Rodzaj paliwa'].value_counts(dropna=False)"
   ]
  },
  {
   "cell_type": "code",
   "execution_count": 109,
   "metadata": {},
   "outputs": [],
   "source": [
    "kolumny_do_skasowania.append('Rodzaj paliwa')"
   ]
  },
  {
   "cell_type": "code",
   "execution_count": null,
   "metadata": {},
   "outputs": [],
   "source": []
  },
  {
   "cell_type": "code",
   "execution_count": null,
   "metadata": {},
   "outputs": [],
   "source": []
  },
  {
   "cell_type": "code",
   "execution_count": null,
   "metadata": {},
   "outputs": [],
   "source": []
  },
  {
   "cell_type": "code",
   "execution_count": null,
   "metadata": {},
   "outputs": [],
   "source": []
  },
  {
   "cell_type": "code",
   "execution_count": null,
   "metadata": {},
   "outputs": [],
   "source": []
  },
  {
   "cell_type": "code",
   "execution_count": null,
   "metadata": {},
   "outputs": [],
   "source": []
  },
  {
   "cell_type": "markdown",
   "metadata": {},
   "source": [
    "# Pojazdy uszkodzone i zabytkowe - kasujemy\n",
    "#### Kasujemy pojazdy uszkodzone (390 pozycji), a potem kolumnę \"Uszkodzony\"\n",
    "ceny pojazdów uszkodzonych mogą się znacznie różnić zależnie od rodzaju uszkodzenia (np. ten sam model z lekkim otarciem lakieru vs. rozwalonym silnikiem - ceny będą diametralnie różnie), więc są niereprezentatywne i będą źle wpływać na model\n",
    "#### Kasujemy pojazdy zabytkowe (18 pozycji) oraz kolumnę\"Zarejestrowany jako zabytek\"\n",
    "wycena pojazdów zabytkowych może być przez rzeczoznawcę wykonana, nie przez komputer <br>\n",
    "jest ich bardzo mało w zbiorze danych, zależnie od stanu zabytku jego cena może być bardzo różna"
   ]
  },
  {
   "cell_type": "code",
   "execution_count": 110,
   "metadata": {},
   "outputs": [],
   "source": [
    "fun_uszkodzone = lambda x: x['Uszkodzony'] ==\"Tak\" \n",
    "fun_zabytkowe = lambda x: x['Zarejestrowany jako zabytek'] ==\"Tak\" \n",
    "\n",
    "wiersze_do_skasowania.extend([fun_uszkodzone,fun_zabytkowe])\n",
    "kolumny_do_skasowania.extend(['Uszkodzony','Zarejestrowany jako zabytek'])\n",
    "# dane.loc[fun_zabytkowe].head()"
   ]
  },
  {
   "cell_type": "code",
   "execution_count": null,
   "metadata": {},
   "outputs": [],
   "source": []
  },
  {
   "cell_type": "markdown",
   "metadata": {},
   "source": [
    "### Pole 'Cena' - sprawdzenie czy są NaN (nie ma) oraz konwersja na liczbę"
   ]
  },
  {
   "cell_type": "code",
   "execution_count": 111,
   "metadata": {},
   "outputs": [
    {
     "name": "stdout",
     "output_type": "stream",
     "text": [
      "0\n",
      "object\n"
     ]
    }
   ],
   "source": [
    "# Sprawdzamy pole Cena - czy są jakieś braki\n",
    "print(dane.Cena.isnull().sum())\n",
    "print(dane.Cena.dtype)"
   ]
  },
  {
   "cell_type": "code",
   "execution_count": 112,
   "metadata": {},
   "outputs": [
    {
     "name": "stdout",
     "output_type": "stream",
     "text": [
      "Zamieniamy pole Cena na liczby\n"
     ]
    }
   ],
   "source": [
    "# Separatorem dziesiętnym w polu Cena jest przecinek - ustawimy locale aby odpowiednio to obsłużył\n",
    "import locale\n",
    "\n",
    "def zamiana_ceny_na_liczbe(zbior):\n",
    "    print('Zamieniamy pole Cena na liczby')\n",
    "    locale.setlocale(locale.LC_ALL,'pl_PL')\n",
    "    zbior['Cena'] = pd.to_numeric(zbior['Cena'], errors='coerce')\n",
    "    # Kasujemy wiersze które nie mają ceny\n",
    "    dane.drop(zbior[zbior['Cena'].isnull()].index,axis=0,inplace=True)\n",
    "\n",
    "zamiana_ceny_na_liczbe(dane)"
   ]
  },
  {
   "cell_type": "code",
   "execution_count": null,
   "metadata": {},
   "outputs": [],
   "source": []
  },
  {
   "cell_type": "code",
   "execution_count": null,
   "metadata": {},
   "outputs": [],
   "source": []
  },
  {
   "cell_type": "code",
   "execution_count": null,
   "metadata": {},
   "outputs": [],
   "source": []
  },
  {
   "cell_type": "code",
   "execution_count": null,
   "metadata": {},
   "outputs": [],
   "source": []
  },
  {
   "cell_type": "code",
   "execution_count": null,
   "metadata": {},
   "outputs": [],
   "source": []
  },
  {
   "cell_type": "code",
   "execution_count": null,
   "metadata": {},
   "outputs": [],
   "source": []
  },
  {
   "cell_type": "code",
   "execution_count": null,
   "metadata": {},
   "outputs": [],
   "source": []
  },
  {
   "cell_type": "markdown",
   "metadata": {},
   "source": [
    "### Pole 'Rok produkcji' zamienimy na 'Wiek pojazdu' (w latach). Pojazdy starsze od 30 lat traktujemy jako zabytek i kasujemy ze zbioru (425 pozycji) - ponieważ po 30 roku cena rośnie zamiast spadać (patrz wykres)"
   ]
  },
  {
   "cell_type": "code",
   "execution_count": 113,
   "metadata": {},
   "outputs": [
    {
     "data": {
      "text/plain": [
       "<matplotlib.axes._subplots.AxesSubplot at 0x20f18a626d8>"
      ]
     },
     "execution_count": 113,
     "metadata": {},
     "output_type": "execute_result"
    },
    {
     "data": {
      "image/png": "[encoded data removed]",
      "text/plain": [
       "<Figure size 432x288 with 1 Axes>"
      ]
     },
     "metadata": {
      "needs_background": "light"
     },
     "output_type": "display_data"
    }
   ],
   "source": [
    "\n",
    "wiek_pojazdu = (rok_pobrania_danych - dane['Rok produkcji'].astype(int)).rename('Wiek pojazdu')\n",
    "\n",
    "# zamien_rok_produkcji_na_wiek(dane)\n",
    "# funkcje.append(zamien_rok_produkcji_na_wiek)\n",
    "sns.boxplot(x=wiek_pojazdu)"
   ]
  },
  {
   "cell_type": "code",
   "execution_count": 114,
   "metadata": {},
   "outputs": [
    {
     "data": {
      "text/plain": [
       "<matplotlib.axes._subplots.AxesSubplot at 0x20f1695c080>"
      ]
     },
     "execution_count": 114,
     "metadata": {},
     "output_type": "execute_result"
    },
    {
     "data": {
      "image/png": "[encoded data removed]",
      "text/plain": [
       "<Figure size 432x288 with 1 Axes>"
      ]
     },
     "metadata": {
      "needs_background": "light"
     },
     "output_type": "display_data"
    }
   ],
   "source": [
    "pd.concat([wiek_pojazdu,dane['Cena']], axis=1).groupby('Wiek pojazdu').mean().plot()"
   ]
  },
  {
   "cell_type": "code",
   "execution_count": 115,
   "metadata": {},
   "outputs": [
    {
     "name": "stdout",
     "output_type": "stream",
     "text": [
      "437\n"
     ]
    }
   ],
   "source": [
    "print(len(wiek_pojazdu[wiek_pojazdu > 30]))"
   ]
  },
  {
   "cell_type": "code",
   "execution_count": 116,
   "metadata": {},
   "outputs": [],
   "source": [
    "def kolumna_rok_produkcji(zbior):\n",
    "    zbior['Wiek pojazdu'] = (rok_pobrania_danych - dane['Rok produkcji'].astype(int))\n",
    "    zbior.drop(zbior[zbior['Wiek pojazdu'] > 30].index, inplace=True)\n",
    "    zbior.drop('Rok produkcji', axis=1, inplace=True)\n",
    "\n",
    "kolumna_rok_produkcji(dane)\n",
    "funkcje.append(kolumna_rok_produkcji)"
   ]
  },
  {
   "cell_type": "code",
   "execution_count": 117,
   "metadata": {},
   "outputs": [
    {
     "data": {
      "text/plain": [
       "<matplotlib.axes._subplots.AxesSubplot at 0x20f177b4b00>"
      ]
     },
     "execution_count": 117,
     "metadata": {},
     "output_type": "execute_result"
    },
    {
     "data": {
      "image/png": "[encoded data removed]",
      "text/plain": [
       "<Figure size 432x288 with 1 Axes>"
      ]
     },
     "metadata": {
      "needs_background": "light"
     },
     "output_type": "display_data"
    }
   ],
   "source": [
    "sns.boxplot(x=dane['Wiek pojazdu'])"
   ]
  },
  {
   "cell_type": "code",
   "execution_count": 118,
   "metadata": {},
   "outputs": [
    {
     "data": {
      "text/plain": [
       "<matplotlib.axes._subplots.AxesSubplot at 0x20f1c6aa978>"
      ]
     },
     "execution_count": 118,
     "metadata": {},
     "output_type": "execute_result"
    },
    {
     "data": {
      "image/png": "[encoded data removed]",
      "text/plain": [
       "<Figure size 432x288 with 1 Axes>"
      ]
     },
     "metadata": {
      "needs_background": "light"
     },
     "output_type": "display_data"
    }
   ],
   "source": [
    "dane[['Wiek pojazdu','Cena']].groupby('Wiek pojazdu').mean().plot()"
   ]
  },
  {
   "cell_type": "code",
   "execution_count": null,
   "metadata": {},
   "outputs": [],
   "source": []
  },
  {
   "cell_type": "code",
   "execution_count": null,
   "metadata": {},
   "outputs": [],
   "source": []
  },
  {
   "cell_type": "code",
   "execution_count": null,
   "metadata": {},
   "outputs": [],
   "source": []
  },
  {
   "cell_type": "code",
   "execution_count": null,
   "metadata": {},
   "outputs": [],
   "source": []
  },
  {
   "cell_type": "code",
   "execution_count": null,
   "metadata": {},
   "outputs": [],
   "source": []
  },
  {
   "cell_type": "code",
   "execution_count": null,
   "metadata": {},
   "outputs": [],
   "source": []
  },
  {
   "cell_type": "code",
   "execution_count": null,
   "metadata": {},
   "outputs": [],
   "source": []
  },
  {
   "cell_type": "code",
   "execution_count": null,
   "metadata": {},
   "outputs": [],
   "source": []
  },
  {
   "cell_type": "code",
   "execution_count": null,
   "metadata": {},
   "outputs": [],
   "source": []
  },
  {
   "cell_type": "code",
   "execution_count": null,
   "metadata": {},
   "outputs": [],
   "source": []
  },
  {
   "cell_type": "code",
   "execution_count": null,
   "metadata": {},
   "outputs": [],
   "source": []
  },
  {
   "cell_type": "code",
   "execution_count": null,
   "metadata": {},
   "outputs": [],
   "source": []
  },
  {
   "cell_type": "code",
   "execution_count": null,
   "metadata": {},
   "outputs": [],
   "source": []
  },
  {
   "cell_type": "code",
   "execution_count": null,
   "metadata": {},
   "outputs": [],
   "source": []
  },
  {
   "cell_type": "markdown",
   "metadata": {},
   "source": [
    "# Analizujemy pole Waluta - są pojazdy w innych walutach, więc przeliczamy je na PLN po kursie średnim NBP z daty ściągnięcia danych ze strony \n",
    "Uwaga - jeśli będzie błąd pobrania danych z NB to proszę zmienić parametr `data_pobrania_danych` <br>\n",
    "na +/1-2 dni bo być może w tej dacie nie ma tabeli kursów NBP"
   ]
  },
  {
   "cell_type": "code",
   "execution_count": 119,
   "metadata": {},
   "outputs": [
    {
     "data": {
      "text/plain": [
       "Waluta\n",
       "EUR      114\n",
       "PLN    17011\n",
       "dtype: int64"
      ]
     },
     "execution_count": 119,
     "metadata": {},
     "output_type": "execute_result"
    }
   ],
   "source": [
    "dane.groupby('Waluta').size()"
   ]
  },
  {
   "cell_type": "code",
   "execution_count": 120,
   "metadata": {},
   "outputs": [
    {
     "data": {
      "text/plain": [
       "4.2706"
      ]
     },
     "execution_count": 120,
     "metadata": {},
     "output_type": "execute_result"
    }
   ],
   "source": [
    "import requests\n",
    "import json\n",
    "\n",
    "def pobierz_kurs_sredni_nbp(data,waluta):\n",
    "    \"\"\"Pobiera kurs średni NBP dla podanej daty (format daty: yyyy-mm-dd) oraz kodu waluty (np. EUR)\"\"\"\n",
    "    NBP_URL = f'http://api.nbp.pl/api/exchangerates/rates/A/{waluta}/{data}/'\n",
    "    response = requests.get(NBP_URL)\n",
    "    if(response.ok):\n",
    "        api_data = json.loads(response.content)\n",
    "        return api_data['rates'][0]['mid']\n",
    "    else:\n",
    "        response.raise_for_status()\n",
    "\n",
    "# test pobrania kursu\n",
    "pobierz_kurs_sredni_nbp(data_pobrania_danych,'EUR')"
   ]
  },
  {
   "cell_type": "code",
   "execution_count": 121,
   "metadata": {},
   "outputs": [],
   "source": [
    "# Cena - zamiana przecinka dziesiętnego na kropkę, a potem na INT\n",
    "# dane['Cena'] = dane['Cena'].str.replace(',','.')\n",
    "# dane['Cena'] = dane['Cena'].astype(float).astype(int)"
   ]
  },
  {
   "cell_type": "code",
   "execution_count": 122,
   "metadata": {},
   "outputs": [
    {
     "data": {
      "text/html": [
       "<div>\n",
       "<style scoped>\n",
       "    .dataframe tbody tr th:only-of-type {\n",
       "        vertical-align: middle;\n",
       "    }\n",
       "\n",
       "    .dataframe tbody tr th {\n",
       "        vertical-align: top;\n",
       "    }\n",
       "\n",
       "    .dataframe thead th {\n",
       "        text-align: right;\n",
       "    }\n",
       "</style>\n",
       "<table border=\"1\" class=\"dataframe\">\n",
       "  <thead>\n",
       "    <tr style=\"text-align: right;\">\n",
       "      <th></th>\n",
       "      <th>Bezwypadkowy</th>\n",
       "      <th>Cena</th>\n",
       "      <th>Faktura VAT</th>\n",
       "      <th>Kategoria</th>\n",
       "      <th>Kolor</th>\n",
       "      <th>Kraj pochodzenia</th>\n",
       "      <th>Leasing</th>\n",
       "      <th>Liczba pozostałych rat</th>\n",
       "      <th>Link</th>\n",
       "      <th>Lokalizacja</th>\n",
       "      <th>Marka pojazdu</th>\n",
       "      <th>Matowy</th>\n",
       "      <th>Metalik</th>\n",
       "      <th>Miesięczna rata</th>\n",
       "      <th>Moc</th>\n",
       "      <th>Model pojazdu</th>\n",
       "      <th>Możliwość finansowania</th>\n",
       "      <th>Numer rejestracyjny pojazdu</th>\n",
       "      <th>Oferta od</th>\n",
       "      <th>Opłata początkowa</th>\n",
       "      <th>Perłowy</th>\n",
       "      <th>Pierwsza rejestracja</th>\n",
       "      <th>Pierwszy właściciel</th>\n",
       "      <th>Pojemność skokowa</th>\n",
       "      <th>Przebieg</th>\n",
       "      <th>Rodzaj napędu</th>\n",
       "      <th>Rodzaj paliwa</th>\n",
       "      <th>Serwisowany w ASO</th>\n",
       "      <th>Skrzynia biegów</th>\n",
       "      <th>Stan</th>\n",
       "      <th>Tuning</th>\n",
       "      <th>Typ</th>\n",
       "      <th>Typ Silnika</th>\n",
       "      <th>Uszkodzony</th>\n",
       "      <th>VAT marża</th>\n",
       "      <th>VIN</th>\n",
       "      <th>Waluta</th>\n",
       "      <th>Wartość wykupu</th>\n",
       "      <th>Zarejestrowany jako zabytek</th>\n",
       "      <th>Zarejestrowany w Polsce</th>\n",
       "      <th>Wiek pojazdu</th>\n",
       "    </tr>\n",
       "  </thead>\n",
       "  <tbody>\n",
       "    <tr>\n",
       "      <th>14591</th>\n",
       "      <td>Tak</td>\n",
       "      <td>5200.0</td>\n",
       "      <td>NaN</td>\n",
       "      <td>Motocykle</td>\n",
       "      <td>Bordowy</td>\n",
       "      <td>Belgia</td>\n",
       "      <td>NaN</td>\n",
       "      <td>NaN</td>\n",
       "      <td>https://www.otomoto.pl/oferta/kawasaki-1000-gt...</td>\n",
       "      <td>Malina 64 - 99-300 Kutno, kutnowski, Łódzkie (...</td>\n",
       "      <td>Kawasaki</td>\n",
       "      <td>NaN</td>\n",
       "      <td>Tak</td>\n",
       "      <td>NaN</td>\n",
       "      <td>NaN</td>\n",
       "      <td>1000 GTR</td>\n",
       "      <td>Tak</td>\n",
       "      <td>NaN</td>\n",
       "      <td>Firmy</td>\n",
       "      <td>NaN</td>\n",
       "      <td>NaN</td>\n",
       "      <td>NaN</td>\n",
       "      <td>NaN</td>\n",
       "      <td>1 000 cm3</td>\n",
       "      <td>91 000 km</td>\n",
       "      <td>Wał kardana</td>\n",
       "      <td>Benzyna</td>\n",
       "      <td>NaN</td>\n",
       "      <td>Manualna</td>\n",
       "      <td>Używane</td>\n",
       "      <td>Tak</td>\n",
       "      <td>Turystyczny</td>\n",
       "      <td>NaN</td>\n",
       "      <td>NaN</td>\n",
       "      <td>Tak</td>\n",
       "      <td>NaN</td>\n",
       "      <td>PLN</td>\n",
       "      <td>NaN</td>\n",
       "      <td>NaN</td>\n",
       "      <td>NaN</td>\n",
       "      <td>20</td>\n",
       "    </tr>\n",
       "  </tbody>\n",
       "</table>\n",
       "</div>"
      ],
      "text/plain": [
       "      Bezwypadkowy    Cena Faktura VAT  Kategoria    Kolor Kraj pochodzenia  \\\n",
       "14591          Tak  5200.0         NaN  Motocykle  Bordowy           Belgia   \n",
       "\n",
       "      Leasing Liczba pozostałych rat  \\\n",
       "14591     NaN                    NaN   \n",
       "\n",
       "                                                    Link  \\\n",
       "14591  https://www.otomoto.pl/oferta/kawasaki-1000-gt...   \n",
       "\n",
       "                                             Lokalizacja Marka pojazdu Matowy  \\\n",
       "14591  Malina 64 - 99-300 Kutno, kutnowski, Łódzkie (...      Kawasaki    NaN   \n",
       "\n",
       "      Metalik Miesięczna rata  Moc Model pojazdu Możliwość finansowania  \\\n",
       "14591     Tak             NaN  NaN      1000 GTR                    Tak   \n",
       "\n",
       "      Numer rejestracyjny pojazdu Oferta od Opłata początkowa Perłowy  \\\n",
       "14591                         NaN     Firmy               NaN     NaN   \n",
       "\n",
       "      Pierwsza rejestracja Pierwszy właściciel Pojemność skokowa   Przebieg  \\\n",
       "14591                  NaN                 NaN         1 000 cm3  91 000 km   \n",
       "\n",
       "      Rodzaj napędu Rodzaj paliwa Serwisowany w ASO Skrzynia biegów     Stan  \\\n",
       "14591   Wał kardana       Benzyna               NaN        Manualna  Używane   \n",
       "\n",
       "      Tuning          Typ Typ Silnika Uszkodzony VAT marża  VIN Waluta  \\\n",
       "14591    Tak  Turystyczny         NaN        NaN       Tak  NaN    PLN   \n",
       "\n",
       "      Wartość wykupu Zarejestrowany jako zabytek Zarejestrowany w Polsce  \\\n",
       "14591            NaN                         NaN                     NaN   \n",
       "\n",
       "       Wiek pojazdu  \n",
       "14591            20  "
      ]
     },
     "execution_count": 122,
     "metadata": {},
     "output_type": "execute_result"
    }
   ],
   "source": [
    "dane.sample()"
   ]
  },
  {
   "cell_type": "markdown",
   "metadata": {},
   "source": [
    "#### Sprawdzamy jakie mamy waluty w zbiorze danych"
   ]
  },
  {
   "cell_type": "code",
   "execution_count": 123,
   "metadata": {},
   "outputs": [
    {
     "data": {
      "text/plain": [
       "PLN    17011\n",
       "EUR      114\n",
       "Name: Waluta, dtype: int64"
      ]
     },
     "execution_count": 123,
     "metadata": {},
     "output_type": "execute_result"
    }
   ],
   "source": [
    "dane['Waluta'].value_counts(dropna=False)"
   ]
  },
  {
   "cell_type": "code",
   "execution_count": 124,
   "metadata": {},
   "outputs": [
    {
     "name": "stdout",
     "output_type": "stream",
     "text": [
      "Przeliczamy ceny inne niż PLN po kursie średnim NBP\n",
      "EUR 4.2706\n"
     ]
    }
   ],
   "source": [
    "# dla każdej waluty innej niż PLN przeliczamy na PLN\n",
    "def przelicz_ceny_po_kursie_srednim_nbp(zbior):\n",
    "    print('Przeliczamy ceny inne niż PLN po kursie średnim NBP')\n",
    "    for waluta in zbior['Waluta'].unique():\n",
    "        if waluta=='PLN':\n",
    "            continue\n",
    "        kurs = pobierz_kurs_sredni_nbp(data_pobrania_danych,waluta)\n",
    "        print(waluta,kurs)\n",
    "        zbior.loc[ zbior['Waluta']==waluta ,'Cena'] *= kurs\n",
    "        zbior.loc[ zbior['Waluta']==waluta ,'Waluta'] = 'PLN'\n",
    "\n",
    "przelicz_ceny_po_kursie_srednim_nbp(dane)\n",
    "\n",
    "funkcje.append(przelicz_ceny_po_kursie_srednim_nbp)"
   ]
  },
  {
   "cell_type": "markdown",
   "metadata": {},
   "source": [
    "#### Sprawdzamy po przeliczeniu ceny po kursach walut jakie zostały nam waluty, i pole Waluta kasujemy - bo są tylko PLN"
   ]
  },
  {
   "cell_type": "code",
   "execution_count": 125,
   "metadata": {
    "scrolled": true
   },
   "outputs": [
    {
     "name": "stdout",
     "output_type": "stream",
     "text": [
      "['PLN']\n"
     ]
    }
   ],
   "source": [
    "print(dane.Waluta.unique())\n",
    "\n",
    "kolumny_do_skasowania.append('Waluta')"
   ]
  },
  {
   "cell_type": "markdown",
   "metadata": {},
   "source": [
    "### Kolumny: 'Matowy','Metalik','Perłowy','Pierwszy właściciel','Serwisowany w ASO','Tuning'"
   ]
  },
  {
   "cell_type": "code",
   "execution_count": 126,
   "metadata": {},
   "outputs": [
    {
     "name": "stdout",
     "output_type": "stream",
     "text": [
      "Matowy [nan 'Tak']\n",
      "Metalik ['Tak' nan]\n",
      "Perłowy [nan 'Tak']\n",
      "Pierwszy właściciel [nan 'Tak']\n",
      "Serwisowany w ASO [nan 'Tak']\n",
      "Tuning [nan 'Tak']\n"
     ]
    }
   ],
   "source": [
    "kolumny=['Matowy','Metalik','Perłowy','Pierwszy właściciel','Serwisowany w ASO','Tuning']\n",
    "for kolumna in kolumny:\n",
    "    print(kolumna, dane[kolumna].unique())"
   ]
  },
  {
   "cell_type": "markdown",
   "metadata": {},
   "source": [
    "#### mają tyko wartość TAK lub puste - na razie nic nie robimy, na końcu będą wsadem do get_dummies (dla danych kategorycznych)"
   ]
  },
  {
   "cell_type": "code",
   "execution_count": null,
   "metadata": {},
   "outputs": [],
   "source": []
  },
  {
   "cell_type": "markdown",
   "metadata": {},
   "source": [
    "## Czyścimy pole \"Pojemność skokowa\" - kasujemy spacje i przyrostek \"cm3\""
   ]
  },
  {
   "cell_type": "code",
   "execution_count": 127,
   "metadata": {},
   "outputs": [
    {
     "data": {
      "text/plain": [
       "0      680 cm3\n",
       "1    1 255 cm3\n",
       "2      125 cm3\n",
       "3    1 202 cm3\n",
       "4      125 cm3\n",
       "Name: Pojemność skokowa, dtype: object"
      ]
     },
     "execution_count": 127,
     "metadata": {},
     "output_type": "execute_result"
    }
   ],
   "source": [
    "dane['Pojemność skokowa'].head()"
   ]
  },
  {
   "cell_type": "code",
   "execution_count": 128,
   "metadata": {},
   "outputs": [],
   "source": [
    "def pojemnosc_skokowa(zbior):\n",
    "    zbior['Pojemność skokowa'] = zbior['Pojemność skokowa'].str.replace('cm3','')\n",
    "    zbior['Pojemność skokowa'] = zbior['Pojemność skokowa'].str.replace(' ','')\n",
    "    zbior['Pojemność skokowa'].astype(float)\n",
    "\n",
    "    zbior['Pojemność skokowa'].isna().sum()\n",
    "    \n",
    "pojemnosc_skokowa(dane)\n",
    "funkcje.append(pojemnosc_skokowa)"
   ]
  },
  {
   "cell_type": "markdown",
   "metadata": {},
   "source": [
    "#### Sprawdzimy sobie wartości odstające w polu 'Pojemność skokowa'\n",
    "powinny się mieścić gdzieś do powiedzmy do max. 3000cm3 (silnik większy to już prawdiwy smok)"
   ]
  },
  {
   "cell_type": "code",
   "execution_count": 129,
   "metadata": {},
   "outputs": [
    {
     "data": {
      "text/plain": [
       "<matplotlib.axes._subplots.AxesSubplot at 0x20f1d1f56a0>"
      ]
     },
     "execution_count": 129,
     "metadata": {},
     "output_type": "execute_result"
    },
    {
     "data": {
      "image/png": "[encoded data removed]",
      "text/plain": [
       "<Figure size 432x288 with 1 Axes>"
      ]
     },
     "metadata": {
      "needs_background": "light"
     },
     "output_type": "display_data"
    }
   ],
   "source": [
    "dane['Pojemność skokowa'] = dane['Pojemność skokowa'].astype(float)\n",
    "\n",
    "pojemnosc = dane['Pojemność skokowa']\n",
    "pojemnosc=pojemnosc.ffill().bfill()\n",
    "\n",
    "sns.boxplot(x=pojemnosc)"
   ]
  },
  {
   "cell_type": "markdown",
   "metadata": {},
   "source": [
    "#### zerujemy pozycje o nienormalnej pojemności skokowej (powyżej 3 litrów - takich silnikw w motorach nie ma)\n",
    "#### pozostałe puste ustawiamy na średnią"
   ]
  },
  {
   "cell_type": "code",
   "execution_count": 130,
   "metadata": {},
   "outputs": [],
   "source": [
    "def czysc_pojemnosc_skokowa(zbior):\n",
    "    zbior.loc[zbior['Pojemność skokowa'] > 3000, 'Pojemność skokowa'] = np.nan\n",
    "    zbior[zbior['Pojemność skokowa'] > 3000]['Pojemność skokowa'].count()\n",
    "    zbior.loc[zbior['Pojemność skokowa'].isnull(),'Pojemność skokowa'] = np.trunc(zbior['Pojemność skokowa'].mean())\n",
    "    \n",
    "czysc_pojemnosc_skokowa(dane)\n",
    "funkcje.append(czysc_pojemnosc_skokowa)"
   ]
  },
  {
   "cell_type": "markdown",
   "metadata": {},
   "source": [
    "#### Po tej operacji pojemności skokowe wyglądają w miarę realistycznie"
   ]
  },
  {
   "cell_type": "code",
   "execution_count": 131,
   "metadata": {},
   "outputs": [
    {
     "data": {
      "text/plain": [
       "<matplotlib.axes._subplots.AxesSubplot at 0x20f1d1765f8>"
      ]
     },
     "execution_count": 131,
     "metadata": {},
     "output_type": "execute_result"
    },
    {
     "data": {
      "image/png": "[encoded data removed]",
      "text/plain": [
       "<Figure size 432x288 with 1 Axes>"
      ]
     },
     "metadata": {
      "needs_background": "light"
     },
     "output_type": "display_data"
    }
   ],
   "source": [
    "sns.boxplot(x=dane['Pojemność skokowa'])"
   ]
  },
  {
   "cell_type": "markdown",
   "metadata": {},
   "source": [
    "## Czyścimy pole \"Przebieg\" - kasujemy spacje i przyrostek \"km\""
   ]
  },
  {
   "cell_type": "code",
   "execution_count": 132,
   "metadata": {},
   "outputs": [],
   "source": [
    "def czysc_przebieg(zbior):\n",
    "    zbior['Przebieg'] = zbior['Przebieg'].str.replace('km','')\n",
    "    zbior['Przebieg'] = zbior['Przebieg'].str.replace(' ','')\n",
    "    zbior['Przebieg'] = zbior['Przebieg'].astype(float)\n",
    "\n",
    "czysc_przebieg(dane)\n",
    "funkcje.append(czysc_przebieg)"
   ]
  },
  {
   "cell_type": "code",
   "execution_count": null,
   "metadata": {},
   "outputs": [],
   "source": []
  },
  {
   "cell_type": "markdown",
   "metadata": {},
   "source": [
    "#### Jeden rekord nie ma podanego przebiegu - skasujemy ten rekord"
   ]
  },
  {
   "cell_type": "code",
   "execution_count": 135,
   "metadata": {},
   "outputs": [
    {
     "data": {
      "text/html": [
       "<div>\n",
       "<style scoped>\n",
       "    .dataframe tbody tr th:only-of-type {\n",
       "        vertical-align: middle;\n",
       "    }\n",
       "\n",
       "    .dataframe tbody tr th {\n",
       "        vertical-align: top;\n",
       "    }\n",
       "\n",
       "    .dataframe thead th {\n",
       "        text-align: right;\n",
       "    }\n",
       "</style>\n",
       "<table border=\"1\" class=\"dataframe\">\n",
       "  <thead>\n",
       "    <tr style=\"text-align: right;\">\n",
       "      <th></th>\n",
       "      <th>Bezwypadkowy</th>\n",
       "      <th>Cena</th>\n",
       "      <th>Faktura VAT</th>\n",
       "      <th>Kategoria</th>\n",
       "      <th>Kolor</th>\n",
       "      <th>Kraj pochodzenia</th>\n",
       "      <th>Leasing</th>\n",
       "      <th>Liczba pozostałych rat</th>\n",
       "      <th>Link</th>\n",
       "      <th>Lokalizacja</th>\n",
       "      <th>Marka pojazdu</th>\n",
       "      <th>Matowy</th>\n",
       "      <th>Metalik</th>\n",
       "      <th>Miesięczna rata</th>\n",
       "      <th>Moc</th>\n",
       "      <th>Model pojazdu</th>\n",
       "      <th>Możliwość finansowania</th>\n",
       "      <th>Numer rejestracyjny pojazdu</th>\n",
       "      <th>Oferta od</th>\n",
       "      <th>Opłata początkowa</th>\n",
       "      <th>Perłowy</th>\n",
       "      <th>Pierwsza rejestracja</th>\n",
       "      <th>Pierwszy właściciel</th>\n",
       "      <th>Pojemność skokowa</th>\n",
       "      <th>Przebieg</th>\n",
       "      <th>Rodzaj napędu</th>\n",
       "      <th>Rodzaj paliwa</th>\n",
       "      <th>Serwisowany w ASO</th>\n",
       "      <th>Skrzynia biegów</th>\n",
       "      <th>Stan</th>\n",
       "      <th>Tuning</th>\n",
       "      <th>Typ</th>\n",
       "      <th>Typ Silnika</th>\n",
       "      <th>Uszkodzony</th>\n",
       "      <th>VAT marża</th>\n",
       "      <th>VIN</th>\n",
       "      <th>Waluta</th>\n",
       "      <th>Wartość wykupu</th>\n",
       "      <th>Zarejestrowany jako zabytek</th>\n",
       "      <th>Zarejestrowany w Polsce</th>\n",
       "      <th>Wiek pojazdu</th>\n",
       "    </tr>\n",
       "  </thead>\n",
       "  <tbody>\n",
       "    <tr>\n",
       "      <th>5716</th>\n",
       "      <td>Tak</td>\n",
       "      <td>9900.0</td>\n",
       "      <td>Tak</td>\n",
       "      <td>Motocykle</td>\n",
       "      <td>NaN</td>\n",
       "      <td>NaN</td>\n",
       "      <td>NaN</td>\n",
       "      <td>NaN</td>\n",
       "      <td>https://www.otomoto.pl/oferta/honda-cbr-600-f4...</td>\n",
       "      <td>Szosa Toruńska 49 - 86-300 Grudziądz, Kujawsko...</td>\n",
       "      <td>Honda</td>\n",
       "      <td>NaN</td>\n",
       "      <td>NaN</td>\n",
       "      <td>NaN</td>\n",
       "      <td>NaN</td>\n",
       "      <td>CBR</td>\n",
       "      <td>Tak</td>\n",
       "      <td>NaN</td>\n",
       "      <td>Firmy</td>\n",
       "      <td>NaN</td>\n",
       "      <td>NaN</td>\n",
       "      <td>NaN</td>\n",
       "      <td>NaN</td>\n",
       "      <td>600.0</td>\n",
       "      <td>NaN</td>\n",
       "      <td>Łańcuch</td>\n",
       "      <td>Benzyna</td>\n",
       "      <td>NaN</td>\n",
       "      <td>NaN</td>\n",
       "      <td>Używane</td>\n",
       "      <td>NaN</td>\n",
       "      <td>Sportowy</td>\n",
       "      <td>NaN</td>\n",
       "      <td>NaN</td>\n",
       "      <td>NaN</td>\n",
       "      <td>NaN</td>\n",
       "      <td>PLN</td>\n",
       "      <td>NaN</td>\n",
       "      <td>NaN</td>\n",
       "      <td>NaN</td>\n",
       "      <td>20</td>\n",
       "    </tr>\n",
       "  </tbody>\n",
       "</table>\n",
       "</div>"
      ],
      "text/plain": [
       "     Bezwypadkowy    Cena Faktura VAT  Kategoria Kolor Kraj pochodzenia  \\\n",
       "5716          Tak  9900.0         Tak  Motocykle   NaN              NaN   \n",
       "\n",
       "     Leasing Liczba pozostałych rat  \\\n",
       "5716     NaN                    NaN   \n",
       "\n",
       "                                                   Link  \\\n",
       "5716  https://www.otomoto.pl/oferta/honda-cbr-600-f4...   \n",
       "\n",
       "                                            Lokalizacja Marka pojazdu Matowy  \\\n",
       "5716  Szosa Toruńska 49 - 86-300 Grudziądz, Kujawsko...         Honda    NaN   \n",
       "\n",
       "     Metalik Miesięczna rata  Moc Model pojazdu Możliwość finansowania  \\\n",
       "5716     NaN             NaN  NaN           CBR                    Tak   \n",
       "\n",
       "     Numer rejestracyjny pojazdu Oferta od Opłata początkowa Perłowy  \\\n",
       "5716                         NaN     Firmy               NaN     NaN   \n",
       "\n",
       "     Pierwsza rejestracja Pierwszy właściciel  Pojemność skokowa  Przebieg  \\\n",
       "5716                  NaN                 NaN              600.0       NaN   \n",
       "\n",
       "     Rodzaj napędu Rodzaj paliwa Serwisowany w ASO Skrzynia biegów     Stan  \\\n",
       "5716       Łańcuch       Benzyna               NaN             NaN  Używane   \n",
       "\n",
       "     Tuning       Typ Typ Silnika Uszkodzony VAT marża  VIN Waluta  \\\n",
       "5716    NaN  Sportowy         NaN        NaN       NaN  NaN    PLN   \n",
       "\n",
       "     Wartość wykupu Zarejestrowany jako zabytek Zarejestrowany w Polsce  \\\n",
       "5716            NaN                         NaN                     NaN   \n",
       "\n",
       "      Wiek pojazdu  \n",
       "5716            20  "
      ]
     },
     "execution_count": 135,
     "metadata": {},
     "output_type": "execute_result"
    }
   ],
   "source": [
    "dane['Przebieg'].isna().sum()\n",
    "def kasuj_wiersze_bez_przebiegu(zbior):\n",
    "    zbior.drop(zbior[zbior['Przebieg'].isnull()].index,axis=0,inplace=True)\n",
    "\n",
    "fun_pusty_przebieg = lambda x: x['Przebieg'].isnull()\n",
    "wiersze_do_skasowania.append(fun_pusty_przebieg)\n",
    "dane.loc[fun_pusty_przebieg]"
   ]
  },
  {
   "cell_type": "markdown",
   "metadata": {},
   "source": [
    "### Analizujemy pole 'Moc' - czyścimy KM, zamieniamy na liczby"
   ]
  },
  {
   "cell_type": "code",
   "execution_count": 136,
   "metadata": {},
   "outputs": [
    {
     "data": {
      "text/plain": [
       "0    37 KM\n",
       "1    98 KM\n",
       "2    15 KM\n",
       "3      NaN\n",
       "4    14 KM\n",
       "Name: Moc, dtype: object"
      ]
     },
     "execution_count": 136,
     "metadata": {},
     "output_type": "execute_result"
    }
   ],
   "source": [
    "dane['Moc'].head()"
   ]
  },
  {
   "cell_type": "code",
   "execution_count": 137,
   "metadata": {},
   "outputs": [],
   "source": [
    "def czyść_pole_moc(zbior):\n",
    "    zbior['Moc'] = zbior['Moc'].str.replace('KM','')\n",
    "    zbior['Moc'] = zbior['Moc'].str.replace(' ','')\n",
    "    zbior['Moc']=zbior['Moc'].astype(float)\n",
    "\n",
    "czyść_pole_moc(dane)\n",
    "funkcje.append(czyść_pole_moc)"
   ]
  },
  {
   "cell_type": "code",
   "execution_count": 138,
   "metadata": {},
   "outputs": [
    {
     "data": {
      "text/plain": [
       "<matplotlib.axes._subplots.AxesSubplot at 0x20f1d190978>"
      ]
     },
     "execution_count": 138,
     "metadata": {},
     "output_type": "execute_result"
    },
    {
     "data": {
      "image/png": "[encoded data removed]",
      "text/plain": [
       "<Figure size 432x288 with 1 Axes>"
      ]
     },
     "metadata": {
      "needs_background": "light"
     },
     "output_type": "display_data"
    }
   ],
   "source": [
    "sns.boxplot(x=dane['Moc'])"
   ]
  },
  {
   "cell_type": "code",
   "execution_count": 139,
   "metadata": {},
   "outputs": [
    {
     "data": {
      "text/plain": [
       "<matplotlib.axes._subplots.AxesSubplot at 0x20f1fad9978>"
      ]
     },
     "execution_count": 139,
     "metadata": {},
     "output_type": "execute_result"
    },
    {
     "data": {
      "image/png": "[encoded data removed]",
      "text/plain": [
       "<Figure size 432x288 with 1 Axes>"
      ]
     },
     "metadata": {
      "needs_background": "light"
     },
     "output_type": "display_data"
    }
   ],
   "source": [
    "# moce powyżej 1000~2000KM są dla motorów nieprawdopodobne\n",
    "# sprawdźmy jeszcze zakres < 4000\n",
    "sns.boxplot(x=dane.loc[dane['Moc']<4000,'Moc'])"
   ]
  },
  {
   "cell_type": "markdown",
   "metadata": {},
   "source": [
    "### Decyzja - należy wyzerować moce > 2000 KM i przypisać im średnią ze wszystkich mocy"
   ]
  },
  {
   "cell_type": "code",
   "execution_count": 141,
   "metadata": {},
   "outputs": [
    {
     "data": {
      "text/plain": [
       "<matplotlib.axes._subplots.AxesSubplot at 0x20f1cb75358>"
      ]
     },
     "execution_count": 141,
     "metadata": {},
     "output_type": "execute_result"
    },
    {
     "data": {
      "image/png": "[encoded data removed]",
      "text/plain": [
       "<Figure size 432x288 with 1 Axes>"
      ]
     },
     "metadata": {
      "needs_background": "light"
     },
     "output_type": "display_data"
    }
   ],
   "source": [
    "def kasuj_moce_wieksze_od_2000(zbior):\n",
    "    zbior.loc[zbior['Moc'] > 2000, 'Moc'] = np.nan\n",
    "    zbior.loc[zbior['Moc'].isnull(),'Moc'] = np.trunc(dane['Moc'].mean())\n",
    "    \n",
    "kasuj_moce_wieksze_od_2000(dane)\n",
    "funkcje.append(kasuj_moce_wieksze_od_2000)\n",
    "\n",
    "sns.boxplot(x=dane['Moc'])"
   ]
  },
  {
   "cell_type": "markdown",
   "metadata": {},
   "source": [
    "# Pole 'Kolor'"
   ]
  },
  {
   "cell_type": "code",
   "execution_count": 142,
   "metadata": {},
   "outputs": [
    {
     "name": "stdout",
     "output_type": "stream",
     "text": [
      "Czarny        4916\n",
      "Inny kolor    2382\n",
      "Niebieski     1872\n",
      "Czerwony      1824\n",
      "Biały         1823\n",
      "Srebrny       1117\n",
      "Szary         1049\n",
      "Zielony        735\n",
      "Bordowy        579\n",
      "Żółty          355\n",
      "Brązowy        185\n",
      "Złoty          140\n",
      "Fioletowy       76\n",
      "Beżowy          71\n",
      "nan              1\n",
      "Name: Kolor, dtype: int64\n"
     ]
    },
    {
     "data": {
      "image/png": "[encoded data removed]",
      "text/plain": [
       "<Figure size 432x288 with 1 Axes>"
      ]
     },
     "metadata": {
      "needs_background": "light"
     },
     "output_type": "display_data"
    }
   ],
   "source": [
    "dane.Kolor = dane.Kolor.astype(str)\n",
    "dane.Kolor.value_counts().plot('bar')\n",
    "print(dane.Kolor.value_counts())"
   ]
  },
  {
   "cell_type": "markdown",
   "metadata": {},
   "source": [
    "#### Zróbmy słownik dopuszczalnych kolorów dla których mamy > 100 ofert. \n",
    "#### Pozostałe kolory oraz NAN zamienimy na \"Inny\""
   ]
  },
  {
   "cell_type": "code",
   "execution_count": 144,
   "metadata": {},
   "outputs": [],
   "source": [
    "def zamien_kolory(zbior):\n",
    "    liczebnosci_kolorow = zbior.Kolor.value_counts()\n",
    "    kolory_od_100_ofert = liczebnosci_kolorow[liczebnosci_kolorow>100].index\n",
    "    zbior.loc[~dane['Kolor'].isin(kolory_od_100_ofert),'Kolor'] = 'Inny'"
   ]
  },
  {
   "cell_type": "code",
   "execution_count": 146,
   "metadata": {},
   "outputs": [],
   "source": [
    "zamien_kolory(dane)\n",
    "funkcje.append(zamien_kolory)"
   ]
  },
  {
   "cell_type": "code",
   "execution_count": 148,
   "metadata": {},
   "outputs": [
    {
     "name": "stdout",
     "output_type": "stream",
     "text": [
      "Czarny        4916\n",
      "Inny kolor    2382\n",
      "Niebieski     1872\n",
      "Czerwony      1824\n",
      "Biały         1823\n",
      "Srebrny       1117\n",
      "Szary         1049\n",
      "Zielony        735\n",
      "Bordowy        579\n",
      "Żółty          355\n",
      "Brązowy        185\n",
      "Inny           148\n",
      "Złoty          140\n",
      "Name: Kolor, dtype: int64\n"
     ]
    },
    {
     "data": {
      "image/png": "[encoded data removed]",
      "text/plain": [
       "<Figure size 432x288 with 1 Axes>"
      ]
     },
     "metadata": {
      "needs_background": "light"
     },
     "output_type": "display_data"
    }
   ],
   "source": [
    "# Sprawdzenie po transformacji\n",
    "dane.Kolor.value_counts().plot('bar')\n",
    "print(dane.Kolor.value_counts())"
   ]
  },
  {
   "cell_type": "code",
   "execution_count": null,
   "metadata": {},
   "outputs": [],
   "source": []
  },
  {
   "cell_type": "markdown",
   "metadata": {},
   "source": [
    "## Pole 'Stan' - ma tylko 2 kategorie, brak NaN - teraz nic nie robimy, pole będzie wsadem do get_dummies"
   ]
  },
  {
   "cell_type": "code",
   "execution_count": 149,
   "metadata": {},
   "outputs": [
    {
     "data": {
      "text/plain": [
       "Używane    13024\n",
       "Nowe        4101\n",
       "Name: Stan, dtype: int64"
      ]
     },
     "execution_count": 149,
     "metadata": {},
     "output_type": "execute_result"
    }
   ],
   "source": [
    "dane['Stan'].value_counts(dropna=False)"
   ]
  },
  {
   "cell_type": "code",
   "execution_count": null,
   "metadata": {},
   "outputs": [],
   "source": []
  },
  {
   "cell_type": "markdown",
   "metadata": {},
   "source": [
    "## Pole 'Oferta od' - ma 2 kategorie, brak NaN - teraz nic nie robimy, pole będzie wsadem do get_dummies"
   ]
  },
  {
   "cell_type": "code",
   "execution_count": 151,
   "metadata": {},
   "outputs": [
    {
     "data": {
      "text/plain": [
       "Firmy              10480\n",
       "Osoby prywatnej     6645\n",
       "Name: Oferta od, dtype: int64"
      ]
     },
     "execution_count": 151,
     "metadata": {},
     "output_type": "execute_result"
    }
   ],
   "source": [
    "dane['Oferta od'].value_counts(dropna=False)"
   ]
  },
  {
   "cell_type": "code",
   "execution_count": null,
   "metadata": {},
   "outputs": [],
   "source": []
  },
  {
   "cell_type": "code",
   "execution_count": null,
   "metadata": {},
   "outputs": [],
   "source": []
  },
  {
   "cell_type": "code",
   "execution_count": null,
   "metadata": {},
   "outputs": [],
   "source": []
  },
  {
   "cell_type": "markdown",
   "metadata": {},
   "source": [
    "## Pole: Typ silnika , występuja NaN - teraz nic nie robimy, pole będzie wsadem do get_dummies który zamieni Nan na Inne"
   ]
  },
  {
   "cell_type": "code",
   "execution_count": 153,
   "metadata": {},
   "outputs": [
    {
     "data": {
      "text/plain": [
       "Czterosuwowy    12316\n",
       "NaN              4063\n",
       "Dwusuwowy         624\n",
       "Elektryczny       122\n",
       "Name: Typ Silnika, dtype: int64"
      ]
     },
     "execution_count": 153,
     "metadata": {},
     "output_type": "execute_result"
    }
   ],
   "source": [
    "dane['Typ Silnika'].value_counts(dropna=False)"
   ]
  },
  {
   "cell_type": "markdown",
   "metadata": {},
   "source": [
    "## Pole: Rodzaj napędu , występuja NaN - ale teraz nic nie robimy, pole będzie wsadem do get_dummies który zamieni Nan na Inne"
   ]
  },
  {
   "cell_type": "code",
   "execution_count": 154,
   "metadata": {},
   "outputs": [
    {
     "data": {
      "text/plain": [
       "Łańcuch         7632\n",
       "NaN             3557\n",
       "Pas napędowy    3293\n",
       "Wał kardana     2643\n",
       "Name: Rodzaj napędu, dtype: int64"
      ]
     },
     "execution_count": 154,
     "metadata": {},
     "output_type": "execute_result"
    }
   ],
   "source": [
    "dane['Rodzaj napędu'].value_counts(dropna=False)"
   ]
  },
  {
   "cell_type": "code",
   "execution_count": null,
   "metadata": {},
   "outputs": [],
   "source": []
  },
  {
   "cell_type": "markdown",
   "metadata": {},
   "source": [
    "## Pole: Typ, wygląda OK, brak NaN - nie robimy, pole będzie wsadem do get_dummies"
   ]
  },
  {
   "cell_type": "code",
   "execution_count": 162,
   "metadata": {},
   "outputs": [
    {
     "data": {
      "text/plain": [
       "Turystyczny    3550\n",
       "Chopper        2329\n",
       "Skuter         2320\n",
       "Naked          2132\n",
       "Sportowy       2071\n",
       "Quad           1615\n",
       "Cruiser        1128\n",
       "Enduro         1094\n",
       "Krosowy         618\n",
       "Motorower       268\n",
       "Name: Typ, dtype: int64"
      ]
     },
     "execution_count": 162,
     "metadata": {},
     "output_type": "execute_result"
    }
   ],
   "source": [
    "dane['Typ'].value_counts(dropna=False)"
   ]
  },
  {
   "cell_type": "code",
   "execution_count": null,
   "metadata": {},
   "outputs": [],
   "source": []
  },
  {
   "cell_type": "code",
   "execution_count": null,
   "metadata": {},
   "outputs": [],
   "source": []
  },
  {
   "cell_type": "code",
   "execution_count": 165,
   "metadata": {},
   "outputs": [
    {
     "data": {
      "text/html": [
       "<div>\n",
       "<style scoped>\n",
       "    .dataframe tbody tr th:only-of-type {\n",
       "        vertical-align: middle;\n",
       "    }\n",
       "\n",
       "    .dataframe tbody tr th {\n",
       "        vertical-align: top;\n",
       "    }\n",
       "\n",
       "    .dataframe thead th {\n",
       "        text-align: right;\n",
       "    }\n",
       "</style>\n",
       "<table border=\"1\" class=\"dataframe\">\n",
       "  <thead>\n",
       "    <tr style=\"text-align: right;\">\n",
       "      <th></th>\n",
       "      <th>Bezwypadkowy</th>\n",
       "      <th>Cena</th>\n",
       "      <th>Faktura VAT</th>\n",
       "      <th>Kategoria</th>\n",
       "      <th>Kolor</th>\n",
       "      <th>Kraj pochodzenia</th>\n",
       "      <th>Leasing</th>\n",
       "      <th>Liczba pozostałych rat</th>\n",
       "      <th>Link</th>\n",
       "      <th>Lokalizacja</th>\n",
       "      <th>Marka pojazdu</th>\n",
       "      <th>Matowy</th>\n",
       "      <th>Metalik</th>\n",
       "      <th>Miesięczna rata</th>\n",
       "      <th>Moc</th>\n",
       "      <th>Model pojazdu</th>\n",
       "      <th>Możliwość finansowania</th>\n",
       "      <th>Numer rejestracyjny pojazdu</th>\n",
       "      <th>Oferta od</th>\n",
       "      <th>Opłata początkowa</th>\n",
       "      <th>Perłowy</th>\n",
       "      <th>Pierwsza rejestracja</th>\n",
       "      <th>Pierwszy właściciel</th>\n",
       "      <th>Pojemność skokowa</th>\n",
       "      <th>Przebieg</th>\n",
       "      <th>Rodzaj napędu</th>\n",
       "      <th>Rodzaj paliwa</th>\n",
       "      <th>Serwisowany w ASO</th>\n",
       "      <th>Skrzynia biegów</th>\n",
       "      <th>Stan</th>\n",
       "      <th>Tuning</th>\n",
       "      <th>Typ</th>\n",
       "      <th>Typ Silnika</th>\n",
       "      <th>Uszkodzony</th>\n",
       "      <th>VAT marża</th>\n",
       "      <th>VIN</th>\n",
       "      <th>Waluta</th>\n",
       "      <th>Wartość wykupu</th>\n",
       "      <th>Zarejestrowany jako zabytek</th>\n",
       "      <th>Zarejestrowany w Polsce</th>\n",
       "      <th>Wiek pojazdu</th>\n",
       "    </tr>\n",
       "  </thead>\n",
       "  <tbody>\n",
       "    <tr>\n",
       "      <th>0</th>\n",
       "      <td>NaN</td>\n",
       "      <td>6800.0</td>\n",
       "      <td>NaN</td>\n",
       "      <td>Motocykle</td>\n",
       "      <td>Niebieski</td>\n",
       "      <td>Niemcy</td>\n",
       "      <td>NaN</td>\n",
       "      <td>NaN</td>\n",
       "      <td>https://www.otomoto.pl/oferta/suzuki-xf-suzuki...</td>\n",
       "      <td>CISOWA 17 - 83-250 Skarszewy, starogardzki, Po...</td>\n",
       "      <td>Suzuki</td>\n",
       "      <td>NaN</td>\n",
       "      <td>Tak</td>\n",
       "      <td>NaN</td>\n",
       "      <td>37.0</td>\n",
       "      <td>XF</td>\n",
       "      <td>NaN</td>\n",
       "      <td>NaN</td>\n",
       "      <td>Firmy</td>\n",
       "      <td>NaN</td>\n",
       "      <td>NaN</td>\n",
       "      <td>NaN</td>\n",
       "      <td>NaN</td>\n",
       "      <td>680.0</td>\n",
       "      <td>60000.0</td>\n",
       "      <td>Łańcuch</td>\n",
       "      <td>Benzyna</td>\n",
       "      <td>NaN</td>\n",
       "      <td>Manualna</td>\n",
       "      <td>Używane</td>\n",
       "      <td>NaN</td>\n",
       "      <td>Enduro</td>\n",
       "      <td>Czterosuwowy</td>\n",
       "      <td>NaN</td>\n",
       "      <td>Tak</td>\n",
       "      <td>NaN</td>\n",
       "      <td>PLN</td>\n",
       "      <td>NaN</td>\n",
       "      <td>NaN</td>\n",
       "      <td>NaN</td>\n",
       "      <td>19</td>\n",
       "    </tr>\n",
       "    <tr>\n",
       "      <th>1</th>\n",
       "      <td>Tak</td>\n",
       "      <td>19500.0</td>\n",
       "      <td>NaN</td>\n",
       "      <td>Motocykle</td>\n",
       "      <td>Niebieski</td>\n",
       "      <td>Niemcy</td>\n",
       "      <td>NaN</td>\n",
       "      <td>NaN</td>\n",
       "      <td>https://www.otomoto.pl/oferta/suzuki-gsx-1250-...</td>\n",
       "      <td>Podańsko, goleniowski, Zachodniopomorskie</td>\n",
       "      <td>Suzuki</td>\n",
       "      <td>NaN</td>\n",
       "      <td>Tak</td>\n",
       "      <td>NaN</td>\n",
       "      <td>98.0</td>\n",
       "      <td>GSX</td>\n",
       "      <td>NaN</td>\n",
       "      <td>NaN</td>\n",
       "      <td>Osoby prywatnej</td>\n",
       "      <td>NaN</td>\n",
       "      <td>NaN</td>\n",
       "      <td>4 sierpień 2010</td>\n",
       "      <td>NaN</td>\n",
       "      <td>1255.0</td>\n",
       "      <td>30900.0</td>\n",
       "      <td>Łańcuch</td>\n",
       "      <td>Benzyna</td>\n",
       "      <td>Tak</td>\n",
       "      <td>Manualna</td>\n",
       "      <td>Używane</td>\n",
       "      <td>NaN</td>\n",
       "      <td>Turystyczny</td>\n",
       "      <td>Czterosuwowy</td>\n",
       "      <td>NaN</td>\n",
       "      <td>NaN</td>\n",
       "      <td>NaN</td>\n",
       "      <td>PLN</td>\n",
       "      <td>NaN</td>\n",
       "      <td>NaN</td>\n",
       "      <td>NaN</td>\n",
       "      <td>9</td>\n",
       "    </tr>\n",
       "    <tr>\n",
       "      <th>2</th>\n",
       "      <td>Tak</td>\n",
       "      <td>11500.0</td>\n",
       "      <td>NaN</td>\n",
       "      <td>Motocykle</td>\n",
       "      <td>Szary</td>\n",
       "      <td>Francja</td>\n",
       "      <td>NaN</td>\n",
       "      <td>NaN</td>\n",
       "      <td>https://www.otomoto.pl/oferta/kymco-kymco-125-...</td>\n",
       "      <td>Rąbień, gm. Aleksandrów Łódzki, zgierski, Łódzkie</td>\n",
       "      <td>Kymco</td>\n",
       "      <td>NaN</td>\n",
       "      <td>Tak</td>\n",
       "      <td>NaN</td>\n",
       "      <td>15.0</td>\n",
       "      <td>Inny</td>\n",
       "      <td>NaN</td>\n",
       "      <td>NaN</td>\n",
       "      <td>Osoby prywatnej</td>\n",
       "      <td>NaN</td>\n",
       "      <td>NaN</td>\n",
       "      <td>NaN</td>\n",
       "      <td>Tak</td>\n",
       "      <td>125.0</td>\n",
       "      <td>5400.0</td>\n",
       "      <td>Pas napędowy</td>\n",
       "      <td>Benzyna</td>\n",
       "      <td>NaN</td>\n",
       "      <td>Automatyczna</td>\n",
       "      <td>Używane</td>\n",
       "      <td>NaN</td>\n",
       "      <td>Skuter</td>\n",
       "      <td>Czterosuwowy</td>\n",
       "      <td>NaN</td>\n",
       "      <td>Tak</td>\n",
       "      <td>NaN</td>\n",
       "      <td>PLN</td>\n",
       "      <td>NaN</td>\n",
       "      <td>NaN</td>\n",
       "      <td>NaN</td>\n",
       "      <td>2</td>\n",
       "    </tr>\n",
       "    <tr>\n",
       "      <th>3</th>\n",
       "      <td>Tak</td>\n",
       "      <td>49000.0</td>\n",
       "      <td>NaN</td>\n",
       "      <td>Motocykle</td>\n",
       "      <td>Inny kolor</td>\n",
       "      <td>NaN</td>\n",
       "      <td>NaN</td>\n",
       "      <td>NaN</td>\n",
       "      <td>https://www.otomoto.pl/oferta/harley-davidson-...</td>\n",
       "      <td>Górczewska 30 - 01-147 Warszawa, Mazowieckie (...</td>\n",
       "      <td>Harley-Davidson</td>\n",
       "      <td>NaN</td>\n",
       "      <td>Tak</td>\n",
       "      <td>NaN</td>\n",
       "      <td>70.0</td>\n",
       "      <td>Sportster</td>\n",
       "      <td>Tak</td>\n",
       "      <td>NaN</td>\n",
       "      <td>Firmy</td>\n",
       "      <td>NaN</td>\n",
       "      <td>NaN</td>\n",
       "      <td>NaN</td>\n",
       "      <td>NaN</td>\n",
       "      <td>1202.0</td>\n",
       "      <td>1.0</td>\n",
       "      <td>Pas napędowy</td>\n",
       "      <td>Benzyna</td>\n",
       "      <td>NaN</td>\n",
       "      <td>NaN</td>\n",
       "      <td>Nowe</td>\n",
       "      <td>NaN</td>\n",
       "      <td>Cruiser</td>\n",
       "      <td>Czterosuwowy</td>\n",
       "      <td>NaN</td>\n",
       "      <td>NaN</td>\n",
       "      <td>NaN</td>\n",
       "      <td>PLN</td>\n",
       "      <td>NaN</td>\n",
       "      <td>NaN</td>\n",
       "      <td>NaN</td>\n",
       "      <td>0</td>\n",
       "    </tr>\n",
       "    <tr>\n",
       "      <th>4</th>\n",
       "      <td>Tak</td>\n",
       "      <td>6900.0</td>\n",
       "      <td>NaN</td>\n",
       "      <td>Motocykle</td>\n",
       "      <td>Czarny</td>\n",
       "      <td>Niemcy</td>\n",
       "      <td>NaN</td>\n",
       "      <td>NaN</td>\n",
       "      <td>https://www.otomoto.pl/oferta/honda-cbr-honda-...</td>\n",
       "      <td>Szamotuły,Gaj Mały 114B - 64-520 Szamotuły, sz...</td>\n",
       "      <td>Honda</td>\n",
       "      <td>NaN</td>\n",
       "      <td>NaN</td>\n",
       "      <td>NaN</td>\n",
       "      <td>14.0</td>\n",
       "      <td>CBR</td>\n",
       "      <td>NaN</td>\n",
       "      <td>NaN</td>\n",
       "      <td>Firmy</td>\n",
       "      <td>NaN</td>\n",
       "      <td>NaN</td>\n",
       "      <td>NaN</td>\n",
       "      <td>NaN</td>\n",
       "      <td>125.0</td>\n",
       "      <td>26000.0</td>\n",
       "      <td>Łańcuch</td>\n",
       "      <td>Benzyna</td>\n",
       "      <td>NaN</td>\n",
       "      <td>Manualna</td>\n",
       "      <td>Używane</td>\n",
       "      <td>NaN</td>\n",
       "      <td>Sportowy</td>\n",
       "      <td>NaN</td>\n",
       "      <td>NaN</td>\n",
       "      <td>NaN</td>\n",
       "      <td>NaN</td>\n",
       "      <td>PLN</td>\n",
       "      <td>NaN</td>\n",
       "      <td>NaN</td>\n",
       "      <td>Tak</td>\n",
       "      <td>12</td>\n",
       "    </tr>\n",
       "  </tbody>\n",
       "</table>\n",
       "</div>"
      ],
      "text/plain": [
       "  Bezwypadkowy     Cena Faktura VAT  Kategoria       Kolor Kraj pochodzenia  \\\n",
       "0          NaN   6800.0         NaN  Motocykle   Niebieski           Niemcy   \n",
       "1          Tak  19500.0         NaN  Motocykle   Niebieski           Niemcy   \n",
       "2          Tak  11500.0         NaN  Motocykle       Szary          Francja   \n",
       "3          Tak  49000.0         NaN  Motocykle  Inny kolor              NaN   \n",
       "4          Tak   6900.0         NaN  Motocykle      Czarny           Niemcy   \n",
       "\n",
       "  Leasing Liczba pozostałych rat  \\\n",
       "0     NaN                    NaN   \n",
       "1     NaN                    NaN   \n",
       "2     NaN                    NaN   \n",
       "3     NaN                    NaN   \n",
       "4     NaN                    NaN   \n",
       "\n",
       "                                                Link  \\\n",
       "0  https://www.otomoto.pl/oferta/suzuki-xf-suzuki...   \n",
       "1  https://www.otomoto.pl/oferta/suzuki-gsx-1250-...   \n",
       "2  https://www.otomoto.pl/oferta/kymco-kymco-125-...   \n",
       "3  https://www.otomoto.pl/oferta/harley-davidson-...   \n",
       "4  https://www.otomoto.pl/oferta/honda-cbr-honda-...   \n",
       "\n",
       "                                         Lokalizacja    Marka pojazdu Matowy  \\\n",
       "0  CISOWA 17 - 83-250 Skarszewy, starogardzki, Po...           Suzuki    NaN   \n",
       "1          Podańsko, goleniowski, Zachodniopomorskie           Suzuki    NaN   \n",
       "2  Rąbień, gm. Aleksandrów Łódzki, zgierski, Łódzkie            Kymco    NaN   \n",
       "3  Górczewska 30 - 01-147 Warszawa, Mazowieckie (...  Harley-Davidson    NaN   \n",
       "4  Szamotuły,Gaj Mały 114B - 64-520 Szamotuły, sz...            Honda    NaN   \n",
       "\n",
       "  Metalik Miesięczna rata   Moc Model pojazdu Możliwość finansowania  \\\n",
       "0     Tak             NaN  37.0            XF                    NaN   \n",
       "1     Tak             NaN  98.0           GSX                    NaN   \n",
       "2     Tak             NaN  15.0          Inny                    NaN   \n",
       "3     Tak             NaN  70.0     Sportster                    Tak   \n",
       "4     NaN             NaN  14.0           CBR                    NaN   \n",
       "\n",
       "  Numer rejestracyjny pojazdu        Oferta od Opłata początkowa Perłowy  \\\n",
       "0                         NaN            Firmy               NaN     NaN   \n",
       "1                         NaN  Osoby prywatnej               NaN     NaN   \n",
       "2                         NaN  Osoby prywatnej               NaN     NaN   \n",
       "3                         NaN            Firmy               NaN     NaN   \n",
       "4                         NaN            Firmy               NaN     NaN   \n",
       "\n",
       "  Pierwsza rejestracja Pierwszy właściciel  Pojemność skokowa  Przebieg  \\\n",
       "0                  NaN                 NaN              680.0   60000.0   \n",
       "1      4 sierpień 2010                 NaN             1255.0   30900.0   \n",
       "2                  NaN                 Tak              125.0    5400.0   \n",
       "3                  NaN                 NaN             1202.0       1.0   \n",
       "4                  NaN                 NaN              125.0   26000.0   \n",
       "\n",
       "  Rodzaj napędu Rodzaj paliwa Serwisowany w ASO Skrzynia biegów     Stan  \\\n",
       "0       Łańcuch       Benzyna               NaN        Manualna  Używane   \n",
       "1       Łańcuch       Benzyna               Tak        Manualna  Używane   \n",
       "2  Pas napędowy       Benzyna               NaN    Automatyczna  Używane   \n",
       "3  Pas napędowy       Benzyna               NaN             NaN     Nowe   \n",
       "4       Łańcuch       Benzyna               NaN        Manualna  Używane   \n",
       "\n",
       "  Tuning          Typ   Typ Silnika Uszkodzony VAT marża  VIN Waluta  \\\n",
       "0    NaN       Enduro  Czterosuwowy        NaN       Tak  NaN    PLN   \n",
       "1    NaN  Turystyczny  Czterosuwowy        NaN       NaN  NaN    PLN   \n",
       "2    NaN       Skuter  Czterosuwowy        NaN       Tak  NaN    PLN   \n",
       "3    NaN      Cruiser  Czterosuwowy        NaN       NaN  NaN    PLN   \n",
       "4    NaN     Sportowy           NaN        NaN       NaN  NaN    PLN   \n",
       "\n",
       "  Wartość wykupu Zarejestrowany jako zabytek Zarejestrowany w Polsce  \\\n",
       "0            NaN                         NaN                     NaN   \n",
       "1            NaN                         NaN                     NaN   \n",
       "2            NaN                         NaN                     NaN   \n",
       "3            NaN                         NaN                     NaN   \n",
       "4            NaN                         NaN                     Tak   \n",
       "\n",
       "   Wiek pojazdu  \n",
       "0            19  \n",
       "1             9  \n",
       "2             2  \n",
       "3             0  \n",
       "4            12  "
      ]
     },
     "execution_count": 165,
     "metadata": {},
     "output_type": "execute_result"
    }
   ],
   "source": [
    "dane.head()"
   ]
  },
  {
   "cell_type": "code",
   "execution_count": null,
   "metadata": {},
   "outputs": [],
   "source": []
  },
  {
   "cell_type": "markdown",
   "metadata": {},
   "source": [
    "### Pole 'Marka pojazdu'"
   ]
  },
  {
   "cell_type": "code",
   "execution_count": 174,
   "metadata": {},
   "outputs": [
    {
     "data": {
      "text/plain": [
       "count      17125\n",
       "unique       114\n",
       "top       Yamaha\n",
       "freq        2863\n",
       "Name: Marka pojazdu, dtype: object"
      ]
     },
     "execution_count": 174,
     "metadata": {},
     "output_type": "execute_result"
    }
   ],
   "source": [
    "dane['Marka pojazdu'].describe()"
   ]
  },
  {
   "cell_type": "code",
   "execution_count": 179,
   "metadata": {},
   "outputs": [
    {
     "data": {
      "text/plain": [
       "0"
      ]
     },
     "execution_count": 179,
     "metadata": {},
     "output_type": "execute_result"
    }
   ],
   "source": [
    "dane.loc[dane['Marka pojazdu'].isnull(),'Marka pojazdu'].count()"
   ]
  },
  {
   "cell_type": "code",
   "execution_count": 160,
   "metadata": {},
   "outputs": [
    {
     "data": {
      "text/plain": [
       "Yamaha               2863\n",
       "Honda                2810\n",
       "Suzuki               1754\n",
       "BMW                  1413\n",
       "Kawasaki             1180\n",
       "Harley-Davidson      1093\n",
       "KTM                   552\n",
       "Can-Am                461\n",
       "Inny                  407\n",
       "Ducati                347\n",
       "Kymco                 319\n",
       "Romet                 305\n",
       "Aprilia               298\n",
       "Piaggio               283\n",
       "Triumph               279\n",
       "Polaris               267\n",
       "Peugeot               182\n",
       "Junak                 180\n",
       "Vespa                 151\n",
       "CF Moto               135\n",
       "Barton                132\n",
       "Zipp                  130\n",
       "Indian                114\n",
       "Husqvarna             104\n",
       "Keeway                 93\n",
       "Benyco                 89\n",
       "Moto Guzzi             88\n",
       "SYM                    76\n",
       "Benelli                72\n",
       "Bashan                 70\n",
       "Linhai                 60\n",
       "MV AGUSTA              58\n",
       "Hyosung                58\n",
       "Bajaj                  52\n",
       "Daelim                 42\n",
       "Beta                   41\n",
       "Malaguti               33\n",
       "TGB                    33\n",
       "Gilera                 31\n",
       "Derbi                  29\n",
       "Victory                29\n",
       "X-Moto                 27\n",
       "SWM                    26\n",
       "Gas Gas                22\n",
       "Mondial                21\n",
       "Buell                  20\n",
       "Rieju                  19\n",
       "Diabolini              17\n",
       "Arctic Cat             16\n",
       "Bombardier             15\n",
       "KXD                    14\n",
       "Access                 14\n",
       "Loncin                 11\n",
       "MZ                     10\n",
       "Sherco                  9\n",
       "Simson                  8\n",
       "Niu                     8\n",
       "Kingway                 8\n",
       "MBK                     7\n",
       "Big Dog                 7\n",
       "Lambretta               7\n",
       "Cagiva                  6\n",
       "Generic                 6\n",
       "SMC                     6\n",
       "Goes                    6\n",
       "CPI                     5\n",
       "Fantic                  5\n",
       "Masai                   4\n",
       "Askoll                  4\n",
       "Royal Enfield           4\n",
       "EGL Eglmotor            4\n",
       "Jawa                    4\n",
       "Adler                   3\n",
       "Dniepr                  3\n",
       "Zumico                  3\n",
       "Stels                   3\n",
       "Ural                    3\n",
       "Benzer                  3\n",
       "AJP                     2\n",
       "REX                     2\n",
       "Moto Magnus             2\n",
       "Lifan                   2\n",
       "Shineray                2\n",
       "Bimota                  2\n",
       "TM                      2\n",
       "Baotian                 2\n",
       "Moto Morini             2\n",
       "FYM                     2\n",
       "CECTEK                  2\n",
       "Ferro                   2\n",
       "Vectrix                 2\n",
       "Adly                    2\n",
       "Norton                  2\n",
       "Super Soco              2\n",
       "Aeon                    2\n",
       "Sachs                   2\n",
       "Italjet                 1\n",
       "Garelli                 1\n",
       "Hercules                1\n",
       "Komar                   1\n",
       "LML                     1\n",
       "Moti                    1\n",
       "Hartford                1\n",
       "Eagle Motorsports       1\n",
       "Hero                    1\n",
       "Dinli                   1\n",
       "CZ                      1\n",
       "Zongshen                1\n",
       "Cleveland               1\n",
       "Ventus                  1\n",
       "WSK                     1\n",
       "Husaberg                1\n",
       "Skyjet                  1\n",
       "City-bike               1\n",
       "Name: Marka pojazdu, dtype: int64"
      ]
     },
     "execution_count": 160,
     "metadata": {},
     "output_type": "execute_result"
    }
   ],
   "source": [
    "dane['Marka pojazdu'].value_counts(dropna=False)"
   ]
  },
  {
   "cell_type": "code",
   "execution_count": 180,
   "metadata": {},
   "outputs": [
    {
     "data": {
      "text/plain": [
       "<matplotlib.axes._subplots.AxesSubplot at 0x20f1c903160>"
      ]
     },
     "execution_count": 180,
     "metadata": {},
     "output_type": "execute_result"
    },
    {
     "data": {
      "image/png": "[encoded data removed]",
      "text/plain": [
       "<Figure size 432x288 with 1 Axes>"
      ]
     },
     "metadata": {
      "needs_background": "light"
     },
     "output_type": "display_data"
    }
   ],
   "source": [
    "dane['Marka pojazdu'].value_counts().plot('bar')"
   ]
  },
  {
   "cell_type": "code",
   "execution_count": 194,
   "metadata": {},
   "outputs": [
    {
     "data": {
      "text/plain": [
       "count     114.000000\n",
       "mean      150.219298\n",
       "std       448.478840\n",
       "min         1.000000\n",
       "10%         1.000000\n",
       "20%         2.000000\n",
       "30%         2.000000\n",
       "40%         4.000000\n",
       "50%         8.000000\n",
       "60%        19.800000\n",
       "70%        43.000000\n",
       "80%       108.000000\n",
       "90%       302.900000\n",
       "100%     2863.000000\n",
       "max      2863.000000\n",
       "Name: Marka pojazdu, dtype: float64"
      ]
     },
     "execution_count": 194,
     "metadata": {},
     "output_type": "execute_result"
    }
   ],
   "source": [
    "dane['Marka pojazdu'].value_counts().describe(percentiles=[x/10 for x in range(1,11)])"
   ]
  },
  {
   "cell_type": "code",
   "execution_count": null,
   "metadata": {},
   "outputs": [],
   "source": []
  },
  {
   "cell_type": "code",
   "execution_count": 190,
   "metadata": {},
   "outputs": [
    {
     "data": {
      "text/plain": [
       "[0.1, 0.2, 0.3, 0.4, 0.5, 0.6, 0.7, 0.8, 0.9, 1.0]"
      ]
     },
     "execution_count": 190,
     "metadata": {},
     "output_type": "execute_result"
    }
   ],
   "source": [
    "[x/10 for x in range(1,11)]"
   ]
  },
  {
   "cell_type": "code",
   "execution_count": null,
   "metadata": {},
   "outputs": [],
   "source": []
  },
  {
   "cell_type": "code",
   "execution_count": null,
   "metadata": {},
   "outputs": [],
   "source": []
  },
  {
   "cell_type": "code",
   "execution_count": null,
   "metadata": {},
   "outputs": [],
   "source": []
  },
  {
   "cell_type": "code",
   "execution_count": null,
   "metadata": {},
   "outputs": [],
   "source": []
  },
  {
   "cell_type": "code",
   "execution_count": null,
   "metadata": {},
   "outputs": [],
   "source": []
  },
  {
   "cell_type": "markdown",
   "metadata": {},
   "source": [
    "Marka pojazdu\n",
    "Model pojazdu\n",
    "\n",
    "\n",
    "Rodzaj napędu\n",
    "Typ\n",
    "Typ Silnika\n",
    "\n",
    "\n",
    "Pojemność skokowa (skalowanie)\n",
    "Przebieg (skalowanie)\n",
    "Moc (skalowanie)"
   ]
  },
  {
   "cell_type": "markdown",
   "metadata": {},
   "source": [
    "### Pole 'Model pojazdu'\n"
   ]
  },
  {
   "cell_type": "code",
   "execution_count": 166,
   "metadata": {},
   "outputs": [
    {
     "data": {
      "text/plain": [
       "Inny                                   2015\n",
       "CBR                                     477\n",
       "R                                       393\n",
       "GS                                      312\n",
       "MT                                      277\n",
       "Shadow                                  259\n",
       "CB                                      250\n",
       "Z                                       234\n",
       "Burgman                                 218\n",
       "K                                       213\n",
       "YZF                                     207\n",
       "CBF                                     186\n",
       "FZ                                      183\n",
       "DL                                      183\n",
       "F                                       177\n",
       "Sportster                               172\n",
       "GSX-R                                   170\n",
       "EXC                                     165\n",
       "CRF                                     164\n",
       "Drag Star                               161\n",
       "Virago                                  159\n",
       "Outlander                               149\n",
       "Softail                                 149\n",
       "Intruder                                144\n",
       "X-max                                   135\n",
       "Duke                                    133\n",
       "GL                                      133\n",
       "Sportsman                               131\n",
       "VFR                                     129\n",
       "VTX                                     126\n",
       "SV                                      124\n",
       "ER                                      123\n",
       "XVS                                     119\n",
       "Bandit                                  116\n",
       "VT                                      116\n",
       "Varadero                                109\n",
       "RT                                      107\n",
       "GSX                                     106\n",
       "XJ                                      106\n",
       "Road King                               104\n",
       "VN                                      102\n",
       "Vulcan                                  102\n",
       "NC                                      100\n",
       "S                                        98\n",
       "XV                                       96\n",
       "SX                                       92\n",
       "NaN                                      89\n",
       "FJR                                      89\n",
       "Monster                                  89\n",
       "Heritage                                 86\n",
       "GSF - Bandit                             85\n",
       "Grizzly                                  84\n",
       "GSR                                      79\n",
       "KLE                                      78\n",
       "Renegade                                 77\n",
       "Tiger                                    75\n",
       "Electra Glide                            75\n",
       "ZX                                       73\n",
       "GTS                                      72\n",
       "FZS                                      68\n",
       "Hornet                                   68\n",
       "R1                                       66\n",
       "R6                                       66\n",
       "Agility                                  66\n",
       "Ninja                                    66\n",
       "Fat Boy                                  64\n",
       "GSX-F - Katana                           63\n",
       "Multistrada                              62\n",
       "TDM                                      62\n",
       "Outlander Max                            61\n",
       "Scrambler                                60\n",
       "ST                                       60\n",
       "Vespa                                    58\n",
       "Transalp                                 55\n",
       "Allroad                                  54\n",
       "M                                        54\n",
       "Maverick                                 54\n",
       "Tmax                                     53\n",
       "RS                                       50\n",
       "KX                                       50\n",
       "YZ                                       50\n",
       "Spyder                                   50\n",
       "G                                        50\n",
       "Majesty                                  49\n",
       "WR                                       49\n",
       "PCX                                      49\n",
       "Boulevard                                48\n",
       "FLHX Street Glide                        47\n",
       "ZXR                                      47\n",
       "SH                                       44\n",
       "MP-3                                     44\n",
       "Downtown                                 43\n",
       "LC                                       42\n",
       "Satelis                                  42\n",
       "Dyna Street Bob                          41\n",
       "Diavel                                   39\n",
       "SR                                       39\n",
       "NSS                                      39\n",
       "Bonneville                               38\n",
       "YBR                                      38\n",
       "V-Rod                                    38\n",
       "Scout                                    38\n",
       "Raptor                                   37\n",
       "VL 800 Volusia - Boulevard C50           37\n",
       "GV                                       37\n",
       "Dyna                                     37\n",
       "Gladius                                  36\n",
       "Road Star                                36\n",
       "SXF                                      35\n",
       "Speed Triple                             35\n",
       "ZZR                                      34\n",
       "Sprint                                   33\n",
       "Street Triple                            32\n",
       "XL                                       32\n",
       "XSR                                      31\n",
       "Chieftain                                31\n",
       "XT                                       31\n",
       "TE                                       31\n",
       "Raider                                   31\n",
       "NTV                                      31\n",
       "Road Glide                               31\n",
       "RR                                       30\n",
       "Tuono                                    30\n",
       "Xciting                                  30\n",
       "Electra                                  30\n",
       "ZR                                       29\n",
       "MXU                                      29\n",
       "Marauder                                 29\n",
       "Custom                                   29\n",
       "XR                                       28\n",
       "ATV                                      28\n",
       "XRV                                      28\n",
       "LT                                       28\n",
       "Speedfight                               27\n",
       "Midnight Star                            27\n",
       "RM-Z                                     27\n",
       "Beverly                                  27\n",
       "Aerox                                    27\n",
       "Springer                                 27\n",
       "Ranger RZR                               27\n",
       "VL 1500 Intruder LC - Boulevard C90      26\n",
       "Blade                                    26\n",
       "Tracer                                   25\n",
       "TRX                                      25\n",
       "Ryker                                    25\n",
       "XTZ                                      25\n",
       "VS                                       25\n",
       "TZR                                      25\n",
       "FLH Electra Glide                        25\n",
       "RCR                                      25\n",
       "Adventure                                24\n",
       "EN                                       23\n",
       "CA                                       23\n",
       "XJR                                      23\n",
       "Deauville                                23\n",
       "FLY                                      23\n",
       "Kingquad                                 22\n",
       "Like                                     22\n",
       "Dyna Super Glide                         21\n",
       "GPZ                                      21\n",
       "Pulsar                                   21\n",
       "Kodiak                                   21\n",
       "X10                                      20\n",
       "FE                                       20\n",
       "V Star                                   20\n",
       "Kisbee                                   20\n",
       "RZ                                       20\n",
       "Atlantic                                 20\n",
       "RSV                                      20\n",
       "Tricity                                  20\n",
       "Scarabeo                                 20\n",
       "Pegaso                                   19\n",
       "S-Wing                                   19\n",
       "Hayabusa                                 19\n",
       "LX                                       19\n",
       "V-MAX                                    19\n",
       "DR                                       18\n",
       "Brute Force                              18\n",
       "Brutale                                  18\n",
       "XVZ                                      18\n",
       "CMX                                      18\n",
       "Senda                                    18\n",
       "Xevo                                     18\n",
       "Ninja 250R                               17\n",
       "EC                                       17\n",
       "Valkyrie                                 17\n",
       "Agility City A-C                         17\n",
       "Dyna Wide Glide                          17\n",
       "Liberty                                  17\n",
       "Silver Wing                              17\n",
       "FZR                                      17\n",
       "Fiddle                                   17\n",
       "Soft Chopper                             16\n",
       "GT                                       16\n",
       "Dominar 400                              16\n",
       "Rocket                                   16\n",
       "YFM                                      16\n",
       "VZ                                       16\n",
       "Shiver                                   16\n",
       "Versys 650                               15\n",
       "FXSB Breakout                            15\n",
       "GTR                                      15\n",
       "Tenere                                   15\n",
       "Leoncino                                 15\n",
       "V7                                       15\n",
       "GN                                       15\n",
       "ZIPP 125                                 15\n",
       "Royal Star                               15\n",
       "Ninja 300 ABS                            14\n",
       "Superlight                               14\n",
       "Outlaw                                   14\n",
       "RX                                       14\n",
       "TTR                                      14\n",
       "X9                                       14\n",
       "EL                                       14\n",
       "Super 8                                  13\n",
       "Thunderbird                              13\n",
       "People                                   13\n",
       "BT                                       13\n",
       "Roadmaster                               13\n",
       "Chief                                    13\n",
       "Quantum                                  13\n",
       "VTR                                      13\n",
       "JET                                      12\n",
       "Breva                                    12\n",
       "Dragster                                 12\n",
       "Vision                                   12\n",
       "X8                                       12\n",
       "VL                                       12\n",
       "300                                      12\n",
       "Maxxer                                   12\n",
       "696                                      12\n",
       "PW                                       12\n",
       "RXL                                      12\n",
       "Dyna Low                                 12\n",
       "VF                                       12\n",
       "XF                                       12\n",
       "ZRX                                      11\n",
       "XB                                       11\n",
       "SMC                                      11\n",
       "C650 GT                                  11\n",
       "YS                                       11\n",
       "Citystar                                 11\n",
       "Django                                   11\n",
       "Turismo Veloce                           11\n",
       "727                                      11\n",
       "Zetka                                    11\n",
       "Speedmaster                              11\n",
       "Venture                                  10\n",
       "Thundercat                               10\n",
       "                                       ... \n",
       "ZL                                        3\n",
       "SMT                                       3\n",
       "Evo                                       3\n",
       "Ape 50 Pickup                             3\n",
       "Hexagon                                   3\n",
       "Vitpilen                                  3\n",
       "Marathon Pro                              3\n",
       "TC                                        3\n",
       "RAM                                       3\n",
       "N                                         3\n",
       "TU                                        3\n",
       "901 Sport                                 3\n",
       "PX                                        3\n",
       "901                                       3\n",
       "122                                       3\n",
       "1098                                      3\n",
       "HP                                        3\n",
       "AK 550                                    3\n",
       "GZ                                        3\n",
       "F4                                        3\n",
       "S3                                        3\n",
       "FourTrax                                  3\n",
       "TKR                                       3\n",
       "GT Comet                                  2\n",
       "Jet Force                                 2\n",
       "Raven 125                                 2\n",
       "1200                                      2\n",
       "500                                       2\n",
       "Predator                                  2\n",
       "MTX                                       2\n",
       "Movie XL                                  2\n",
       "Madix                                     2\n",
       "PR4                                       2\n",
       "RS 125 R                                  2\n",
       "BWS                                       2\n",
       "Six Days                                  2\n",
       "Mojito                                    2\n",
       "Tuareg                                    2\n",
       "MSX 125                                   2\n",
       "Dyna Glide                                2\n",
       "Rancher                                   2\n",
       "748                                       2\n",
       "RC                                        2\n",
       "RXV                                       2\n",
       "CBX                                       2\n",
       "Silver Vase                               2\n",
       "Ace of spades                             2\n",
       "Red Rose                                  2\n",
       "MRX                                       2\n",
       "M4                                        2\n",
       "Pulsar Luxe                               2\n",
       "DRR                                       2\n",
       "Jumbo                                     2\n",
       "FX                                        2\n",
       "XR6                                       2\n",
       "Belville                                  2\n",
       "Cruise II                                 2\n",
       "Hammer                                    2\n",
       "Classic                                   2\n",
       "ST3                                       2\n",
       "Booster                                   2\n",
       "SL                                        2\n",
       "Wolverine                                 2\n",
       "Trial                                     2\n",
       "Nitro                                     2\n",
       "Yup                                       2\n",
       "LF                                        2\n",
       "Canyon                                    2\n",
       "Stalker 50                                2\n",
       "RG                                        2\n",
       "ORS 150                                   2\n",
       "LTR                                       2\n",
       "707                                       2\n",
       "RS 500 R                                  2\n",
       "eS2                                       2\n",
       "4T                                        2\n",
       "260                                       2\n",
       "K-9                                       2\n",
       "Jinlun                                    2\n",
       "Tango                                     2\n",
       "M+                                        2\n",
       "CK                                        2\n",
       "Ventus                                    2\n",
       "Superdual X                               2\n",
       "Quannon-KR Sport                          2\n",
       "Falco                                     2\n",
       "Lyda                                      2\n",
       "Ranger EV                                 2\n",
       "VX-1                                      2\n",
       "XPS SM                                    2\n",
       "Cityliner                                 2\n",
       "CT                                        2\n",
       "SM 125 R                                  2\n",
       "KV                                        2\n",
       "Ludix 2                                   2\n",
       "Ogar 900                                  2\n",
       "Sfera                                     2\n",
       "Skipper                                   2\n",
       "Brutale S                                 2\n",
       "TW                                        2\n",
       "XLV                                       2\n",
       "KMX                                       2\n",
       "Custom Low Rider                          2\n",
       "955                                       2\n",
       "CLR                                       2\n",
       "Jet C-tech                                2\n",
       "PRO RS 125                                1\n",
       "KL                                        1\n",
       "Tourist                                   1\n",
       "NKD                                       1\n",
       "Jet Max                                   1\n",
       "Planet                                    1\n",
       "XY                                        1\n",
       "Zing                                      1\n",
       "VZ-2                                      1\n",
       "KXR                                       1\n",
       "AE                                        1\n",
       "MRT SM                                    1\n",
       "GP500                                     1\n",
       "Heist                                     1\n",
       "Desmosedici                               1\n",
       "Hooligan                                  1\n",
       "122 Sport                                 1\n",
       "K-750                                     1\n",
       "Trackmaster                               1\n",
       "Bet & Win                                 1\n",
       "902                                       1\n",
       "Area                                      1\n",
       "Nova                                      1\n",
       "Excalibur 350                             1\n",
       "X11                                       1\n",
       "MXer                                      1\n",
       "Streetfighter 848                         1\n",
       "Hipster                                   1\n",
       "Mini                                      1\n",
       "Ovetto                                    1\n",
       "Stryker                                   1\n",
       "Tornado                                   1\n",
       "Zoomer                                    1\n",
       "RMX                                       1\n",
       "Hawkeye                                   1\n",
       "PARCO                                     1\n",
       "XLR                                       1\n",
       "Drakon                                    1\n",
       "125SM                                     1\n",
       "eS3                                       1\n",
       "851                                       1\n",
       "RS2                                       1\n",
       "Beluga                                    1\n",
       "GP1                                       1\n",
       "XRX                                       1\n",
       "Scooter                                   1\n",
       "Katana                                    1\n",
       "S200                                      1\n",
       "Otis                                      1\n",
       "Velvet                                    1\n",
       "Independent                               1\n",
       "CG                                        1\n",
       "SM 500 R                                  1\n",
       "996                                       1\n",
       "Skyliner                                  1\n",
       "XP 6                                      1\n",
       "TS                                        1\n",
       "Cross                                     1\n",
       "750                                       1\n",
       "FS                                        1\n",
       "Super                                     1\n",
       "GPR Nude                                  1\n",
       "T                                         1\n",
       "KZ                                        1\n",
       "Pacific                                   1\n",
       "Dink-Yager                                1\n",
       "Street Twin                               1\n",
       "ATV425                                    1\n",
       "Ry-8                                      1\n",
       "Volteno                                   1\n",
       "SP                                        1\n",
       "Buggy                                     1\n",
       "MRT Pro                                   1\n",
       "V-Clic                                    1\n",
       "Rally                                     1\n",
       "Piega                                     1\n",
       "BT49QT                                    1\n",
       "MT-11                                     1\n",
       "HS                                        1\n",
       "Kingpin                                   1\n",
       "MRT Pro SM                                1\n",
       "DJ                                        1\n",
       "Terminator                                1\n",
       "Atlantis                                  1\n",
       "BS150-2                                   1\n",
       "JR                                        1\n",
       "CN                                        1\n",
       "Traxter                                   1\n",
       "Buddy                                     1\n",
       "SMX                                       1\n",
       "Minicross                                 1\n",
       "Gladiator                                 1\n",
       "Commando                                  1\n",
       "850                                       1\n",
       "eS1                                       1\n",
       "Bellagio                                  1\n",
       "TRE                                       1\n",
       "Hurricane                                 1\n",
       "Vapor                                     1\n",
       "Cobra                                     1\n",
       "Express                                   1\n",
       "Estoc                                     1\n",
       "S-Five                                    1\n",
       "767                                       1\n",
       "DB                                        1\n",
       "Cruiser                                   1\n",
       "777                                       1\n",
       "XOR                                       1\n",
       "Trail Boss                                1\n",
       "Mastiff                                   1\n",
       "WRE                                       1\n",
       "Speed Twin                                1\n",
       "Raven LUX 125                             1\n",
       "VZ-3                                      1\n",
       "CUX                                       1\n",
       "ATV 250                                   1\n",
       "X6                                        1\n",
       "F409                                      1\n",
       "606-2                                     1\n",
       "ST2                                       1\n",
       "SXV                                       1\n",
       "Roadster                                  1\n",
       "RF                                        1\n",
       "TS 350                                    1\n",
       "New Dink                                  1\n",
       "RST                                       1\n",
       "Pulsar-CK                                 1\n",
       "P                                         1\n",
       "Blast                                     1\n",
       "Fennari                                   1\n",
       "FL Duo Glide                              1\n",
       "Alp                                       1\n",
       "LML 151 - 4T                              1\n",
       "900                                       1\n",
       "Challenger                                1\n",
       "Dominator                                 1\n",
       "Birdie                                    1\n",
       "A                                         1\n",
       "Maxster                                   1\n",
       "Qute                                      1\n",
       "DNA                                       1\n",
       "CX                                        1\n",
       "Apollo                                    1\n",
       "BB                                        1\n",
       "Name: Model pojazdu, Length: 663, dtype: int64"
      ]
     },
     "execution_count": 166,
     "metadata": {},
     "output_type": "execute_result"
    }
   ],
   "source": [
    "dane['Model pojazdu'].value_counts(dropna=False)"
   ]
  },
  {
   "cell_type": "code",
   "execution_count": null,
   "metadata": {},
   "outputs": [],
   "source": []
  },
  {
   "cell_type": "code",
   "execution_count": 195,
   "metadata": {},
   "outputs": [
    {
     "data": {
      "text/plain": [
       "count     662.000000\n",
       "mean       25.734139\n",
       "std        90.570500\n",
       "min         1.000000\n",
       "10%         1.000000\n",
       "20%         1.000000\n",
       "30%         2.000000\n",
       "40%         3.000000\n",
       "50%         5.000000\n",
       "60%         9.000000\n",
       "70%        15.000000\n",
       "80%        27.000000\n",
       "90%        62.000000\n",
       "100%     2015.000000\n",
       "max      2015.000000\n",
       "Name: Model pojazdu, dtype: float64"
      ]
     },
     "execution_count": 195,
     "metadata": {},
     "output_type": "execute_result"
    }
   ],
   "source": [
    "dane['Model pojazdu'].value_counts().describe(percentiles=[x/10 for x in range(1,11)])"
   ]
  },
  {
   "cell_type": "code",
   "execution_count": null,
   "metadata": {},
   "outputs": [],
   "source": []
  },
  {
   "cell_type": "code",
   "execution_count": null,
   "metadata": {},
   "outputs": [],
   "source": []
  },
  {
   "cell_type": "code",
   "execution_count": 196,
   "metadata": {},
   "outputs": [
    {
     "data": {
      "text/html": [
       "<div>\n",
       "<style scoped>\n",
       "    .dataframe tbody tr th:only-of-type {\n",
       "        vertical-align: middle;\n",
       "    }\n",
       "\n",
       "    .dataframe tbody tr th {\n",
       "        vertical-align: top;\n",
       "    }\n",
       "\n",
       "    .dataframe thead th {\n",
       "        text-align: right;\n",
       "    }\n",
       "</style>\n",
       "<table border=\"1\" class=\"dataframe\">\n",
       "  <thead>\n",
       "    <tr style=\"text-align: right;\">\n",
       "      <th></th>\n",
       "      <th>Bezwypadkowy</th>\n",
       "      <th>Cena</th>\n",
       "      <th>Faktura VAT</th>\n",
       "      <th>Kategoria</th>\n",
       "      <th>Kolor</th>\n",
       "      <th>Kraj pochodzenia</th>\n",
       "      <th>Leasing</th>\n",
       "      <th>Liczba pozostałych rat</th>\n",
       "      <th>Link</th>\n",
       "      <th>Lokalizacja</th>\n",
       "      <th>Marka pojazdu</th>\n",
       "      <th>Matowy</th>\n",
       "      <th>Metalik</th>\n",
       "      <th>Miesięczna rata</th>\n",
       "      <th>Moc</th>\n",
       "      <th>Model pojazdu</th>\n",
       "      <th>Możliwość finansowania</th>\n",
       "      <th>Numer rejestracyjny pojazdu</th>\n",
       "      <th>Oferta od</th>\n",
       "      <th>Opłata początkowa</th>\n",
       "      <th>Perłowy</th>\n",
       "      <th>Pierwsza rejestracja</th>\n",
       "      <th>Pierwszy właściciel</th>\n",
       "      <th>Pojemność skokowa</th>\n",
       "      <th>Przebieg</th>\n",
       "      <th>Rodzaj napędu</th>\n",
       "      <th>Rodzaj paliwa</th>\n",
       "      <th>Serwisowany w ASO</th>\n",
       "      <th>Skrzynia biegów</th>\n",
       "      <th>Stan</th>\n",
       "      <th>Tuning</th>\n",
       "      <th>Typ</th>\n",
       "      <th>Typ Silnika</th>\n",
       "      <th>Uszkodzony</th>\n",
       "      <th>VAT marża</th>\n",
       "      <th>VIN</th>\n",
       "      <th>Waluta</th>\n",
       "      <th>Wartość wykupu</th>\n",
       "      <th>Zarejestrowany jako zabytek</th>\n",
       "      <th>Zarejestrowany w Polsce</th>\n",
       "      <th>Wiek pojazdu</th>\n",
       "    </tr>\n",
       "  </thead>\n",
       "  <tbody>\n",
       "    <tr>\n",
       "      <th>0</th>\n",
       "      <td>NaN</td>\n",
       "      <td>6800.0</td>\n",
       "      <td>NaN</td>\n",
       "      <td>Motocykle</td>\n",
       "      <td>Niebieski</td>\n",
       "      <td>Niemcy</td>\n",
       "      <td>NaN</td>\n",
       "      <td>NaN</td>\n",
       "      <td>https://www.otomoto.pl/oferta/suzuki-xf-suzuki...</td>\n",
       "      <td>CISOWA 17 - 83-250 Skarszewy, starogardzki, Po...</td>\n",
       "      <td>Suzuki</td>\n",
       "      <td>NaN</td>\n",
       "      <td>Tak</td>\n",
       "      <td>NaN</td>\n",
       "      <td>37.0</td>\n",
       "      <td>XF</td>\n",
       "      <td>NaN</td>\n",
       "      <td>NaN</td>\n",
       "      <td>Firmy</td>\n",
       "      <td>NaN</td>\n",
       "      <td>NaN</td>\n",
       "      <td>NaN</td>\n",
       "      <td>NaN</td>\n",
       "      <td>680.0</td>\n",
       "      <td>60000.0</td>\n",
       "      <td>Łańcuch</td>\n",
       "      <td>Benzyna</td>\n",
       "      <td>NaN</td>\n",
       "      <td>Manualna</td>\n",
       "      <td>Używane</td>\n",
       "      <td>NaN</td>\n",
       "      <td>Enduro</td>\n",
       "      <td>Czterosuwowy</td>\n",
       "      <td>NaN</td>\n",
       "      <td>Tak</td>\n",
       "      <td>NaN</td>\n",
       "      <td>PLN</td>\n",
       "      <td>NaN</td>\n",
       "      <td>NaN</td>\n",
       "      <td>NaN</td>\n",
       "      <td>19</td>\n",
       "    </tr>\n",
       "    <tr>\n",
       "      <th>1</th>\n",
       "      <td>Tak</td>\n",
       "      <td>19500.0</td>\n",
       "      <td>NaN</td>\n",
       "      <td>Motocykle</td>\n",
       "      <td>Niebieski</td>\n",
       "      <td>Niemcy</td>\n",
       "      <td>NaN</td>\n",
       "      <td>NaN</td>\n",
       "      <td>https://www.otomoto.pl/oferta/suzuki-gsx-1250-...</td>\n",
       "      <td>Podańsko, goleniowski, Zachodniopomorskie</td>\n",
       "      <td>Suzuki</td>\n",
       "      <td>NaN</td>\n",
       "      <td>Tak</td>\n",
       "      <td>NaN</td>\n",
       "      <td>98.0</td>\n",
       "      <td>GSX</td>\n",
       "      <td>NaN</td>\n",
       "      <td>NaN</td>\n",
       "      <td>Osoby prywatnej</td>\n",
       "      <td>NaN</td>\n",
       "      <td>NaN</td>\n",
       "      <td>4 sierpień 2010</td>\n",
       "      <td>NaN</td>\n",
       "      <td>1255.0</td>\n",
       "      <td>30900.0</td>\n",
       "      <td>Łańcuch</td>\n",
       "      <td>Benzyna</td>\n",
       "      <td>Tak</td>\n",
       "      <td>Manualna</td>\n",
       "      <td>Używane</td>\n",
       "      <td>NaN</td>\n",
       "      <td>Turystyczny</td>\n",
       "      <td>Czterosuwowy</td>\n",
       "      <td>NaN</td>\n",
       "      <td>NaN</td>\n",
       "      <td>NaN</td>\n",
       "      <td>PLN</td>\n",
       "      <td>NaN</td>\n",
       "      <td>NaN</td>\n",
       "      <td>NaN</td>\n",
       "      <td>9</td>\n",
       "    </tr>\n",
       "    <tr>\n",
       "      <th>2</th>\n",
       "      <td>Tak</td>\n",
       "      <td>11500.0</td>\n",
       "      <td>NaN</td>\n",
       "      <td>Motocykle</td>\n",
       "      <td>Szary</td>\n",
       "      <td>Francja</td>\n",
       "      <td>NaN</td>\n",
       "      <td>NaN</td>\n",
       "      <td>https://www.otomoto.pl/oferta/kymco-kymco-125-...</td>\n",
       "      <td>Rąbień, gm. Aleksandrów Łódzki, zgierski, Łódzkie</td>\n",
       "      <td>Kymco</td>\n",
       "      <td>NaN</td>\n",
       "      <td>Tak</td>\n",
       "      <td>NaN</td>\n",
       "      <td>15.0</td>\n",
       "      <td>Inny</td>\n",
       "      <td>NaN</td>\n",
       "      <td>NaN</td>\n",
       "      <td>Osoby prywatnej</td>\n",
       "      <td>NaN</td>\n",
       "      <td>NaN</td>\n",
       "      <td>NaN</td>\n",
       "      <td>Tak</td>\n",
       "      <td>125.0</td>\n",
       "      <td>5400.0</td>\n",
       "      <td>Pas napędowy</td>\n",
       "      <td>Benzyna</td>\n",
       "      <td>NaN</td>\n",
       "      <td>Automatyczna</td>\n",
       "      <td>Używane</td>\n",
       "      <td>NaN</td>\n",
       "      <td>Skuter</td>\n",
       "      <td>Czterosuwowy</td>\n",
       "      <td>NaN</td>\n",
       "      <td>Tak</td>\n",
       "      <td>NaN</td>\n",
       "      <td>PLN</td>\n",
       "      <td>NaN</td>\n",
       "      <td>NaN</td>\n",
       "      <td>NaN</td>\n",
       "      <td>2</td>\n",
       "    </tr>\n",
       "    <tr>\n",
       "      <th>3</th>\n",
       "      <td>Tak</td>\n",
       "      <td>49000.0</td>\n",
       "      <td>NaN</td>\n",
       "      <td>Motocykle</td>\n",
       "      <td>Inny kolor</td>\n",
       "      <td>NaN</td>\n",
       "      <td>NaN</td>\n",
       "      <td>NaN</td>\n",
       "      <td>https://www.otomoto.pl/oferta/harley-davidson-...</td>\n",
       "      <td>Górczewska 30 - 01-147 Warszawa, Mazowieckie (...</td>\n",
       "      <td>Harley-Davidson</td>\n",
       "      <td>NaN</td>\n",
       "      <td>Tak</td>\n",
       "      <td>NaN</td>\n",
       "      <td>70.0</td>\n",
       "      <td>Sportster</td>\n",
       "      <td>Tak</td>\n",
       "      <td>NaN</td>\n",
       "      <td>Firmy</td>\n",
       "      <td>NaN</td>\n",
       "      <td>NaN</td>\n",
       "      <td>NaN</td>\n",
       "      <td>NaN</td>\n",
       "      <td>1202.0</td>\n",
       "      <td>1.0</td>\n",
       "      <td>Pas napędowy</td>\n",
       "      <td>Benzyna</td>\n",
       "      <td>NaN</td>\n",
       "      <td>NaN</td>\n",
       "      <td>Nowe</td>\n",
       "      <td>NaN</td>\n",
       "      <td>Cruiser</td>\n",
       "      <td>Czterosuwowy</td>\n",
       "      <td>NaN</td>\n",
       "      <td>NaN</td>\n",
       "      <td>NaN</td>\n",
       "      <td>PLN</td>\n",
       "      <td>NaN</td>\n",
       "      <td>NaN</td>\n",
       "      <td>NaN</td>\n",
       "      <td>0</td>\n",
       "    </tr>\n",
       "    <tr>\n",
       "      <th>4</th>\n",
       "      <td>Tak</td>\n",
       "      <td>6900.0</td>\n",
       "      <td>NaN</td>\n",
       "      <td>Motocykle</td>\n",
       "      <td>Czarny</td>\n",
       "      <td>Niemcy</td>\n",
       "      <td>NaN</td>\n",
       "      <td>NaN</td>\n",
       "      <td>https://www.otomoto.pl/oferta/honda-cbr-honda-...</td>\n",
       "      <td>Szamotuły,Gaj Mały 114B - 64-520 Szamotuły, sz...</td>\n",
       "      <td>Honda</td>\n",
       "      <td>NaN</td>\n",
       "      <td>NaN</td>\n",
       "      <td>NaN</td>\n",
       "      <td>14.0</td>\n",
       "      <td>CBR</td>\n",
       "      <td>NaN</td>\n",
       "      <td>NaN</td>\n",
       "      <td>Firmy</td>\n",
       "      <td>NaN</td>\n",
       "      <td>NaN</td>\n",
       "      <td>NaN</td>\n",
       "      <td>NaN</td>\n",
       "      <td>125.0</td>\n",
       "      <td>26000.0</td>\n",
       "      <td>Łańcuch</td>\n",
       "      <td>Benzyna</td>\n",
       "      <td>NaN</td>\n",
       "      <td>Manualna</td>\n",
       "      <td>Używane</td>\n",
       "      <td>NaN</td>\n",
       "      <td>Sportowy</td>\n",
       "      <td>NaN</td>\n",
       "      <td>NaN</td>\n",
       "      <td>NaN</td>\n",
       "      <td>NaN</td>\n",
       "      <td>PLN</td>\n",
       "      <td>NaN</td>\n",
       "      <td>NaN</td>\n",
       "      <td>Tak</td>\n",
       "      <td>12</td>\n",
       "    </tr>\n",
       "  </tbody>\n",
       "</table>\n",
       "</div>"
      ],
      "text/plain": [
       "  Bezwypadkowy     Cena Faktura VAT  Kategoria       Kolor Kraj pochodzenia  \\\n",
       "0          NaN   6800.0         NaN  Motocykle   Niebieski           Niemcy   \n",
       "1          Tak  19500.0         NaN  Motocykle   Niebieski           Niemcy   \n",
       "2          Tak  11500.0         NaN  Motocykle       Szary          Francja   \n",
       "3          Tak  49000.0         NaN  Motocykle  Inny kolor              NaN   \n",
       "4          Tak   6900.0         NaN  Motocykle      Czarny           Niemcy   \n",
       "\n",
       "  Leasing Liczba pozostałych rat  \\\n",
       "0     NaN                    NaN   \n",
       "1     NaN                    NaN   \n",
       "2     NaN                    NaN   \n",
       "3     NaN                    NaN   \n",
       "4     NaN                    NaN   \n",
       "\n",
       "                                                Link  \\\n",
       "0  https://www.otomoto.pl/oferta/suzuki-xf-suzuki...   \n",
       "1  https://www.otomoto.pl/oferta/suzuki-gsx-1250-...   \n",
       "2  https://www.otomoto.pl/oferta/kymco-kymco-125-...   \n",
       "3  https://www.otomoto.pl/oferta/harley-davidson-...   \n",
       "4  https://www.otomoto.pl/oferta/honda-cbr-honda-...   \n",
       "\n",
       "                                         Lokalizacja    Marka pojazdu Matowy  \\\n",
       "0  CISOWA 17 - 83-250 Skarszewy, starogardzki, Po...           Suzuki    NaN   \n",
       "1          Podańsko, goleniowski, Zachodniopomorskie           Suzuki    NaN   \n",
       "2  Rąbień, gm. Aleksandrów Łódzki, zgierski, Łódzkie            Kymco    NaN   \n",
       "3  Górczewska 30 - 01-147 Warszawa, Mazowieckie (...  Harley-Davidson    NaN   \n",
       "4  Szamotuły,Gaj Mały 114B - 64-520 Szamotuły, sz...            Honda    NaN   \n",
       "\n",
       "  Metalik Miesięczna rata   Moc Model pojazdu Możliwość finansowania  \\\n",
       "0     Tak             NaN  37.0            XF                    NaN   \n",
       "1     Tak             NaN  98.0           GSX                    NaN   \n",
       "2     Tak             NaN  15.0          Inny                    NaN   \n",
       "3     Tak             NaN  70.0     Sportster                    Tak   \n",
       "4     NaN             NaN  14.0           CBR                    NaN   \n",
       "\n",
       "  Numer rejestracyjny pojazdu        Oferta od Opłata początkowa Perłowy  \\\n",
       "0                         NaN            Firmy               NaN     NaN   \n",
       "1                         NaN  Osoby prywatnej               NaN     NaN   \n",
       "2                         NaN  Osoby prywatnej               NaN     NaN   \n",
       "3                         NaN            Firmy               NaN     NaN   \n",
       "4                         NaN            Firmy               NaN     NaN   \n",
       "\n",
       "  Pierwsza rejestracja Pierwszy właściciel  Pojemność skokowa  Przebieg  \\\n",
       "0                  NaN                 NaN              680.0   60000.0   \n",
       "1      4 sierpień 2010                 NaN             1255.0   30900.0   \n",
       "2                  NaN                 Tak              125.0    5400.0   \n",
       "3                  NaN                 NaN             1202.0       1.0   \n",
       "4                  NaN                 NaN              125.0   26000.0   \n",
       "\n",
       "  Rodzaj napędu Rodzaj paliwa Serwisowany w ASO Skrzynia biegów     Stan  \\\n",
       "0       Łańcuch       Benzyna               NaN        Manualna  Używane   \n",
       "1       Łańcuch       Benzyna               Tak        Manualna  Używane   \n",
       "2  Pas napędowy       Benzyna               NaN    Automatyczna  Używane   \n",
       "3  Pas napędowy       Benzyna               NaN             NaN     Nowe   \n",
       "4       Łańcuch       Benzyna               NaN        Manualna  Używane   \n",
       "\n",
       "  Tuning          Typ   Typ Silnika Uszkodzony VAT marża  VIN Waluta  \\\n",
       "0    NaN       Enduro  Czterosuwowy        NaN       Tak  NaN    PLN   \n",
       "1    NaN  Turystyczny  Czterosuwowy        NaN       NaN  NaN    PLN   \n",
       "2    NaN       Skuter  Czterosuwowy        NaN       Tak  NaN    PLN   \n",
       "3    NaN      Cruiser  Czterosuwowy        NaN       NaN  NaN    PLN   \n",
       "4    NaN     Sportowy           NaN        NaN       NaN  NaN    PLN   \n",
       "\n",
       "  Wartość wykupu Zarejestrowany jako zabytek Zarejestrowany w Polsce  \\\n",
       "0            NaN                         NaN                     NaN   \n",
       "1            NaN                         NaN                     NaN   \n",
       "2            NaN                         NaN                     NaN   \n",
       "3            NaN                         NaN                     NaN   \n",
       "4            NaN                         NaN                     Tak   \n",
       "\n",
       "   Wiek pojazdu  \n",
       "0            19  \n",
       "1             9  \n",
       "2             2  \n",
       "3             0  \n",
       "4            12  "
      ]
     },
     "execution_count": 196,
     "metadata": {},
     "output_type": "execute_result"
    }
   ],
   "source": [
    "dane.head()"
   ]
  },
  {
   "cell_type": "code",
   "execution_count": 210,
   "metadata": {},
   "outputs": [
    {
     "data": {
      "text/html": [
       "<div>\n",
       "<style scoped>\n",
       "    .dataframe tbody tr th:only-of-type {\n",
       "        vertical-align: middle;\n",
       "    }\n",
       "\n",
       "    .dataframe tbody tr th {\n",
       "        vertical-align: top;\n",
       "    }\n",
       "\n",
       "    .dataframe thead th {\n",
       "        text-align: right;\n",
       "    }\n",
       "</style>\n",
       "<table border=\"1\" class=\"dataframe\">\n",
       "  <thead>\n",
       "    <tr style=\"text-align: right;\">\n",
       "      <th></th>\n",
       "      <th>Marka pojazdu</th>\n",
       "      <th>Model pojazdu</th>\n",
       "      <th>Cena</th>\n",
       "      <th>Przebieg</th>\n",
       "      <th>Moc</th>\n",
       "    </tr>\n",
       "  </thead>\n",
       "  <tbody>\n",
       "    <tr>\n",
       "      <th>0</th>\n",
       "      <td>Suzuki</td>\n",
       "      <td>XF</td>\n",
       "      <td>6800.0</td>\n",
       "      <td>60000.0</td>\n",
       "      <td>37.0</td>\n",
       "    </tr>\n",
       "    <tr>\n",
       "      <th>1</th>\n",
       "      <td>Suzuki</td>\n",
       "      <td>GSX</td>\n",
       "      <td>19500.0</td>\n",
       "      <td>30900.0</td>\n",
       "      <td>98.0</td>\n",
       "    </tr>\n",
       "    <tr>\n",
       "      <th>2</th>\n",
       "      <td>Kymco</td>\n",
       "      <td>Inny</td>\n",
       "      <td>11500.0</td>\n",
       "      <td>5400.0</td>\n",
       "      <td>15.0</td>\n",
       "    </tr>\n",
       "    <tr>\n",
       "      <th>3</th>\n",
       "      <td>Harley-Davidson</td>\n",
       "      <td>Sportster</td>\n",
       "      <td>49000.0</td>\n",
       "      <td>1.0</td>\n",
       "      <td>70.0</td>\n",
       "    </tr>\n",
       "    <tr>\n",
       "      <th>4</th>\n",
       "      <td>Honda</td>\n",
       "      <td>CBR</td>\n",
       "      <td>6900.0</td>\n",
       "      <td>26000.0</td>\n",
       "      <td>14.0</td>\n",
       "    </tr>\n",
       "  </tbody>\n",
       "</table>\n",
       "</div>"
      ],
      "text/plain": [
       "     Marka pojazdu Model pojazdu     Cena  Przebieg   Moc\n",
       "0           Suzuki            XF   6800.0   60000.0  37.0\n",
       "1           Suzuki           GSX  19500.0   30900.0  98.0\n",
       "2            Kymco          Inny  11500.0    5400.0  15.0\n",
       "3  Harley-Davidson     Sportster  49000.0       1.0  70.0\n",
       "4            Honda           CBR   6900.0   26000.0  14.0"
      ]
     },
     "execution_count": 210,
     "metadata": {},
     "output_type": "execute_result"
    }
   ],
   "source": [
    "df = dane[['Marka pojazdu','Model pojazdu','Cena','Przebieg','Moc']]\n",
    "df.head()"
   ]
  },
  {
   "cell_type": "code",
   "execution_count": 212,
   "metadata": {},
   "outputs": [],
   "source": [
    "g = df.groupby('Marka pojazdu')"
   ]
  },
  {
   "cell_type": "code",
   "execution_count": 243,
   "metadata": {},
   "outputs": [
    {
     "data": {
      "text/plain": [
       "813"
      ]
     },
     "execution_count": 243,
     "metadata": {},
     "output_type": "execute_result"
    }
   ],
   "source": [
    "g['Model pojazdu'].nunique().sum()"
   ]
  },
  {
   "cell_type": "code",
   "execution_count": 247,
   "metadata": {},
   "outputs": [
    {
     "data": {
      "text/plain": [
       "(114,)"
      ]
     },
     "execution_count": 247,
     "metadata": {},
     "output_type": "execute_result"
    }
   ],
   "source": [
    "df['Marka pojazdu'].unique().shape"
   ]
  },
  {
   "cell_type": "code",
   "execution_count": 248,
   "metadata": {},
   "outputs": [
    {
     "data": {
      "text/plain": [
       "(663,)"
      ]
     },
     "execution_count": 248,
     "metadata": {},
     "output_type": "execute_result"
    }
   ],
   "source": [
    "df['Model pojazdu'].unique().shape"
   ]
  },
  {
   "cell_type": "code",
   "execution_count": null,
   "metadata": {},
   "outputs": [],
   "source": []
  },
  {
   "cell_type": "code",
   "execution_count": null,
   "metadata": {},
   "outputs": [],
   "source": []
  },
  {
   "cell_type": "code",
   "execution_count": null,
   "metadata": {},
   "outputs": [],
   "source": []
  },
  {
   "cell_type": "code",
   "execution_count": null,
   "metadata": {},
   "outputs": [],
   "source": []
  }
 ],
 "metadata": {
  "kernelspec": {
   "display_name": "Python 3",
   "language": "python",
   "name": "python3"
  },
  "language_info": {
   "codemirror_mode": {
    "name": "ipython",
    "version": 3
   },
   "file_extension": ".py",
   "mimetype": "text/x-python",
   "name": "python",
   "nbconvert_exporter": "python",
   "pygments_lexer": "ipython3",
   "version": "3.7.3"
  }
 },
 "nbformat": 4,
 "nbformat_minor": 2
}
